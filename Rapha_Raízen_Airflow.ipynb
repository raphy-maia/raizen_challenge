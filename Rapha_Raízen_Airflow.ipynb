{
  "nbformat": 4,
  "nbformat_minor": 0,
  "metadata": {
    "colab": {
      "provenance": []
    },
    "kernelspec": {
      "name": "python3",
      "display_name": "Python 3"
    },
    "language_info": {
      "name": "python"
    }
  },
  "cells": [
    {
      "cell_type": "markdown",
      "source": [
        "#### Desafio Raízen | ANP Fuel Sales ETL Test\n",
        "# RAPHAELA LEAL MAIA DE CASTRO\n"
      ],
      "metadata": {
        "id": "J25pTtVwNRZO"
      }
    },
    {
      "cell_type": "markdown",
      "source": [
        "# Requisitos"
      ],
      "metadata": {
        "id": "_HMlKPlFRb7j"
      }
    },
    {
      "cell_type": "markdown",
      "source": [
        "- [X] Ser capaz de abrir e/ou converter o arquivo XLM para iniciar o tratamento.\n",
        "- [ ] Desenvolver uma pipeline ETL com as colunas:  \n",
        ">  - [ ] Vendas de combustíveis derivados de petróleo por UF e produto\n",
        ">  - [ ] Vendas de diesel por UF e tipo\n",
        "- [X] Armazenar os dados de acordo com o schema a seguir:\n",
        "\n",
        "> |Column\t     |    Type    |\n",
        "  |:---------- |-----------:|\n",
        "  |year_month  |\tdate      |\n",
        "  |uf          | \tstring    |\n",
        "  |product\t   |  string    |\n",
        "  |unit\t       |  string    |\n",
        "  |volume\t     |  double    |\n",
        "  |created_at\t |  timestamp |\n",
        "\n",
        "  - [ ]  Adicionar etapas para checar se a pipeline extrai os dados de maneira consistente em relação aos dados consolidados nas tabelas brutas. \n",
        " \n",
        "\n",
        "[Github com link do dataset](https://github.com/raizen-analytics/data-engineering-test/raw/master/assets/vendas-combustiveis-m3.xls)"
      ],
      "metadata": {
        "id": "3L5Es8uYRhGk"
      }
    },
    {
      "cell_type": "markdown",
      "source": [
        "# Instalação de bibliotecas\n"
      ],
      "metadata": {
        "id": "RZuqCMWcDat1"
      }
    },
    {
      "cell_type": "code",
      "execution_count": null,
      "metadata": {
        "id": "TrpOAFB5B5WM"
      },
      "outputs": [],
      "source": [
        "# A biblioteca Cloud Storage permitirá a conexão entre o PySpark, o Pandas e o Bucket que está no Cloud Storage.\n",
        "\n",
        "!pip install -q gcsfs"
      ]
    },
    {
      "cell_type": "code",
      "source": [
        "!pip list |grep xlrd"
      ],
      "metadata": {
        "colab": {
          "base_uri": "https://localhost:8080/"
        },
        "id": "QTy5BlmNRZQ7",
        "outputId": "2009a9a4-05b0-4cd7-bbd4-255dbd46e60e"
      },
      "execution_count": null,
      "outputs": [
        {
          "output_type": "stream",
          "name": "stdout",
          "text": [
            "xlrd                          1.1.0\n"
          ]
        }
      ]
    },
    {
      "cell_type": "code",
      "source": [
        "# O código a seguir foi comentado após o upgrade para evitar erros.\n",
        "\n",
        "#!pip install --upgrade xlrd==1.2.0"
      ],
      "metadata": {
        "id": "CRP0LUu4Suwd"
      },
      "execution_count": null,
      "outputs": []
    },
    {
      "cell_type": "code",
      "source": [
        "# Instalação do Pandera para validação de schema no Pandas.\n",
        "\n",
        "!pip install -q pandera"
      ],
      "metadata": {
        "id": "ntqeppbUE9RR",
        "colab": {
          "base_uri": "https://localhost:8080/"
        },
        "outputId": "b6d9d094-cdb8-4739-9735-88ca6a33318a"
      },
      "execution_count": null,
      "outputs": [
        {
          "output_type": "stream",
          "name": "stdout",
          "text": [
            "\u001b[?25l\r\u001b[K     |█▋                              | 10 kB 9.4 MB/s eta 0:00:01\r\u001b[K     |███▎                            | 20 kB 3.5 MB/s eta 0:00:01\r\u001b[K     |█████                           | 30 kB 5.1 MB/s eta 0:00:01\r\u001b[K     |██████▋                         | 40 kB 2.5 MB/s eta 0:00:01\r\u001b[K     |████████▎                       | 51 kB 2.7 MB/s eta 0:00:01\r\u001b[K     |██████████                      | 61 kB 3.2 MB/s eta 0:00:01\r\u001b[K     |███████████▋                    | 71 kB 3.4 MB/s eta 0:00:01\r\u001b[K     |█████████████▎                  | 81 kB 3.8 MB/s eta 0:00:01\r\u001b[K     |███████████████                 | 92 kB 4.0 MB/s eta 0:00:01\r\u001b[K     |████████████████▋               | 102 kB 3.2 MB/s eta 0:00:01\r\u001b[K     |██████████████████▎             | 112 kB 3.2 MB/s eta 0:00:01\r\u001b[K     |███████████████████▉            | 122 kB 3.2 MB/s eta 0:00:01\r\u001b[K     |█████████████████████▌          | 133 kB 3.2 MB/s eta 0:00:01\r\u001b[K     |███████████████████████▏        | 143 kB 3.2 MB/s eta 0:00:01\r\u001b[K     |████████████████████████▉       | 153 kB 3.2 MB/s eta 0:00:01\r\u001b[K     |██████████████████████████▌     | 163 kB 3.2 MB/s eta 0:00:01\r\u001b[K     |████████████████████████████▏   | 174 kB 3.2 MB/s eta 0:00:01\r\u001b[K     |█████████████████████████████▉  | 184 kB 3.2 MB/s eta 0:00:01\r\u001b[K     |███████████████████████████████▌| 194 kB 3.2 MB/s eta 0:00:01\r\u001b[K     |████████████████████████████████| 197 kB 3.2 MB/s \n",
            "\u001b[?25h"
          ]
        }
      ]
    },
    {
      "cell_type": "code",
      "source": [
        "# Instalação do pacote libreoffice (uma espécie de pacote office para Linux) para realizar a conversão do arquivo xls para xlsx.\n",
        "\n",
        "!sudo apt-get install --no-install-recommends libreoffice"
      ],
      "metadata": {
        "id": "tBaaA5uxgiuo"
      },
      "execution_count": null,
      "outputs": []
    },
    {
      "cell_type": "markdown",
      "source": [
        "# Importação de bibliotecas"
      ],
      "metadata": {
        "id": "LeWhRIOiDuGX"
      }
    },
    {
      "cell_type": "code",
      "source": [
        "#Importação das bibliotecas Cloud Storage. \n",
        "# A library 'os' serve para o python acessar o sistema operacional.\n",
        "\n",
        "from google.cloud import storage\n",
        "import os "
      ],
      "metadata": {
        "id": "O09my-9PDzzQ"
      },
      "execution_count": null,
      "outputs": []
    },
    {
      "cell_type": "code",
      "source": [
        "# Importar a autenticação de usuários registrados no projeto, diretamente.\n",
        "# Este é um método nativo da Google, muito seguro para autenticação, pois apenas usuários autorizados na plataforma gcp conseguem acessar. \n",
        "# Por não utilizar chaves, também não corre o risco de essas chaves \"vazarem\".\n",
        "\n",
        "from google.colab import auth\n",
        "auth.authenticate_user()"
      ],
      "metadata": {
        "id": "ypMfl16gD1vT"
      },
      "execution_count": null,
      "outputs": []
    },
    {
      "cell_type": "code",
      "source": [
        "# Importação Pandas, Numpy e Pandera.\n",
        "\n",
        "import pandas as pd\n",
        "import numpy as np\n",
        "import pandera as pa"
      ],
      "metadata": {
        "id": "GoJhcywFFbIs"
      },
      "execution_count": null,
      "outputs": []
    },
    {
      "cell_type": "code",
      "source": [
        "import xlrd"
      ],
      "metadata": {
        "id": "Hikel77iSw5L"
      },
      "execution_count": null,
      "outputs": []
    },
    {
      "cell_type": "code",
      "source": [
        "# Importação da library Subprocess, que serve para abrir o LibreOffice por dentro do Python (abrir um programa via Python).\n",
        "\n",
        "import subprocess"
      ],
      "metadata": {
        "id": "Z_-q8Y5PhFab"
      },
      "execution_count": null,
      "outputs": []
    },
    {
      "cell_type": "code",
      "source": [
        "from datetime import datetime"
      ],
      "metadata": {
        "id": "n0Hs69Kb5u_q"
      },
      "execution_count": null,
      "outputs": []
    },
    {
      "cell_type": "markdown",
      "source": [
        "# Configuração de autenticação para o bucket\n",
        "\n",
        "```\n",
        "Na GCP, foi criado um novo bucket (nomeado \"datalake-raizen\"). O dataset original foi enviado a esse datalake.\n",
        "Não foi necessário criar uma service account, pois toda a autenticação de acesso é realizada por meio do Google Auth \n",
        "e somente usuários autorizados na plataforma gcp conseguem acessar, elevando a segurança do projeto.\n",
        "\n",
        "```\n",
        "\n",
        "\n"
      ],
      "metadata": {
        "id": "yf3LpWskDfQ8"
      }
    },
    {
      "cell_type": "markdown",
      "source": [
        "# Client para o bucket"
      ],
      "metadata": {
        "id": "6KCuRYLpD_be"
      }
    },
    {
      "cell_type": "code",
      "source": [
        "# Códigos de acesso ao bucket para criar um dataframe no PySpark (client).\n",
        "# O cliente é do Python, e também servirá para que o Pandas acesso os dados no bucket.\n",
        "\n",
        "# Criação de variável para receber o nome do bucket ('bucket').\n",
        "# Criação de uma variável para receber o caminho do arquivo ('path').\n",
        "\n",
        "client = storage.Client()\n",
        "bucket = client.get_bucket('datalake-raizen')\n",
        "path = 'gs://datalake-raizen/brutos/vendas-combustiveis-m3.xls'"
      ],
      "metadata": {
        "id": "0eW-moqUEC_m"
      },
      "execution_count": null,
      "outputs": []
    },
    {
      "cell_type": "markdown",
      "source": [
        "# Download do arquivo"
      ],
      "metadata": {
        "id": "MKSi_3J9e1Uy"
      }
    },
    {
      "cell_type": "code",
      "source": [
        "# A finalidade da função a seguir é baixar o arquivo a partir de um bucket. \n",
        "# Este código é encontrado na documentação oficial do Google, pronto para uso.\n",
        "\n",
        "def download_blob(bucket_name, source_blob_name, destination_file_name):\n",
        "    \"\"\"Downloads a blob from the bucket.\"\"\"\n",
        "    # The ID of your GCS bucket\n",
        "    # bucket_name = \"your-bucket-name\"\n",
        "\n",
        "    # The ID of your GCS object\n",
        "    # source_blob_name = \"storage-object-name\"\n",
        "\n",
        "    # The path to which the file should be downloaded\n",
        "    # destination_file_name = \"local/path/to/file\"\n",
        "\n",
        "    storage_client = storage.Client()\n",
        "\n",
        "    bucket = storage_client.bucket(bucket_name)\n",
        "\n",
        "    # Construct a client side representation of a blob.\n",
        "    # Note `Bucket.blob` differs from `Bucket.get_blob` as it doesn't retrieve\n",
        "    # any content from Google Cloud Storage. As we don't need additional data,\n",
        "    # using `Bucket.blob` is preferred here.\n",
        "    blob = bucket.blob(source_blob_name)\n",
        "    blob.download_to_filename(destination_file_name)\n",
        "\n",
        "    print(\n",
        "        \"Downloaded storage object {} from bucket {} to local file {}.\".format(\n",
        "            source_blob_name, bucket_name, destination_file_name\n",
        "        )\n",
        "    )\n"
      ],
      "metadata": {
        "id": "3rfK9PtD3U_6"
      },
      "execution_count": null,
      "outputs": []
    },
    {
      "cell_type": "code",
      "source": [
        "# Utilização da função anterior para baixar o arquivo diretamente do bucket criado.\n",
        "\n",
        "download_blob('datalake-raizen', 'brutos/vendas-combustiveis-m3.xls', 'vendas-combustiveis-m3.xls')"
      ],
      "metadata": {
        "colab": {
          "base_uri": "https://localhost:8080/"
        },
        "id": "X7Nva4gX4pVn",
        "outputId": "689c6133-c90e-47d3-eace-1ad1b876d60b"
      },
      "execution_count": null,
      "outputs": [
        {
          "output_type": "stream",
          "name": "stdout",
          "text": [
            "Downloaded storage object brutos/vendas-combustiveis-m3.xls from bucket datalake-raizen to local file vendas-combustiveis-m3.xls.\n"
          ]
        }
      ]
    },
    {
      "cell_type": "markdown",
      "source": [
        "# Transformação do arquivo para XLSX"
      ],
      "metadata": {
        "id": "9ATG6td2hi5L"
      }
    },
    {
      "cell_type": "code",
      "source": [
        "# 'proc' chama a execução do programa: ele recebe um subprocessso e inicializa e o Libreoffice, \n",
        "# que abre sem frontend, apenas para rodar a conversão do arquivo.\n",
        "# Em 'try', o subprocess vai tentar abrir o comando. Se funcionar, ele joga o arquivo em outs e deixa o erro vazio. Senão, a informação \n",
        "# vai para o erro, e o outs fica vazio.\n",
        "# Caso não rode, o subprocess vai tentar novamente sem o timeout (por meio do except). \n",
        "\n",
        "proc = subprocess.Popen(['libreoffice', '--headless', '--convert-to', 'xlsx', 'vendas-combustiveis-m3.xls', '--outdir', './converted/'])\n",
        "try:\n",
        "  outs, errs = proc.communicate(timeout=30)\n",
        "except TimeoutExpired:\n",
        "  proc.kill()\n",
        "  outs, errs = proc.communicate()\n",
        "\n",
        "# As documentações a seguir foram utilizadas para entender como utilizar o Subprocess e o LibreOffice. \n",
        "# https://www.digitalocean.com/community/tutorials/how-to-use-subprocess-to-run-external-programs-in-python-3\n",
        "# https://docs.python.org/3/library/subprocess.html\n",
        "# https://ourcodeworld.com/articles/read/867/how-to-convert-a-word-file-to-pdf-docx-to-pdf-in-libreoffice-with-the-cli-in-ubuntu-2004"
      ],
      "metadata": {
        "id": "UeI8QUn4hBbx"
      },
      "execution_count": null,
      "outputs": []
    },
    {
      "cell_type": "markdown",
      "source": [
        "# Criação de DFs com Pandas"
      ],
      "metadata": {
        "id": "cBnYbe3ebJrO"
      }
    },
    {
      "cell_type": "code",
      "source": [
        "# Criação dos DFs para cada uma das sheets (abas) do arquivo, exceto a primeira aba (0), que precisará de tratamento especial, posteriormente.\n",
        "\n",
        "df_s1 = pd.read_excel('converted/vendas-combustiveis-m3.xlsx', sheet_name=1)\n",
        "df_s2 = pd.read_excel('converted/vendas-combustiveis-m3.xlsx', sheet_name=2)\n",
        "df_s3 = pd.read_excel('converted/vendas-combustiveis-m3.xlsx', sheet_name=3)\n",
        "df_s4 = pd.read_excel('converted/vendas-combustiveis-m3.xlsx', sheet_name=4)\n",
        "df_s5 = pd.read_excel('converted/vendas-combustiveis-m3.xlsx', sheet_name=5)\n",
        "df_s6 = pd.read_excel('converted/vendas-combustiveis-m3.xlsx', sheet_name=6)"
      ],
      "metadata": {
        "id": "ZKTjhRqkwxOG"
      },
      "execution_count": null,
      "outputs": []
    },
    {
      "cell_type": "code",
      "source": [
        "# Criação dos DFs para cada uma das sheets (abas) do arquivo, exceto a primeira aba (0), que precisará de tratamento especial, posteriormente.\n",
        "\n",
        "\"\"\"\n",
        "def nomear_df(sheet_name):\n",
        "  df_s = pd.read_excel('converted/vendas-combustiveis-m3.xlsx', sheet_name=sheet_name) \n",
        "  return df_s\n",
        "\n",
        "for i in range(1,6):\n",
        "  nomear_df(i)\n",
        "\"\"\""
      ],
      "metadata": {
        "colab": {
          "base_uri": "https://localhost:8080/",
          "height": 53
        },
        "id": "_9Qg9H3bvjip",
        "outputId": "cbb6e788-8ac2-43fe-88ee-4e2efc067058"
      },
      "execution_count": null,
      "outputs": [
        {
          "output_type": "execute_result",
          "data": {
            "text/plain": [
              "\"\\ndef nomear_df(sheet_name):\\n  df_s = pd.read_excel('converted/vendas-combustiveis-m3.xlsx', sheet_name=sheet_name) \\n  return df_s\\n\\nfor i in range(1,6):\\n  nomear_df(i)\\n\""
            ],
            "application/vnd.google.colaboratory.intrinsic+json": {
              "type": "string"
            }
          },
          "metadata": {},
          "execution_count": 20
        }
      ]
    },
    {
      "cell_type": "markdown",
      "source": [
        "# Visualização dos DFs"
      ],
      "metadata": {
        "id": "hJiC-M2mzcdc"
      }
    },
    {
      "cell_type": "code",
      "source": [
        "# S1: combustíveis.\n",
        "\n",
        "df_s1.head(2)"
      ],
      "metadata": {
        "colab": {
          "base_uri": "https://localhost:8080/",
          "height": 211
        },
        "id": "ujYXqNVavEND",
        "outputId": "85152e2e-79f5-437f-983b-6453deafd6b8"
      },
      "execution_count": null,
      "outputs": [
        {
          "output_type": "execute_result",
          "data": {
            "text/plain": [
              "       COMBUSTÍVEL   ANO        REGIÃO    ESTADO         Jan        Fev  \\\n",
              "0  GASOLINA C (m3)  2000  REGIÃO NORTE  RONDÔNIA  136073.253   9563.263   \n",
              "1  GASOLINA C (m3)  2000  REGIÃO NORTE      ACRE    3358.346  40001.853   \n",
              "\n",
              "         Mar       Abr        Mai        Jun        Jul       Ago        Set  \\\n",
              "0  11341.229  9369.746  10719.983  11165.968  12312.451  11220.97  12482.281   \n",
              "1   3065.758  3495.290   2946.930   3023.920   3206.930   3612.58   3264.460   \n",
              "\n",
              "         Out        Nov        Dez      TOTAL  \n",
              "0  13591.122  11940.570  11547.576  10818.094  \n",
              "1   3835.740   3676.571   3225.610   3289.718  "
            ],
            "text/html": [
              "\n",
              "  <div id=\"df-deefa3a2-43d9-47fe-837c-7fb3a0b53707\">\n",
              "    <div class=\"colab-df-container\">\n",
              "      <div>\n",
              "<style scoped>\n",
              "    .dataframe tbody tr th:only-of-type {\n",
              "        vertical-align: middle;\n",
              "    }\n",
              "\n",
              "    .dataframe tbody tr th {\n",
              "        vertical-align: top;\n",
              "    }\n",
              "\n",
              "    .dataframe thead th {\n",
              "        text-align: right;\n",
              "    }\n",
              "</style>\n",
              "<table border=\"1\" class=\"dataframe\">\n",
              "  <thead>\n",
              "    <tr style=\"text-align: right;\">\n",
              "      <th></th>\n",
              "      <th>COMBUSTÍVEL</th>\n",
              "      <th>ANO</th>\n",
              "      <th>REGIÃO</th>\n",
              "      <th>ESTADO</th>\n",
              "      <th>Jan</th>\n",
              "      <th>Fev</th>\n",
              "      <th>Mar</th>\n",
              "      <th>Abr</th>\n",
              "      <th>Mai</th>\n",
              "      <th>Jun</th>\n",
              "      <th>Jul</th>\n",
              "      <th>Ago</th>\n",
              "      <th>Set</th>\n",
              "      <th>Out</th>\n",
              "      <th>Nov</th>\n",
              "      <th>Dez</th>\n",
              "      <th>TOTAL</th>\n",
              "    </tr>\n",
              "  </thead>\n",
              "  <tbody>\n",
              "    <tr>\n",
              "      <th>0</th>\n",
              "      <td>GASOLINA C (m3)</td>\n",
              "      <td>2000</td>\n",
              "      <td>REGIÃO NORTE</td>\n",
              "      <td>RONDÔNIA</td>\n",
              "      <td>136073.253</td>\n",
              "      <td>9563.263</td>\n",
              "      <td>11341.229</td>\n",
              "      <td>9369.746</td>\n",
              "      <td>10719.983</td>\n",
              "      <td>11165.968</td>\n",
              "      <td>12312.451</td>\n",
              "      <td>11220.97</td>\n",
              "      <td>12482.281</td>\n",
              "      <td>13591.122</td>\n",
              "      <td>11940.570</td>\n",
              "      <td>11547.576</td>\n",
              "      <td>10818.094</td>\n",
              "    </tr>\n",
              "    <tr>\n",
              "      <th>1</th>\n",
              "      <td>GASOLINA C (m3)</td>\n",
              "      <td>2000</td>\n",
              "      <td>REGIÃO NORTE</td>\n",
              "      <td>ACRE</td>\n",
              "      <td>3358.346</td>\n",
              "      <td>40001.853</td>\n",
              "      <td>3065.758</td>\n",
              "      <td>3495.290</td>\n",
              "      <td>2946.930</td>\n",
              "      <td>3023.920</td>\n",
              "      <td>3206.930</td>\n",
              "      <td>3612.58</td>\n",
              "      <td>3264.460</td>\n",
              "      <td>3835.740</td>\n",
              "      <td>3676.571</td>\n",
              "      <td>3225.610</td>\n",
              "      <td>3289.718</td>\n",
              "    </tr>\n",
              "  </tbody>\n",
              "</table>\n",
              "</div>\n",
              "      <button class=\"colab-df-convert\" onclick=\"convertToInteractive('df-deefa3a2-43d9-47fe-837c-7fb3a0b53707')\"\n",
              "              title=\"Convert this dataframe to an interactive table.\"\n",
              "              style=\"display:none;\">\n",
              "        \n",
              "  <svg xmlns=\"http://www.w3.org/2000/svg\" height=\"24px\"viewBox=\"0 0 24 24\"\n",
              "       width=\"24px\">\n",
              "    <path d=\"M0 0h24v24H0V0z\" fill=\"none\"/>\n",
              "    <path d=\"M18.56 5.44l.94 2.06.94-2.06 2.06-.94-2.06-.94-.94-2.06-.94 2.06-2.06.94zm-11 1L8.5 8.5l.94-2.06 2.06-.94-2.06-.94L8.5 2.5l-.94 2.06-2.06.94zm10 10l.94 2.06.94-2.06 2.06-.94-2.06-.94-.94-2.06-.94 2.06-2.06.94z\"/><path d=\"M17.41 7.96l-1.37-1.37c-.4-.4-.92-.59-1.43-.59-.52 0-1.04.2-1.43.59L10.3 9.45l-7.72 7.72c-.78.78-.78 2.05 0 2.83L4 21.41c.39.39.9.59 1.41.59.51 0 1.02-.2 1.41-.59l7.78-7.78 2.81-2.81c.8-.78.8-2.07 0-2.86zM5.41 20L4 18.59l7.72-7.72 1.47 1.35L5.41 20z\"/>\n",
              "  </svg>\n",
              "      </button>\n",
              "      \n",
              "  <style>\n",
              "    .colab-df-container {\n",
              "      display:flex;\n",
              "      flex-wrap:wrap;\n",
              "      gap: 12px;\n",
              "    }\n",
              "\n",
              "    .colab-df-convert {\n",
              "      background-color: #E8F0FE;\n",
              "      border: none;\n",
              "      border-radius: 50%;\n",
              "      cursor: pointer;\n",
              "      display: none;\n",
              "      fill: #1967D2;\n",
              "      height: 32px;\n",
              "      padding: 0 0 0 0;\n",
              "      width: 32px;\n",
              "    }\n",
              "\n",
              "    .colab-df-convert:hover {\n",
              "      background-color: #E2EBFA;\n",
              "      box-shadow: 0px 1px 2px rgba(60, 64, 67, 0.3), 0px 1px 3px 1px rgba(60, 64, 67, 0.15);\n",
              "      fill: #174EA6;\n",
              "    }\n",
              "\n",
              "    [theme=dark] .colab-df-convert {\n",
              "      background-color: #3B4455;\n",
              "      fill: #D2E3FC;\n",
              "    }\n",
              "\n",
              "    [theme=dark] .colab-df-convert:hover {\n",
              "      background-color: #434B5C;\n",
              "      box-shadow: 0px 1px 3px 1px rgba(0, 0, 0, 0.15);\n",
              "      filter: drop-shadow(0px 1px 2px rgba(0, 0, 0, 0.3));\n",
              "      fill: #FFFFFF;\n",
              "    }\n",
              "  </style>\n",
              "\n",
              "      <script>\n",
              "        const buttonEl =\n",
              "          document.querySelector('#df-deefa3a2-43d9-47fe-837c-7fb3a0b53707 button.colab-df-convert');\n",
              "        buttonEl.style.display =\n",
              "          google.colab.kernel.accessAllowed ? 'block' : 'none';\n",
              "\n",
              "        async function convertToInteractive(key) {\n",
              "          const element = document.querySelector('#df-deefa3a2-43d9-47fe-837c-7fb3a0b53707');\n",
              "          const dataTable =\n",
              "            await google.colab.kernel.invokeFunction('convertToInteractive',\n",
              "                                                     [key], {});\n",
              "          if (!dataTable) return;\n",
              "\n",
              "          const docLinkHtml = 'Like what you see? Visit the ' +\n",
              "            '<a target=\"_blank\" href=https://colab.research.google.com/notebooks/data_table.ipynb>data table notebook</a>'\n",
              "            + ' to learn more about interactive tables.';\n",
              "          element.innerHTML = '';\n",
              "          dataTable['output_type'] = 'display_data';\n",
              "          await google.colab.output.renderOutput(dataTable, element);\n",
              "          const docLink = document.createElement('div');\n",
              "          docLink.innerHTML = docLinkHtml;\n",
              "          element.appendChild(docLink);\n",
              "        }\n",
              "      </script>\n",
              "    </div>\n",
              "  </div>\n",
              "  "
            ]
          },
          "metadata": {},
          "execution_count": 21
        }
      ]
    },
    {
      "cell_type": "code",
      "source": [
        "# S2: combustíveis.\n",
        "\n",
        "df_s2.head(2)"
      ],
      "metadata": {
        "colab": {
          "base_uri": "https://localhost:8080/",
          "height": 112
        },
        "id": "LsCe9qmiyYmb",
        "outputId": "f179adb3-5807-4386-845a-8e4b13192483"
      },
      "execution_count": null,
      "outputs": [
        {
          "output_type": "execute_result",
          "data": {
            "text/plain": [
              "             COMBUSTÍVEL   ANO        REGIÃO    ESTADO       Jan      Fev  \\\n",
              "0  ÓLEO DIESEL S-10 (m3)  2013  REGIÃO NORTE  RONDÔNIA  81453.67   3517.6   \n",
              "1  ÓLEO DIESEL S-10 (m3)  2013  REGIÃO NORTE      ACRE   1483.00  11202.0   \n",
              "\n",
              "      Mar      Abr     Mai     Jun      Jul     Ago      Set      Out  \\\n",
              "0  3681.7  4700.67  5339.2  6166.4  6539.65  7283.7  8082.85  7902.55   \n",
              "1   363.0   410.00   536.0   607.0   740.00   756.0   971.00  1174.00   \n",
              "\n",
              "       Nov     Dez   TOTAL  \n",
              "0  9383.15  9767.4  9088.8  \n",
              "1  1240.00  1439.0  1483.0  "
            ],
            "text/html": [
              "\n",
              "  <div id=\"df-00844db1-b5a4-40e8-bc46-b2e2c1f3b474\">\n",
              "    <div class=\"colab-df-container\">\n",
              "      <div>\n",
              "<style scoped>\n",
              "    .dataframe tbody tr th:only-of-type {\n",
              "        vertical-align: middle;\n",
              "    }\n",
              "\n",
              "    .dataframe tbody tr th {\n",
              "        vertical-align: top;\n",
              "    }\n",
              "\n",
              "    .dataframe thead th {\n",
              "        text-align: right;\n",
              "    }\n",
              "</style>\n",
              "<table border=\"1\" class=\"dataframe\">\n",
              "  <thead>\n",
              "    <tr style=\"text-align: right;\">\n",
              "      <th></th>\n",
              "      <th>COMBUSTÍVEL</th>\n",
              "      <th>ANO</th>\n",
              "      <th>REGIÃO</th>\n",
              "      <th>ESTADO</th>\n",
              "      <th>Jan</th>\n",
              "      <th>Fev</th>\n",
              "      <th>Mar</th>\n",
              "      <th>Abr</th>\n",
              "      <th>Mai</th>\n",
              "      <th>Jun</th>\n",
              "      <th>Jul</th>\n",
              "      <th>Ago</th>\n",
              "      <th>Set</th>\n",
              "      <th>Out</th>\n",
              "      <th>Nov</th>\n",
              "      <th>Dez</th>\n",
              "      <th>TOTAL</th>\n",
              "    </tr>\n",
              "  </thead>\n",
              "  <tbody>\n",
              "    <tr>\n",
              "      <th>0</th>\n",
              "      <td>ÓLEO DIESEL S-10 (m3)</td>\n",
              "      <td>2013</td>\n",
              "      <td>REGIÃO NORTE</td>\n",
              "      <td>RONDÔNIA</td>\n",
              "      <td>81453.67</td>\n",
              "      <td>3517.6</td>\n",
              "      <td>3681.7</td>\n",
              "      <td>4700.67</td>\n",
              "      <td>5339.2</td>\n",
              "      <td>6166.4</td>\n",
              "      <td>6539.65</td>\n",
              "      <td>7283.7</td>\n",
              "      <td>8082.85</td>\n",
              "      <td>7902.55</td>\n",
              "      <td>9383.15</td>\n",
              "      <td>9767.4</td>\n",
              "      <td>9088.8</td>\n",
              "    </tr>\n",
              "    <tr>\n",
              "      <th>1</th>\n",
              "      <td>ÓLEO DIESEL S-10 (m3)</td>\n",
              "      <td>2013</td>\n",
              "      <td>REGIÃO NORTE</td>\n",
              "      <td>ACRE</td>\n",
              "      <td>1483.00</td>\n",
              "      <td>11202.0</td>\n",
              "      <td>363.0</td>\n",
              "      <td>410.00</td>\n",
              "      <td>536.0</td>\n",
              "      <td>607.0</td>\n",
              "      <td>740.00</td>\n",
              "      <td>756.0</td>\n",
              "      <td>971.00</td>\n",
              "      <td>1174.00</td>\n",
              "      <td>1240.00</td>\n",
              "      <td>1439.0</td>\n",
              "      <td>1483.0</td>\n",
              "    </tr>\n",
              "  </tbody>\n",
              "</table>\n",
              "</div>\n",
              "      <button class=\"colab-df-convert\" onclick=\"convertToInteractive('df-00844db1-b5a4-40e8-bc46-b2e2c1f3b474')\"\n",
              "              title=\"Convert this dataframe to an interactive table.\"\n",
              "              style=\"display:none;\">\n",
              "        \n",
              "  <svg xmlns=\"http://www.w3.org/2000/svg\" height=\"24px\"viewBox=\"0 0 24 24\"\n",
              "       width=\"24px\">\n",
              "    <path d=\"M0 0h24v24H0V0z\" fill=\"none\"/>\n",
              "    <path d=\"M18.56 5.44l.94 2.06.94-2.06 2.06-.94-2.06-.94-.94-2.06-.94 2.06-2.06.94zm-11 1L8.5 8.5l.94-2.06 2.06-.94-2.06-.94L8.5 2.5l-.94 2.06-2.06.94zm10 10l.94 2.06.94-2.06 2.06-.94-2.06-.94-.94-2.06-.94 2.06-2.06.94z\"/><path d=\"M17.41 7.96l-1.37-1.37c-.4-.4-.92-.59-1.43-.59-.52 0-1.04.2-1.43.59L10.3 9.45l-7.72 7.72c-.78.78-.78 2.05 0 2.83L4 21.41c.39.39.9.59 1.41.59.51 0 1.02-.2 1.41-.59l7.78-7.78 2.81-2.81c.8-.78.8-2.07 0-2.86zM5.41 20L4 18.59l7.72-7.72 1.47 1.35L5.41 20z\"/>\n",
              "  </svg>\n",
              "      </button>\n",
              "      \n",
              "  <style>\n",
              "    .colab-df-container {\n",
              "      display:flex;\n",
              "      flex-wrap:wrap;\n",
              "      gap: 12px;\n",
              "    }\n",
              "\n",
              "    .colab-df-convert {\n",
              "      background-color: #E8F0FE;\n",
              "      border: none;\n",
              "      border-radius: 50%;\n",
              "      cursor: pointer;\n",
              "      display: none;\n",
              "      fill: #1967D2;\n",
              "      height: 32px;\n",
              "      padding: 0 0 0 0;\n",
              "      width: 32px;\n",
              "    }\n",
              "\n",
              "    .colab-df-convert:hover {\n",
              "      background-color: #E2EBFA;\n",
              "      box-shadow: 0px 1px 2px rgba(60, 64, 67, 0.3), 0px 1px 3px 1px rgba(60, 64, 67, 0.15);\n",
              "      fill: #174EA6;\n",
              "    }\n",
              "\n",
              "    [theme=dark] .colab-df-convert {\n",
              "      background-color: #3B4455;\n",
              "      fill: #D2E3FC;\n",
              "    }\n",
              "\n",
              "    [theme=dark] .colab-df-convert:hover {\n",
              "      background-color: #434B5C;\n",
              "      box-shadow: 0px 1px 3px 1px rgba(0, 0, 0, 0.15);\n",
              "      filter: drop-shadow(0px 1px 2px rgba(0, 0, 0, 0.3));\n",
              "      fill: #FFFFFF;\n",
              "    }\n",
              "  </style>\n",
              "\n",
              "      <script>\n",
              "        const buttonEl =\n",
              "          document.querySelector('#df-00844db1-b5a4-40e8-bc46-b2e2c1f3b474 button.colab-df-convert');\n",
              "        buttonEl.style.display =\n",
              "          google.colab.kernel.accessAllowed ? 'block' : 'none';\n",
              "\n",
              "        async function convertToInteractive(key) {\n",
              "          const element = document.querySelector('#df-00844db1-b5a4-40e8-bc46-b2e2c1f3b474');\n",
              "          const dataTable =\n",
              "            await google.colab.kernel.invokeFunction('convertToInteractive',\n",
              "                                                     [key], {});\n",
              "          if (!dataTable) return;\n",
              "\n",
              "          const docLinkHtml = 'Like what you see? Visit the ' +\n",
              "            '<a target=\"_blank\" href=https://colab.research.google.com/notebooks/data_table.ipynb>data table notebook</a>'\n",
              "            + ' to learn more about interactive tables.';\n",
              "          element.innerHTML = '';\n",
              "          dataTable['output_type'] = 'display_data';\n",
              "          await google.colab.output.renderOutput(dataTable, element);\n",
              "          const docLink = document.createElement('div');\n",
              "          docLink.innerHTML = docLinkHtml;\n",
              "          element.appendChild(docLink);\n",
              "        }\n",
              "      </script>\n",
              "    </div>\n",
              "  </div>\n",
              "  "
            ]
          },
          "metadata": {},
          "execution_count": 22
        }
      ]
    },
    {
      "cell_type": "code",
      "source": [
        "# S3: combustíveis.\n",
        "\n",
        "df_s3.head(2)"
      ],
      "metadata": {
        "colab": {
          "base_uri": "https://localhost:8080/",
          "height": 211
        },
        "id": "7kfqz9r8ydQ1",
        "outputId": "eeac4d56-cbaf-4dec-ed63-9f5e28f926a4"
      },
      "execution_count": null,
      "outputs": [
        {
          "output_type": "execute_result",
          "data": {
            "text/plain": [
              "          COMBUSTÍVEL   ANO        REGIÃO    ESTADO           Jan  \\\n",
              "0  GLP - Até P13 (m3)  2010  REGIÃO NORTE  RONDÔNIA  74941.911133   \n",
              "1  GLP - Até P13 (m3)  2010  REGIÃO NORTE      ACRE   2338.586957   \n",
              "\n",
              "            Fev          Mar          Abr          Mai          Jun  \\\n",
              "0   5455.704710  5766.664795  6847.914855  6263.050725  6207.913932   \n",
              "1  26436.096153  2017.396739  2255.280230  1987.722826  2530.503623   \n",
              "\n",
              "           Jul          Ago          Set          Out          Nov  \\\n",
              "0  6309.226449  6523.245449  6309.932971  6198.226449  5956.440217   \n",
              "1  2404.369329  2107.056159  2063.339710  2103.465580  2126.775362   \n",
              "\n",
              "           Dez        TOTAL  \n",
              "0  6265.773551  6837.817029  \n",
              "1  2269.896739  2231.702899  "
            ],
            "text/html": [
              "\n",
              "  <div id=\"df-164b7f14-b943-46fc-ad3f-65700ca1e222\">\n",
              "    <div class=\"colab-df-container\">\n",
              "      <div>\n",
              "<style scoped>\n",
              "    .dataframe tbody tr th:only-of-type {\n",
              "        vertical-align: middle;\n",
              "    }\n",
              "\n",
              "    .dataframe tbody tr th {\n",
              "        vertical-align: top;\n",
              "    }\n",
              "\n",
              "    .dataframe thead th {\n",
              "        text-align: right;\n",
              "    }\n",
              "</style>\n",
              "<table border=\"1\" class=\"dataframe\">\n",
              "  <thead>\n",
              "    <tr style=\"text-align: right;\">\n",
              "      <th></th>\n",
              "      <th>COMBUSTÍVEL</th>\n",
              "      <th>ANO</th>\n",
              "      <th>REGIÃO</th>\n",
              "      <th>ESTADO</th>\n",
              "      <th>Jan</th>\n",
              "      <th>Fev</th>\n",
              "      <th>Mar</th>\n",
              "      <th>Abr</th>\n",
              "      <th>Mai</th>\n",
              "      <th>Jun</th>\n",
              "      <th>Jul</th>\n",
              "      <th>Ago</th>\n",
              "      <th>Set</th>\n",
              "      <th>Out</th>\n",
              "      <th>Nov</th>\n",
              "      <th>Dez</th>\n",
              "      <th>TOTAL</th>\n",
              "    </tr>\n",
              "  </thead>\n",
              "  <tbody>\n",
              "    <tr>\n",
              "      <th>0</th>\n",
              "      <td>GLP - Até P13 (m3)</td>\n",
              "      <td>2010</td>\n",
              "      <td>REGIÃO NORTE</td>\n",
              "      <td>RONDÔNIA</td>\n",
              "      <td>74941.911133</td>\n",
              "      <td>5455.704710</td>\n",
              "      <td>5766.664795</td>\n",
              "      <td>6847.914855</td>\n",
              "      <td>6263.050725</td>\n",
              "      <td>6207.913932</td>\n",
              "      <td>6309.226449</td>\n",
              "      <td>6523.245449</td>\n",
              "      <td>6309.932971</td>\n",
              "      <td>6198.226449</td>\n",
              "      <td>5956.440217</td>\n",
              "      <td>6265.773551</td>\n",
              "      <td>6837.817029</td>\n",
              "    </tr>\n",
              "    <tr>\n",
              "      <th>1</th>\n",
              "      <td>GLP - Até P13 (m3)</td>\n",
              "      <td>2010</td>\n",
              "      <td>REGIÃO NORTE</td>\n",
              "      <td>ACRE</td>\n",
              "      <td>2338.586957</td>\n",
              "      <td>26436.096153</td>\n",
              "      <td>2017.396739</td>\n",
              "      <td>2255.280230</td>\n",
              "      <td>1987.722826</td>\n",
              "      <td>2530.503623</td>\n",
              "      <td>2404.369329</td>\n",
              "      <td>2107.056159</td>\n",
              "      <td>2063.339710</td>\n",
              "      <td>2103.465580</td>\n",
              "      <td>2126.775362</td>\n",
              "      <td>2269.896739</td>\n",
              "      <td>2231.702899</td>\n",
              "    </tr>\n",
              "  </tbody>\n",
              "</table>\n",
              "</div>\n",
              "      <button class=\"colab-df-convert\" onclick=\"convertToInteractive('df-164b7f14-b943-46fc-ad3f-65700ca1e222')\"\n",
              "              title=\"Convert this dataframe to an interactive table.\"\n",
              "              style=\"display:none;\">\n",
              "        \n",
              "  <svg xmlns=\"http://www.w3.org/2000/svg\" height=\"24px\"viewBox=\"0 0 24 24\"\n",
              "       width=\"24px\">\n",
              "    <path d=\"M0 0h24v24H0V0z\" fill=\"none\"/>\n",
              "    <path d=\"M18.56 5.44l.94 2.06.94-2.06 2.06-.94-2.06-.94-.94-2.06-.94 2.06-2.06.94zm-11 1L8.5 8.5l.94-2.06 2.06-.94-2.06-.94L8.5 2.5l-.94 2.06-2.06.94zm10 10l.94 2.06.94-2.06 2.06-.94-2.06-.94-.94-2.06-.94 2.06-2.06.94z\"/><path d=\"M17.41 7.96l-1.37-1.37c-.4-.4-.92-.59-1.43-.59-.52 0-1.04.2-1.43.59L10.3 9.45l-7.72 7.72c-.78.78-.78 2.05 0 2.83L4 21.41c.39.39.9.59 1.41.59.51 0 1.02-.2 1.41-.59l7.78-7.78 2.81-2.81c.8-.78.8-2.07 0-2.86zM5.41 20L4 18.59l7.72-7.72 1.47 1.35L5.41 20z\"/>\n",
              "  </svg>\n",
              "      </button>\n",
              "      \n",
              "  <style>\n",
              "    .colab-df-container {\n",
              "      display:flex;\n",
              "      flex-wrap:wrap;\n",
              "      gap: 12px;\n",
              "    }\n",
              "\n",
              "    .colab-df-convert {\n",
              "      background-color: #E8F0FE;\n",
              "      border: none;\n",
              "      border-radius: 50%;\n",
              "      cursor: pointer;\n",
              "      display: none;\n",
              "      fill: #1967D2;\n",
              "      height: 32px;\n",
              "      padding: 0 0 0 0;\n",
              "      width: 32px;\n",
              "    }\n",
              "\n",
              "    .colab-df-convert:hover {\n",
              "      background-color: #E2EBFA;\n",
              "      box-shadow: 0px 1px 2px rgba(60, 64, 67, 0.3), 0px 1px 3px 1px rgba(60, 64, 67, 0.15);\n",
              "      fill: #174EA6;\n",
              "    }\n",
              "\n",
              "    [theme=dark] .colab-df-convert {\n",
              "      background-color: #3B4455;\n",
              "      fill: #D2E3FC;\n",
              "    }\n",
              "\n",
              "    [theme=dark] .colab-df-convert:hover {\n",
              "      background-color: #434B5C;\n",
              "      box-shadow: 0px 1px 3px 1px rgba(0, 0, 0, 0.15);\n",
              "      filter: drop-shadow(0px 1px 2px rgba(0, 0, 0, 0.3));\n",
              "      fill: #FFFFFF;\n",
              "    }\n",
              "  </style>\n",
              "\n",
              "      <script>\n",
              "        const buttonEl =\n",
              "          document.querySelector('#df-164b7f14-b943-46fc-ad3f-65700ca1e222 button.colab-df-convert');\n",
              "        buttonEl.style.display =\n",
              "          google.colab.kernel.accessAllowed ? 'block' : 'none';\n",
              "\n",
              "        async function convertToInteractive(key) {\n",
              "          const element = document.querySelector('#df-164b7f14-b943-46fc-ad3f-65700ca1e222');\n",
              "          const dataTable =\n",
              "            await google.colab.kernel.invokeFunction('convertToInteractive',\n",
              "                                                     [key], {});\n",
              "          if (!dataTable) return;\n",
              "\n",
              "          const docLinkHtml = 'Like what you see? Visit the ' +\n",
              "            '<a target=\"_blank\" href=https://colab.research.google.com/notebooks/data_table.ipynb>data table notebook</a>'\n",
              "            + ' to learn more about interactive tables.';\n",
              "          element.innerHTML = '';\n",
              "          dataTable['output_type'] = 'display_data';\n",
              "          await google.colab.output.renderOutput(dataTable, element);\n",
              "          const docLink = document.createElement('div');\n",
              "          docLink.innerHTML = docLinkHtml;\n",
              "          element.appendChild(docLink);\n",
              "        }\n",
              "      </script>\n",
              "    </div>\n",
              "  </div>\n",
              "  "
            ]
          },
          "metadata": {},
          "execution_count": 23
        }
      ]
    },
    {
      "cell_type": "code",
      "source": [
        "# S4: segmentos.\n",
        "\n",
        "df_s4.head(2)"
      ],
      "metadata": {
        "colab": {
          "base_uri": "https://localhost:8080/",
          "height": 112
        },
        "id": "V2Tya2KZyfR-",
        "outputId": "763bf2bc-12ba-4327-cca3-81be4e51c329"
      },
      "execution_count": null,
      "outputs": [
        {
          "output_type": "execute_result",
          "data": {
            "text/plain": [
              "    ANO          SEGMENTO    ESTADO          Jan           Fev         Mar  \\\n",
              "0  2012  POSTO REVENDEDOR  RONDÔNIA  1715.512161  19696.681483      1560.5   \n",
              "1  2012  POSTO REVENDEDOR      ACRE          437    468.007876  512.003938   \n",
              "\n",
              "           Abr       Mai     Jun    Jul     Ago      Set     Out     Nov  \\\n",
              "0         1511  1622.545  1614.1   1579  1649.5   1515.1  1796.5  1684.4   \n",
              "1  5725.496814       443     403  492.5     477  514.485     430   447.5   \n",
              "\n",
              "      Dez        TOTAL  \n",
              "0  1673.5  1775.024322  \n",
              "1   581.5        519.5  "
            ],
            "text/html": [
              "\n",
              "  <div id=\"df-a3b297c2-d908-4716-a7ac-f01d8dc01b52\">\n",
              "    <div class=\"colab-df-container\">\n",
              "      <div>\n",
              "<style scoped>\n",
              "    .dataframe tbody tr th:only-of-type {\n",
              "        vertical-align: middle;\n",
              "    }\n",
              "\n",
              "    .dataframe tbody tr th {\n",
              "        vertical-align: top;\n",
              "    }\n",
              "\n",
              "    .dataframe thead th {\n",
              "        text-align: right;\n",
              "    }\n",
              "</style>\n",
              "<table border=\"1\" class=\"dataframe\">\n",
              "  <thead>\n",
              "    <tr style=\"text-align: right;\">\n",
              "      <th></th>\n",
              "      <th>ANO</th>\n",
              "      <th>SEGMENTO</th>\n",
              "      <th>ESTADO</th>\n",
              "      <th>Jan</th>\n",
              "      <th>Fev</th>\n",
              "      <th>Mar</th>\n",
              "      <th>Abr</th>\n",
              "      <th>Mai</th>\n",
              "      <th>Jun</th>\n",
              "      <th>Jul</th>\n",
              "      <th>Ago</th>\n",
              "      <th>Set</th>\n",
              "      <th>Out</th>\n",
              "      <th>Nov</th>\n",
              "      <th>Dez</th>\n",
              "      <th>TOTAL</th>\n",
              "    </tr>\n",
              "  </thead>\n",
              "  <tbody>\n",
              "    <tr>\n",
              "      <th>0</th>\n",
              "      <td>2012</td>\n",
              "      <td>POSTO REVENDEDOR</td>\n",
              "      <td>RONDÔNIA</td>\n",
              "      <td>1715.512161</td>\n",
              "      <td>19696.681483</td>\n",
              "      <td>1560.5</td>\n",
              "      <td>1511</td>\n",
              "      <td>1622.545</td>\n",
              "      <td>1614.1</td>\n",
              "      <td>1579</td>\n",
              "      <td>1649.5</td>\n",
              "      <td>1515.1</td>\n",
              "      <td>1796.5</td>\n",
              "      <td>1684.4</td>\n",
              "      <td>1673.5</td>\n",
              "      <td>1775.024322</td>\n",
              "    </tr>\n",
              "    <tr>\n",
              "      <th>1</th>\n",
              "      <td>2012</td>\n",
              "      <td>POSTO REVENDEDOR</td>\n",
              "      <td>ACRE</td>\n",
              "      <td>437</td>\n",
              "      <td>468.007876</td>\n",
              "      <td>512.003938</td>\n",
              "      <td>5725.496814</td>\n",
              "      <td>443</td>\n",
              "      <td>403</td>\n",
              "      <td>492.5</td>\n",
              "      <td>477</td>\n",
              "      <td>514.485</td>\n",
              "      <td>430</td>\n",
              "      <td>447.5</td>\n",
              "      <td>581.5</td>\n",
              "      <td>519.5</td>\n",
              "    </tr>\n",
              "  </tbody>\n",
              "</table>\n",
              "</div>\n",
              "      <button class=\"colab-df-convert\" onclick=\"convertToInteractive('df-a3b297c2-d908-4716-a7ac-f01d8dc01b52')\"\n",
              "              title=\"Convert this dataframe to an interactive table.\"\n",
              "              style=\"display:none;\">\n",
              "        \n",
              "  <svg xmlns=\"http://www.w3.org/2000/svg\" height=\"24px\"viewBox=\"0 0 24 24\"\n",
              "       width=\"24px\">\n",
              "    <path d=\"M0 0h24v24H0V0z\" fill=\"none\"/>\n",
              "    <path d=\"M18.56 5.44l.94 2.06.94-2.06 2.06-.94-2.06-.94-.94-2.06-.94 2.06-2.06.94zm-11 1L8.5 8.5l.94-2.06 2.06-.94-2.06-.94L8.5 2.5l-.94 2.06-2.06.94zm10 10l.94 2.06.94-2.06 2.06-.94-2.06-.94-.94-2.06-.94 2.06-2.06.94z\"/><path d=\"M17.41 7.96l-1.37-1.37c-.4-.4-.92-.59-1.43-.59-.52 0-1.04.2-1.43.59L10.3 9.45l-7.72 7.72c-.78.78-.78 2.05 0 2.83L4 21.41c.39.39.9.59 1.41.59.51 0 1.02-.2 1.41-.59l7.78-7.78 2.81-2.81c.8-.78.8-2.07 0-2.86zM5.41 20L4 18.59l7.72-7.72 1.47 1.35L5.41 20z\"/>\n",
              "  </svg>\n",
              "      </button>\n",
              "      \n",
              "  <style>\n",
              "    .colab-df-container {\n",
              "      display:flex;\n",
              "      flex-wrap:wrap;\n",
              "      gap: 12px;\n",
              "    }\n",
              "\n",
              "    .colab-df-convert {\n",
              "      background-color: #E8F0FE;\n",
              "      border: none;\n",
              "      border-radius: 50%;\n",
              "      cursor: pointer;\n",
              "      display: none;\n",
              "      fill: #1967D2;\n",
              "      height: 32px;\n",
              "      padding: 0 0 0 0;\n",
              "      width: 32px;\n",
              "    }\n",
              "\n",
              "    .colab-df-convert:hover {\n",
              "      background-color: #E2EBFA;\n",
              "      box-shadow: 0px 1px 2px rgba(60, 64, 67, 0.3), 0px 1px 3px 1px rgba(60, 64, 67, 0.15);\n",
              "      fill: #174EA6;\n",
              "    }\n",
              "\n",
              "    [theme=dark] .colab-df-convert {\n",
              "      background-color: #3B4455;\n",
              "      fill: #D2E3FC;\n",
              "    }\n",
              "\n",
              "    [theme=dark] .colab-df-convert:hover {\n",
              "      background-color: #434B5C;\n",
              "      box-shadow: 0px 1px 3px 1px rgba(0, 0, 0, 0.15);\n",
              "      filter: drop-shadow(0px 1px 2px rgba(0, 0, 0, 0.3));\n",
              "      fill: #FFFFFF;\n",
              "    }\n",
              "  </style>\n",
              "\n",
              "      <script>\n",
              "        const buttonEl =\n",
              "          document.querySelector('#df-a3b297c2-d908-4716-a7ac-f01d8dc01b52 button.colab-df-convert');\n",
              "        buttonEl.style.display =\n",
              "          google.colab.kernel.accessAllowed ? 'block' : 'none';\n",
              "\n",
              "        async function convertToInteractive(key) {\n",
              "          const element = document.querySelector('#df-a3b297c2-d908-4716-a7ac-f01d8dc01b52');\n",
              "          const dataTable =\n",
              "            await google.colab.kernel.invokeFunction('convertToInteractive',\n",
              "                                                     [key], {});\n",
              "          if (!dataTable) return;\n",
              "\n",
              "          const docLinkHtml = 'Like what you see? Visit the ' +\n",
              "            '<a target=\"_blank\" href=https://colab.research.google.com/notebooks/data_table.ipynb>data table notebook</a>'\n",
              "            + ' to learn more about interactive tables.';\n",
              "          element.innerHTML = '';\n",
              "          dataTable['output_type'] = 'display_data';\n",
              "          await google.colab.output.renderOutput(dataTable, element);\n",
              "          const docLink = document.createElement('div');\n",
              "          docLink.innerHTML = docLinkHtml;\n",
              "          element.appendChild(docLink);\n",
              "        }\n",
              "      </script>\n",
              "    </div>\n",
              "  </div>\n",
              "  "
            ]
          },
          "metadata": {},
          "execution_count": 24
        }
      ]
    },
    {
      "cell_type": "code",
      "source": [
        "# S5: segmentos.\n",
        "\n",
        "df_s5.head(2)"
      ],
      "metadata": {
        "colab": {
          "base_uri": "https://localhost:8080/",
          "height": 156
        },
        "id": "R66W30fryjEe",
        "outputId": "5c54b175-c5ed-4ad4-d1b7-80fde86474d1"
      },
      "execution_count": null,
      "outputs": [
        {
          "output_type": "execute_result",
          "data": {
            "text/plain": [
              "    ANO          SEGMENTO    ESTADO        Jan         Fev       Mar  \\\n",
              "0  2012  POSTO REVENDEDOR  RONDÔNIA  34008.258  362364.526  26326.38   \n",
              "1  2012  POSTO REVENDEDOR      ACRE      10874       10432   10797.5   \n",
              "\n",
              "         Abr        Mai        Jun      Jul      Ago        Set        Out  \\\n",
              "0   26573.85  29035.503  28283.501  29612.9  29755.7  30425.055  31783.878   \n",
              "1  117603.75       8254       8329   9163.5     9001       9924     9513.5   \n",
              "\n",
              "         Nov       Dez    TOTAL  \n",
              "0  32290.201   32961.8  31307.5  \n",
              "1      10073  10864.25    10378  "
            ],
            "text/html": [
              "\n",
              "  <div id=\"df-d5b42772-928e-4da1-b326-4b0bd567f4a3\">\n",
              "    <div class=\"colab-df-container\">\n",
              "      <div>\n",
              "<style scoped>\n",
              "    .dataframe tbody tr th:only-of-type {\n",
              "        vertical-align: middle;\n",
              "    }\n",
              "\n",
              "    .dataframe tbody tr th {\n",
              "        vertical-align: top;\n",
              "    }\n",
              "\n",
              "    .dataframe thead th {\n",
              "        text-align: right;\n",
              "    }\n",
              "</style>\n",
              "<table border=\"1\" class=\"dataframe\">\n",
              "  <thead>\n",
              "    <tr style=\"text-align: right;\">\n",
              "      <th></th>\n",
              "      <th>ANO</th>\n",
              "      <th>SEGMENTO</th>\n",
              "      <th>ESTADO</th>\n",
              "      <th>Jan</th>\n",
              "      <th>Fev</th>\n",
              "      <th>Mar</th>\n",
              "      <th>Abr</th>\n",
              "      <th>Mai</th>\n",
              "      <th>Jun</th>\n",
              "      <th>Jul</th>\n",
              "      <th>Ago</th>\n",
              "      <th>Set</th>\n",
              "      <th>Out</th>\n",
              "      <th>Nov</th>\n",
              "      <th>Dez</th>\n",
              "      <th>TOTAL</th>\n",
              "    </tr>\n",
              "  </thead>\n",
              "  <tbody>\n",
              "    <tr>\n",
              "      <th>0</th>\n",
              "      <td>2012</td>\n",
              "      <td>POSTO REVENDEDOR</td>\n",
              "      <td>RONDÔNIA</td>\n",
              "      <td>34008.258</td>\n",
              "      <td>362364.526</td>\n",
              "      <td>26326.38</td>\n",
              "      <td>26573.85</td>\n",
              "      <td>29035.503</td>\n",
              "      <td>28283.501</td>\n",
              "      <td>29612.9</td>\n",
              "      <td>29755.7</td>\n",
              "      <td>30425.055</td>\n",
              "      <td>31783.878</td>\n",
              "      <td>32290.201</td>\n",
              "      <td>32961.8</td>\n",
              "      <td>31307.5</td>\n",
              "    </tr>\n",
              "    <tr>\n",
              "      <th>1</th>\n",
              "      <td>2012</td>\n",
              "      <td>POSTO REVENDEDOR</td>\n",
              "      <td>ACRE</td>\n",
              "      <td>10874</td>\n",
              "      <td>10432</td>\n",
              "      <td>10797.5</td>\n",
              "      <td>117603.75</td>\n",
              "      <td>8254</td>\n",
              "      <td>8329</td>\n",
              "      <td>9163.5</td>\n",
              "      <td>9001</td>\n",
              "      <td>9924</td>\n",
              "      <td>9513.5</td>\n",
              "      <td>10073</td>\n",
              "      <td>10864.25</td>\n",
              "      <td>10378</td>\n",
              "    </tr>\n",
              "  </tbody>\n",
              "</table>\n",
              "</div>\n",
              "      <button class=\"colab-df-convert\" onclick=\"convertToInteractive('df-d5b42772-928e-4da1-b326-4b0bd567f4a3')\"\n",
              "              title=\"Convert this dataframe to an interactive table.\"\n",
              "              style=\"display:none;\">\n",
              "        \n",
              "  <svg xmlns=\"http://www.w3.org/2000/svg\" height=\"24px\"viewBox=\"0 0 24 24\"\n",
              "       width=\"24px\">\n",
              "    <path d=\"M0 0h24v24H0V0z\" fill=\"none\"/>\n",
              "    <path d=\"M18.56 5.44l.94 2.06.94-2.06 2.06-.94-2.06-.94-.94-2.06-.94 2.06-2.06.94zm-11 1L8.5 8.5l.94-2.06 2.06-.94-2.06-.94L8.5 2.5l-.94 2.06-2.06.94zm10 10l.94 2.06.94-2.06 2.06-.94-2.06-.94-.94-2.06-.94 2.06-2.06.94z\"/><path d=\"M17.41 7.96l-1.37-1.37c-.4-.4-.92-.59-1.43-.59-.52 0-1.04.2-1.43.59L10.3 9.45l-7.72 7.72c-.78.78-.78 2.05 0 2.83L4 21.41c.39.39.9.59 1.41.59.51 0 1.02-.2 1.41-.59l7.78-7.78 2.81-2.81c.8-.78.8-2.07 0-2.86zM5.41 20L4 18.59l7.72-7.72 1.47 1.35L5.41 20z\"/>\n",
              "  </svg>\n",
              "      </button>\n",
              "      \n",
              "  <style>\n",
              "    .colab-df-container {\n",
              "      display:flex;\n",
              "      flex-wrap:wrap;\n",
              "      gap: 12px;\n",
              "    }\n",
              "\n",
              "    .colab-df-convert {\n",
              "      background-color: #E8F0FE;\n",
              "      border: none;\n",
              "      border-radius: 50%;\n",
              "      cursor: pointer;\n",
              "      display: none;\n",
              "      fill: #1967D2;\n",
              "      height: 32px;\n",
              "      padding: 0 0 0 0;\n",
              "      width: 32px;\n",
              "    }\n",
              "\n",
              "    .colab-df-convert:hover {\n",
              "      background-color: #E2EBFA;\n",
              "      box-shadow: 0px 1px 2px rgba(60, 64, 67, 0.3), 0px 1px 3px 1px rgba(60, 64, 67, 0.15);\n",
              "      fill: #174EA6;\n",
              "    }\n",
              "\n",
              "    [theme=dark] .colab-df-convert {\n",
              "      background-color: #3B4455;\n",
              "      fill: #D2E3FC;\n",
              "    }\n",
              "\n",
              "    [theme=dark] .colab-df-convert:hover {\n",
              "      background-color: #434B5C;\n",
              "      box-shadow: 0px 1px 3px 1px rgba(0, 0, 0, 0.15);\n",
              "      filter: drop-shadow(0px 1px 2px rgba(0, 0, 0, 0.3));\n",
              "      fill: #FFFFFF;\n",
              "    }\n",
              "  </style>\n",
              "\n",
              "      <script>\n",
              "        const buttonEl =\n",
              "          document.querySelector('#df-d5b42772-928e-4da1-b326-4b0bd567f4a3 button.colab-df-convert');\n",
              "        buttonEl.style.display =\n",
              "          google.colab.kernel.accessAllowed ? 'block' : 'none';\n",
              "\n",
              "        async function convertToInteractive(key) {\n",
              "          const element = document.querySelector('#df-d5b42772-928e-4da1-b326-4b0bd567f4a3');\n",
              "          const dataTable =\n",
              "            await google.colab.kernel.invokeFunction('convertToInteractive',\n",
              "                                                     [key], {});\n",
              "          if (!dataTable) return;\n",
              "\n",
              "          const docLinkHtml = 'Like what you see? Visit the ' +\n",
              "            '<a target=\"_blank\" href=https://colab.research.google.com/notebooks/data_table.ipynb>data table notebook</a>'\n",
              "            + ' to learn more about interactive tables.';\n",
              "          element.innerHTML = '';\n",
              "          dataTable['output_type'] = 'display_data';\n",
              "          await google.colab.output.renderOutput(dataTable, element);\n",
              "          const docLink = document.createElement('div');\n",
              "          docLink.innerHTML = docLinkHtml;\n",
              "          element.appendChild(docLink);\n",
              "        }\n",
              "      </script>\n",
              "    </div>\n",
              "  </div>\n",
              "  "
            ]
          },
          "metadata": {},
          "execution_count": 25
        }
      ]
    },
    {
      "cell_type": "code",
      "source": [
        "# S6: segmentos.\n",
        "\n",
        "df_s6.head(2)"
      ],
      "metadata": {
        "colab": {
          "base_uri": "https://localhost:8080/",
          "height": 211
        },
        "id": "3L-6t3EXylkG",
        "outputId": "07842fe5-4e74-451d-9b5c-9dde298065ff"
      },
      "execution_count": null,
      "outputs": [
        {
          "output_type": "execute_result",
          "data": {
            "text/plain": [
              "    ANO          SEGMENTO    ESTADO           Jan            Fev  \\\n",
              "0  2012  POSTO REVENDEDOR  RONDÔNIA  43257.342464  533566.184039   \n",
              "1  2012  POSTO REVENDEDOR      ACRE   8074.274461    6836.322718   \n",
              "\n",
              "            Mar           Abr           Mai           Jun           Jul  \\\n",
              "0  35384.625231  37674.906595  43406.974318  41205.832237  44599.337363   \n",
              "1   6484.211124  78943.336155   4513.245285   4600.153819   5222.808146   \n",
              "\n",
              "            Ago           Set           Out           Nov           Dez  \\\n",
              "0  47693.626374  48241.369658  50118.459341  43795.973088  49097.450003   \n",
              "1   5423.596136   6544.048257   7239.066353   7940.647733   8557.012064   \n",
              "\n",
              "          TOTAL  \n",
              "0  49090.287366  \n",
              "1   7507.950058  "
            ],
            "text/html": [
              "\n",
              "  <div id=\"df-094ae8a8-0efd-4c28-a361-8e61af848683\">\n",
              "    <div class=\"colab-df-container\">\n",
              "      <div>\n",
              "<style scoped>\n",
              "    .dataframe tbody tr th:only-of-type {\n",
              "        vertical-align: middle;\n",
              "    }\n",
              "\n",
              "    .dataframe tbody tr th {\n",
              "        vertical-align: top;\n",
              "    }\n",
              "\n",
              "    .dataframe thead th {\n",
              "        text-align: right;\n",
              "    }\n",
              "</style>\n",
              "<table border=\"1\" class=\"dataframe\">\n",
              "  <thead>\n",
              "    <tr style=\"text-align: right;\">\n",
              "      <th></th>\n",
              "      <th>ANO</th>\n",
              "      <th>SEGMENTO</th>\n",
              "      <th>ESTADO</th>\n",
              "      <th>Jan</th>\n",
              "      <th>Fev</th>\n",
              "      <th>Mar</th>\n",
              "      <th>Abr</th>\n",
              "      <th>Mai</th>\n",
              "      <th>Jun</th>\n",
              "      <th>Jul</th>\n",
              "      <th>Ago</th>\n",
              "      <th>Set</th>\n",
              "      <th>Out</th>\n",
              "      <th>Nov</th>\n",
              "      <th>Dez</th>\n",
              "      <th>TOTAL</th>\n",
              "    </tr>\n",
              "  </thead>\n",
              "  <tbody>\n",
              "    <tr>\n",
              "      <th>0</th>\n",
              "      <td>2012</td>\n",
              "      <td>POSTO REVENDEDOR</td>\n",
              "      <td>RONDÔNIA</td>\n",
              "      <td>43257.342464</td>\n",
              "      <td>533566.184039</td>\n",
              "      <td>35384.625231</td>\n",
              "      <td>37674.906595</td>\n",
              "      <td>43406.974318</td>\n",
              "      <td>41205.832237</td>\n",
              "      <td>44599.337363</td>\n",
              "      <td>47693.626374</td>\n",
              "      <td>48241.369658</td>\n",
              "      <td>50118.459341</td>\n",
              "      <td>43795.973088</td>\n",
              "      <td>49097.450003</td>\n",
              "      <td>49090.287366</td>\n",
              "    </tr>\n",
              "    <tr>\n",
              "      <th>1</th>\n",
              "      <td>2012</td>\n",
              "      <td>POSTO REVENDEDOR</td>\n",
              "      <td>ACRE</td>\n",
              "      <td>8074.274461</td>\n",
              "      <td>6836.322718</td>\n",
              "      <td>6484.211124</td>\n",
              "      <td>78943.336155</td>\n",
              "      <td>4513.245285</td>\n",
              "      <td>4600.153819</td>\n",
              "      <td>5222.808146</td>\n",
              "      <td>5423.596136</td>\n",
              "      <td>6544.048257</td>\n",
              "      <td>7239.066353</td>\n",
              "      <td>7940.647733</td>\n",
              "      <td>8557.012064</td>\n",
              "      <td>7507.950058</td>\n",
              "    </tr>\n",
              "  </tbody>\n",
              "</table>\n",
              "</div>\n",
              "      <button class=\"colab-df-convert\" onclick=\"convertToInteractive('df-094ae8a8-0efd-4c28-a361-8e61af848683')\"\n",
              "              title=\"Convert this dataframe to an interactive table.\"\n",
              "              style=\"display:none;\">\n",
              "        \n",
              "  <svg xmlns=\"http://www.w3.org/2000/svg\" height=\"24px\"viewBox=\"0 0 24 24\"\n",
              "       width=\"24px\">\n",
              "    <path d=\"M0 0h24v24H0V0z\" fill=\"none\"/>\n",
              "    <path d=\"M18.56 5.44l.94 2.06.94-2.06 2.06-.94-2.06-.94-.94-2.06-.94 2.06-2.06.94zm-11 1L8.5 8.5l.94-2.06 2.06-.94-2.06-.94L8.5 2.5l-.94 2.06-2.06.94zm10 10l.94 2.06.94-2.06 2.06-.94-2.06-.94-.94-2.06-.94 2.06-2.06.94z\"/><path d=\"M17.41 7.96l-1.37-1.37c-.4-.4-.92-.59-1.43-.59-.52 0-1.04.2-1.43.59L10.3 9.45l-7.72 7.72c-.78.78-.78 2.05 0 2.83L4 21.41c.39.39.9.59 1.41.59.51 0 1.02-.2 1.41-.59l7.78-7.78 2.81-2.81c.8-.78.8-2.07 0-2.86zM5.41 20L4 18.59l7.72-7.72 1.47 1.35L5.41 20z\"/>\n",
              "  </svg>\n",
              "      </button>\n",
              "      \n",
              "  <style>\n",
              "    .colab-df-container {\n",
              "      display:flex;\n",
              "      flex-wrap:wrap;\n",
              "      gap: 12px;\n",
              "    }\n",
              "\n",
              "    .colab-df-convert {\n",
              "      background-color: #E8F0FE;\n",
              "      border: none;\n",
              "      border-radius: 50%;\n",
              "      cursor: pointer;\n",
              "      display: none;\n",
              "      fill: #1967D2;\n",
              "      height: 32px;\n",
              "      padding: 0 0 0 0;\n",
              "      width: 32px;\n",
              "    }\n",
              "\n",
              "    .colab-df-convert:hover {\n",
              "      background-color: #E2EBFA;\n",
              "      box-shadow: 0px 1px 2px rgba(60, 64, 67, 0.3), 0px 1px 3px 1px rgba(60, 64, 67, 0.15);\n",
              "      fill: #174EA6;\n",
              "    }\n",
              "\n",
              "    [theme=dark] .colab-df-convert {\n",
              "      background-color: #3B4455;\n",
              "      fill: #D2E3FC;\n",
              "    }\n",
              "\n",
              "    [theme=dark] .colab-df-convert:hover {\n",
              "      background-color: #434B5C;\n",
              "      box-shadow: 0px 1px 3px 1px rgba(0, 0, 0, 0.15);\n",
              "      filter: drop-shadow(0px 1px 2px rgba(0, 0, 0, 0.3));\n",
              "      fill: #FFFFFF;\n",
              "    }\n",
              "  </style>\n",
              "\n",
              "      <script>\n",
              "        const buttonEl =\n",
              "          document.querySelector('#df-094ae8a8-0efd-4c28-a361-8e61af848683 button.colab-df-convert');\n",
              "        buttonEl.style.display =\n",
              "          google.colab.kernel.accessAllowed ? 'block' : 'none';\n",
              "\n",
              "        async function convertToInteractive(key) {\n",
              "          const element = document.querySelector('#df-094ae8a8-0efd-4c28-a361-8e61af848683');\n",
              "          const dataTable =\n",
              "            await google.colab.kernel.invokeFunction('convertToInteractive',\n",
              "                                                     [key], {});\n",
              "          if (!dataTable) return;\n",
              "\n",
              "          const docLinkHtml = 'Like what you see? Visit the ' +\n",
              "            '<a target=\"_blank\" href=https://colab.research.google.com/notebooks/data_table.ipynb>data table notebook</a>'\n",
              "            + ' to learn more about interactive tables.';\n",
              "          element.innerHTML = '';\n",
              "          dataTable['output_type'] = 'display_data';\n",
              "          await google.colab.output.renderOutput(dataTable, element);\n",
              "          const docLink = document.createElement('div');\n",
              "          docLink.innerHTML = docLinkHtml;\n",
              "          element.appendChild(docLink);\n",
              "        }\n",
              "      </script>\n",
              "    </div>\n",
              "  </div>\n",
              "  "
            ]
          },
          "metadata": {},
          "execution_count": 26
        }
      ]
    },
    {
      "cell_type": "markdown",
      "source": [
        "# Pré Análise em Pandas"
      ],
      "metadata": {
        "id": "8Ri0s0F3z4rD"
      }
    },
    {
      "cell_type": "markdown",
      "source": [
        "### df_s1"
      ],
      "metadata": {
        "id": "H3z3m05K5pLd"
      }
    },
    {
      "cell_type": "code",
      "source": [
        "# Visualizar número de linhas e colunas.\n",
        "\n",
        "df_s1.shape"
      ],
      "metadata": {
        "colab": {
          "base_uri": "https://localhost:8080/"
        },
        "id": "8AXDWbD62JOM",
        "outputId": "38f25a24-1ce7-4f2b-cd85-a1a2d2813056"
      },
      "execution_count": null,
      "outputs": [
        {
          "output_type": "execute_result",
          "data": {
            "text/plain": [
              "(4536, 17)"
            ]
          },
          "metadata": {},
          "execution_count": 27
        }
      ]
    },
    {
      "cell_type": "code",
      "source": [
        "# Checar os valores únicos da coluna.\n",
        "\n",
        "df_s1['COMBUSTÍVEL'].unique()"
      ],
      "metadata": {
        "colab": {
          "base_uri": "https://localhost:8080/"
        },
        "id": "CcJJJEgTNVxe",
        "outputId": "65da0814-42bd-407f-db7e-52a38710b48f"
      },
      "execution_count": null,
      "outputs": [
        {
          "output_type": "execute_result",
          "data": {
            "text/plain": [
              "array(['GASOLINA C (m3)', 'GASOLINA DE AVIAÇÃO (m3)',\n",
              "       'QUEROSENE ILUMINANTE (m3)', 'QUEROSENE DE AVIAÇÃO (m3)',\n",
              "       'ÓLEO DIESEL (m3)', 'ÓLEO COMBUSTÍVEL (m3)',\n",
              "       'ETANOL HIDRATADO (m3)', 'GLP (m3)'], dtype=object)"
            ]
          },
          "metadata": {},
          "execution_count": 28
        }
      ]
    },
    {
      "cell_type": "code",
      "source": [
        "# Checar os valores únicos da coluna.\n",
        "\n",
        "df_s1.ANO.unique()"
      ],
      "metadata": {
        "colab": {
          "base_uri": "https://localhost:8080/"
        },
        "id": "OMv8broGxpp_",
        "outputId": "d8d6e57b-9239-4886-d782-7e8d46f718d8"
      },
      "execution_count": null,
      "outputs": [
        {
          "output_type": "execute_result",
          "data": {
            "text/plain": [
              "array([2000, 2001, 2002, 2003, 2004, 2005, 2006, 2007, 2008, 2009, 2010,\n",
              "       2011, 2012, 2013, 2014, 2015, 2016, 2017, 2018, 2019, 2020])"
            ]
          },
          "metadata": {},
          "execution_count": 29
        }
      ]
    },
    {
      "cell_type": "code",
      "source": [
        "# Verificar valores NULL em cada uma das coluna\n",
        "\n",
        "df_s1.isna().sum()"
      ],
      "metadata": {
        "colab": {
          "base_uri": "https://localhost:8080/"
        },
        "id": "WtKqQQk91rDr",
        "outputId": "f18b7098-60b9-48d2-9ac9-6ebf348b8e98"
      },
      "execution_count": null,
      "outputs": [
        {
          "output_type": "execute_result",
          "data": {
            "text/plain": [
              "COMBUSTÍVEL     0\n",
              "ANO             0\n",
              "REGIÃO          0\n",
              "ESTADO          0\n",
              "Jan            50\n",
              "Fev            50\n",
              "Mar            50\n",
              "Abr            49\n",
              "Mai            50\n",
              "Jun            50\n",
              "Jul            50\n",
              "Ago            50\n",
              "Set            50\n",
              "Out            50\n",
              "Nov            50\n",
              "Dez            49\n",
              "TOTAL          50\n",
              "dtype: int64"
            ]
          },
          "metadata": {},
          "execution_count": 30
        }
      ]
    },
    {
      "cell_type": "code",
      "source": [
        "# Visualização das informações do dataset (quantidade de dados, types, null etc). \n",
        "\n",
        "df_s1.info()"
      ],
      "metadata": {
        "colab": {
          "base_uri": "https://localhost:8080/"
        },
        "id": "KE55Lipn0YoE",
        "outputId": "fb5fbcfb-ca6b-40fb-aafc-cda5e9000eb5"
      },
      "execution_count": null,
      "outputs": [
        {
          "output_type": "stream",
          "name": "stdout",
          "text": [
            "<class 'pandas.core.frame.DataFrame'>\n",
            "RangeIndex: 4536 entries, 0 to 4535\n",
            "Data columns (total 17 columns):\n",
            " #   Column       Non-Null Count  Dtype  \n",
            "---  ------       --------------  -----  \n",
            " 0   COMBUSTÍVEL  4536 non-null   object \n",
            " 1   ANO          4536 non-null   int64  \n",
            " 2   REGIÃO       4536 non-null   object \n",
            " 3   ESTADO       4536 non-null   object \n",
            " 4   Jan          4486 non-null   float64\n",
            " 5   Fev          4486 non-null   float64\n",
            " 6   Mar          4486 non-null   float64\n",
            " 7   Abr          4487 non-null   float64\n",
            " 8   Mai          4486 non-null   float64\n",
            " 9   Jun          4486 non-null   float64\n",
            " 10  Jul          4486 non-null   float64\n",
            " 11  Ago          4486 non-null   float64\n",
            " 12  Set          4486 non-null   float64\n",
            " 13  Out          4486 non-null   float64\n",
            " 14  Nov          4486 non-null   float64\n",
            " 15  Dez          4487 non-null   float64\n",
            " 16  TOTAL        4486 non-null   float64\n",
            "dtypes: float64(13), int64(1), object(3)\n",
            "memory usage: 602.6+ KB\n"
          ]
        }
      ]
    },
    {
      "cell_type": "code",
      "source": [],
      "metadata": {
        "id": "4zN1kAo13fZq"
      },
      "execution_count": null,
      "outputs": []
    },
    {
      "cell_type": "markdown",
      "source": [
        "### df_s2"
      ],
      "metadata": {
        "id": "KXKsIjOW3g1p"
      }
    },
    {
      "cell_type": "code",
      "source": [
        "# Visualizar número de linhas e colunas.\n",
        "\n",
        "df_s2.shape"
      ],
      "metadata": {
        "colab": {
          "base_uri": "https://localhost:8080/"
        },
        "outputId": "af16f18b-5e19-4a92-e542-b46c329fec69",
        "id": "1E9OjsiS3g1p"
      },
      "execution_count": null,
      "outputs": [
        {
          "output_type": "execute_result",
          "data": {
            "text/plain": [
              "(1080, 17)"
            ]
          },
          "metadata": {},
          "execution_count": 32
        }
      ]
    },
    {
      "cell_type": "code",
      "source": [
        "# Checar os valores únicos da coluna.\n",
        "\n",
        "df_s2['COMBUSTÍVEL'].unique()"
      ],
      "metadata": {
        "colab": {
          "base_uri": "https://localhost:8080/"
        },
        "outputId": "721d99b9-5d53-455b-8433-e5dd27f9da12",
        "id": "bsbXuous3g1p"
      },
      "execution_count": null,
      "outputs": [
        {
          "output_type": "execute_result",
          "data": {
            "text/plain": [
              "array(['ÓLEO DIESEL S-10 (m3)', 'ÓLEO DIESEL S-500 (m3)',\n",
              "       'ÓLEO DIESEL S-1800 (m3)', 'ÓLEO DIESEL MARÍTIMO (m3)',\n",
              "       'ÓLEO DIESEL (OUTROS ) (m3)'], dtype=object)"
            ]
          },
          "metadata": {},
          "execution_count": 33
        }
      ]
    },
    {
      "cell_type": "code",
      "source": [
        "# Checar os valores únicos da coluna.\n",
        "\n",
        "df_s2.ANO.unique()"
      ],
      "metadata": {
        "colab": {
          "base_uri": "https://localhost:8080/"
        },
        "outputId": "cddd3f5d-fd67-4e3f-de98-7feeb8059ae8",
        "id": "Ar6Wa6n63g1p"
      },
      "execution_count": null,
      "outputs": [
        {
          "output_type": "execute_result",
          "data": {
            "text/plain": [
              "array([2013, 2014, 2015, 2016, 2017, 2018, 2019, 2020])"
            ]
          },
          "metadata": {},
          "execution_count": 34
        }
      ]
    },
    {
      "cell_type": "code",
      "source": [
        "# Verificar valores NULL em cada uma das coluna\n",
        "\n",
        "df_s2.isna().sum()"
      ],
      "metadata": {
        "colab": {
          "base_uri": "https://localhost:8080/"
        },
        "outputId": "4604c282-b806-4a0a-fd0f-7d6fcbf18fec",
        "id": "7ZmpTvsx3g1p"
      },
      "execution_count": null,
      "outputs": [
        {
          "output_type": "execute_result",
          "data": {
            "text/plain": [
              "COMBUSTÍVEL     0\n",
              "ANO             0\n",
              "REGIÃO          0\n",
              "ESTADO          0\n",
              "Jan            30\n",
              "Fev            30\n",
              "Mar            30\n",
              "Abr            30\n",
              "Mai            30\n",
              "Jun            30\n",
              "Jul            31\n",
              "Ago            32\n",
              "Set            33\n",
              "Out            33\n",
              "Nov            33\n",
              "Dez            32\n",
              "TOTAL          31\n",
              "dtype: int64"
            ]
          },
          "metadata": {},
          "execution_count": 35
        }
      ]
    },
    {
      "cell_type": "code",
      "source": [
        "# Visualização das informações do dataset (quantidade de dados, types, null etc). \n",
        "\n",
        "df_s1.info()"
      ],
      "metadata": {
        "colab": {
          "base_uri": "https://localhost:8080/"
        },
        "outputId": "5c476e07-9b40-4435-c150-271289ad7a58",
        "id": "U1nY0QBQ3g1p"
      },
      "execution_count": null,
      "outputs": [
        {
          "output_type": "stream",
          "name": "stdout",
          "text": [
            "<class 'pandas.core.frame.DataFrame'>\n",
            "RangeIndex: 4536 entries, 0 to 4535\n",
            "Data columns (total 17 columns):\n",
            " #   Column       Non-Null Count  Dtype  \n",
            "---  ------       --------------  -----  \n",
            " 0   COMBUSTÍVEL  4536 non-null   object \n",
            " 1   ANO          4536 non-null   int64  \n",
            " 2   REGIÃO       4536 non-null   object \n",
            " 3   ESTADO       4536 non-null   object \n",
            " 4   Jan          4486 non-null   float64\n",
            " 5   Fev          4486 non-null   float64\n",
            " 6   Mar          4486 non-null   float64\n",
            " 7   Abr          4487 non-null   float64\n",
            " 8   Mai          4486 non-null   float64\n",
            " 9   Jun          4486 non-null   float64\n",
            " 10  Jul          4486 non-null   float64\n",
            " 11  Ago          4486 non-null   float64\n",
            " 12  Set          4486 non-null   float64\n",
            " 13  Out          4486 non-null   float64\n",
            " 14  Nov          4486 non-null   float64\n",
            " 15  Dez          4487 non-null   float64\n",
            " 16  TOTAL        4486 non-null   float64\n",
            "dtypes: float64(13), int64(1), object(3)\n",
            "memory usage: 602.6+ KB\n"
          ]
        }
      ]
    },
    {
      "cell_type": "markdown",
      "source": [
        "### df_s3"
      ],
      "metadata": {
        "id": "9goDzj293reZ"
      }
    },
    {
      "cell_type": "code",
      "source": [
        "# Visualizar número de linhas e colunas.\n",
        "\n",
        "df_s3.shape"
      ],
      "metadata": {
        "colab": {
          "base_uri": "https://localhost:8080/"
        },
        "outputId": "d66e8568-0940-4293-be82-195ed7ddadeb",
        "id": "7bRcAqAS3reZ"
      },
      "execution_count": null,
      "outputs": [
        {
          "output_type": "execute_result",
          "data": {
            "text/plain": [
              "(594, 17)"
            ]
          },
          "metadata": {},
          "execution_count": 37
        }
      ]
    },
    {
      "cell_type": "code",
      "source": [
        "# Checar os valores únicos da coluna.\n",
        "\n",
        "df_s3['COMBUSTÍVEL'].unique()"
      ],
      "metadata": {
        "colab": {
          "base_uri": "https://localhost:8080/"
        },
        "outputId": "27790625-265d-49e3-d021-d94eed249b2d",
        "id": "OFI518Gp3rea"
      },
      "execution_count": null,
      "outputs": [
        {
          "output_type": "execute_result",
          "data": {
            "text/plain": [
              "array(['GLP - Até P13 (m3)', 'GLP - Outros (m3)'], dtype=object)"
            ]
          },
          "metadata": {},
          "execution_count": 38
        }
      ]
    },
    {
      "cell_type": "code",
      "source": [
        "# Checar os valores únicos da coluna.\n",
        "\n",
        "df_s3.ANO.unique()"
      ],
      "metadata": {
        "colab": {
          "base_uri": "https://localhost:8080/"
        },
        "outputId": "7bfbe9ca-644d-4ea5-9128-ed1be4b801c6",
        "id": "tLXt_ngw3rea"
      },
      "execution_count": null,
      "outputs": [
        {
          "output_type": "execute_result",
          "data": {
            "text/plain": [
              "array([2010, 2011, 2012, 2013, 2014, 2015, 2016, 2017, 2018, 2019, 2020])"
            ]
          },
          "metadata": {},
          "execution_count": 39
        }
      ]
    },
    {
      "cell_type": "code",
      "source": [
        "# Verificar valores NULL em cada uma das coluna\n",
        "\n",
        "df_s3.isna().sum()"
      ],
      "metadata": {
        "colab": {
          "base_uri": "https://localhost:8080/"
        },
        "outputId": "4aedd986-4b9c-467f-da24-6b3fdceecb9c",
        "id": "VZKGy5I53rea"
      },
      "execution_count": null,
      "outputs": [
        {
          "output_type": "execute_result",
          "data": {
            "text/plain": [
              "COMBUSTÍVEL     0\n",
              "ANO             0\n",
              "REGIÃO          0\n",
              "ESTADO          0\n",
              "Jan            12\n",
              "Fev            12\n",
              "Mar            12\n",
              "Abr            12\n",
              "Mai            13\n",
              "Jun            14\n",
              "Jul            14\n",
              "Ago            13\n",
              "Set            12\n",
              "Out            12\n",
              "Nov            12\n",
              "Dez            12\n",
              "TOTAL          12\n",
              "dtype: int64"
            ]
          },
          "metadata": {},
          "execution_count": 40
        }
      ]
    },
    {
      "cell_type": "code",
      "source": [
        "# Visualização das informações do dataset (quantidade de dados, types, null etc). \n",
        "\n",
        "df_s1.info()"
      ],
      "metadata": {
        "colab": {
          "base_uri": "https://localhost:8080/"
        },
        "outputId": "4fa475f9-5a5a-459b-c0f9-610a00dc5b86",
        "id": "WqghUmw93rea"
      },
      "execution_count": null,
      "outputs": [
        {
          "output_type": "stream",
          "name": "stdout",
          "text": [
            "<class 'pandas.core.frame.DataFrame'>\n",
            "RangeIndex: 4536 entries, 0 to 4535\n",
            "Data columns (total 17 columns):\n",
            " #   Column       Non-Null Count  Dtype  \n",
            "---  ------       --------------  -----  \n",
            " 0   COMBUSTÍVEL  4536 non-null   object \n",
            " 1   ANO          4536 non-null   int64  \n",
            " 2   REGIÃO       4536 non-null   object \n",
            " 3   ESTADO       4536 non-null   object \n",
            " 4   Jan          4486 non-null   float64\n",
            " 5   Fev          4486 non-null   float64\n",
            " 6   Mar          4486 non-null   float64\n",
            " 7   Abr          4487 non-null   float64\n",
            " 8   Mai          4486 non-null   float64\n",
            " 9   Jun          4486 non-null   float64\n",
            " 10  Jul          4486 non-null   float64\n",
            " 11  Ago          4486 non-null   float64\n",
            " 12  Set          4486 non-null   float64\n",
            " 13  Out          4486 non-null   float64\n",
            " 14  Nov          4486 non-null   float64\n",
            " 15  Dez          4487 non-null   float64\n",
            " 16  TOTAL        4486 non-null   float64\n",
            "dtypes: float64(13), int64(1), object(3)\n",
            "memory usage: 602.6+ KB\n"
          ]
        }
      ]
    },
    {
      "cell_type": "markdown",
      "source": [
        "### df_s4"
      ],
      "metadata": {
        "id": "zKS0-twU4j0z"
      }
    },
    {
      "cell_type": "code",
      "source": [
        "# Visualizar número de linhas e colunas.\n",
        "\n",
        "df_s4.shape"
      ],
      "metadata": {
        "colab": {
          "base_uri": "https://localhost:8080/"
        },
        "outputId": "a28dbff4-1026-4c36-de28-b36cd0c66b2c",
        "id": "--dFCd6C4j0z"
      },
      "execution_count": null,
      "outputs": [
        {
          "output_type": "execute_result",
          "data": {
            "text/plain": [
              "(729, 16)"
            ]
          },
          "metadata": {},
          "execution_count": 42
        }
      ]
    },
    {
      "cell_type": "code",
      "source": [
        "# Checar os valores únicos da coluna.\n",
        "\n",
        "df_s4['SEGMENTO'].unique()"
      ],
      "metadata": {
        "colab": {
          "base_uri": "https://localhost:8080/"
        },
        "outputId": "8d376cc3-792d-4994-b4cc-4fb1c4c85be9",
        "id": "zr2mjfBi4j0z"
      },
      "execution_count": null,
      "outputs": [
        {
          "output_type": "execute_result",
          "data": {
            "text/plain": [
              "array(['POSTO REVENDEDOR', 'CONSUMIDOR FINAL', 'TRR'], dtype=object)"
            ]
          },
          "metadata": {},
          "execution_count": 43
        }
      ]
    },
    {
      "cell_type": "code",
      "source": [
        "# Checar os valores únicos da coluna.\n",
        "\n",
        "df_s4.ANO.unique()"
      ],
      "metadata": {
        "colab": {
          "base_uri": "https://localhost:8080/"
        },
        "outputId": "70e2461a-c6e1-49e8-d160-9e2a790b03c0",
        "id": "lnPw9yvN4j0z"
      },
      "execution_count": null,
      "outputs": [
        {
          "output_type": "execute_result",
          "data": {
            "text/plain": [
              "array([2012, 2013, 2014, 2015, 2016, 2017, 2018, 2019, 2020])"
            ]
          },
          "metadata": {},
          "execution_count": 44
        }
      ]
    },
    {
      "cell_type": "code",
      "source": [
        "# Verificar valores NULL em cada uma das coluna\n",
        "\n",
        "df_s4.isna().sum()"
      ],
      "metadata": {
        "colab": {
          "base_uri": "https://localhost:8080/"
        },
        "outputId": "d92d4adf-1e4b-43e0-9ab8-8eadb87e7e99",
        "id": "3GGFqrVR4j0z"
      },
      "execution_count": null,
      "outputs": [
        {
          "output_type": "execute_result",
          "data": {
            "text/plain": [
              "ANO          0\n",
              "SEGMENTO     0\n",
              "ESTADO       0\n",
              "Jan         12\n",
              "Fev         12\n",
              "Mar         12\n",
              "Abr         12\n",
              "Mai         12\n",
              "Jun         12\n",
              "Jul         12\n",
              "Ago         13\n",
              "Set         13\n",
              "Out         13\n",
              "Nov         13\n",
              "Dez         13\n",
              "TOTAL       13\n",
              "dtype: int64"
            ]
          },
          "metadata": {},
          "execution_count": 45
        }
      ]
    },
    {
      "cell_type": "markdown",
      "source": [
        "### df_s5"
      ],
      "metadata": {
        "id": "PxKE_Tyg48tj"
      }
    },
    {
      "cell_type": "code",
      "source": [
        "# Visualizar número de linhas e colunas.\n",
        "\n",
        "df_s5.shape"
      ],
      "metadata": {
        "colab": {
          "base_uri": "https://localhost:8080/"
        },
        "outputId": "4a648b25-7e63-46eb-b478-128be5e26c84",
        "id": "kwk2cA4948tj"
      },
      "execution_count": null,
      "outputs": [
        {
          "output_type": "execute_result",
          "data": {
            "text/plain": [
              "(729, 16)"
            ]
          },
          "metadata": {},
          "execution_count": 46
        }
      ]
    },
    {
      "cell_type": "code",
      "source": [
        "# Checar os valores únicos da coluna.\n",
        "\n",
        "df_s5['SEGMENTO'].unique()"
      ],
      "metadata": {
        "colab": {
          "base_uri": "https://localhost:8080/"
        },
        "outputId": "ac94b09a-ac46-4f02-d15b-b186757c89ee",
        "id": "CDU_MHu748tj"
      },
      "execution_count": null,
      "outputs": [
        {
          "output_type": "execute_result",
          "data": {
            "text/plain": [
              "array(['POSTO REVENDEDOR', 'CONSUMIDOR FINAL', 'TRR'], dtype=object)"
            ]
          },
          "metadata": {},
          "execution_count": 47
        }
      ]
    },
    {
      "cell_type": "code",
      "source": [
        "# Checar os valores únicos da coluna.\n",
        "\n",
        "df_s5.ANO.unique()"
      ],
      "metadata": {
        "colab": {
          "base_uri": "https://localhost:8080/"
        },
        "outputId": "c40121fe-05f0-45be-8711-85521f7eed00",
        "id": "vpOnrP6P48tj"
      },
      "execution_count": null,
      "outputs": [
        {
          "output_type": "execute_result",
          "data": {
            "text/plain": [
              "array([2012, 2013, 2014, 2015, 2016, 2017, 2018, 2019, 2020])"
            ]
          },
          "metadata": {},
          "execution_count": 48
        }
      ]
    },
    {
      "cell_type": "code",
      "source": [
        "# Verificar valores NULL em cada uma das coluna\n",
        "\n",
        "df_s5.isna().sum()"
      ],
      "metadata": {
        "colab": {
          "base_uri": "https://localhost:8080/"
        },
        "outputId": "f40ea750-5dd1-4b1b-fb8b-99eecfe6ac13",
        "id": "EEPF5Ifz48tj"
      },
      "execution_count": null,
      "outputs": [
        {
          "output_type": "execute_result",
          "data": {
            "text/plain": [
              "ANO          0\n",
              "SEGMENTO     0\n",
              "ESTADO       0\n",
              "Jan         12\n",
              "Fev         12\n",
              "Mar         12\n",
              "Abr         12\n",
              "Mai         12\n",
              "Jun         12\n",
              "Jul         12\n",
              "Ago         13\n",
              "Set         13\n",
              "Out         13\n",
              "Nov         13\n",
              "Dez         13\n",
              "TOTAL       13\n",
              "dtype: int64"
            ]
          },
          "metadata": {},
          "execution_count": 49
        }
      ]
    },
    {
      "cell_type": "markdown",
      "source": [
        "### df_s6"
      ],
      "metadata": {
        "id": "CuXB_Dv50Jjh"
      }
    },
    {
      "cell_type": "code",
      "source": [
        "# Visualizar número de linhas e colunas.\n",
        "\n",
        "df_s6.shape"
      ],
      "metadata": {
        "colab": {
          "base_uri": "https://localhost:8080/"
        },
        "id": "etq7A_Az5ISJ",
        "outputId": "0d8f633e-810d-4783-9cfe-06e7b776fdbf"
      },
      "execution_count": null,
      "outputs": [
        {
          "output_type": "execute_result",
          "data": {
            "text/plain": [
              "(729, 16)"
            ]
          },
          "metadata": {},
          "execution_count": 50
        }
      ]
    },
    {
      "cell_type": "code",
      "source": [
        "df_s6['SEGMENTO'].unique()"
      ],
      "metadata": {
        "colab": {
          "base_uri": "https://localhost:8080/"
        },
        "id": "RDxBZlEtzGwx",
        "outputId": "4092b7e7-1d3f-48cf-d4f0-685da0ef7181"
      },
      "execution_count": null,
      "outputs": [
        {
          "output_type": "execute_result",
          "data": {
            "text/plain": [
              "array(['POSTO REVENDEDOR', 'CONSUMIDOR FINAL', 'TRR'], dtype=object)"
            ]
          },
          "metadata": {},
          "execution_count": 51
        }
      ]
    },
    {
      "cell_type": "code",
      "source": [
        "df_s6.ANO.unique()"
      ],
      "metadata": {
        "colab": {
          "base_uri": "https://localhost:8080/"
        },
        "id": "pMcfQVzI0Mee",
        "outputId": "0c0465a9-79fe-46b9-b96a-bc175075dc01"
      },
      "execution_count": null,
      "outputs": [
        {
          "output_type": "execute_result",
          "data": {
            "text/plain": [
              "array([2012, 2013, 2014, 2015, 2016, 2017, 2018, 2019, 2020])"
            ]
          },
          "metadata": {},
          "execution_count": 52
        }
      ]
    },
    {
      "cell_type": "code",
      "source": [
        "# Verificar valores NULL em cada uma das coluna\n",
        "\n",
        "df_s6.isna().sum()"
      ],
      "metadata": {
        "colab": {
          "base_uri": "https://localhost:8080/"
        },
        "id": "OLUpLOwk5Pzq",
        "outputId": "a7131c91-4519-4210-c209-5027e15c4a60"
      },
      "execution_count": null,
      "outputs": [
        {
          "output_type": "execute_result",
          "data": {
            "text/plain": [
              "ANO          0\n",
              "SEGMENTO     0\n",
              "ESTADO       0\n",
              "Jan         12\n",
              "Fev         12\n",
              "Mar         12\n",
              "Abr         12\n",
              "Mai         12\n",
              "Jun         12\n",
              "Jul         12\n",
              "Ago         13\n",
              "Set         13\n",
              "Out         13\n",
              "Nov         13\n",
              "Dez         13\n",
              "TOTAL       13\n",
              "dtype: int64"
            ]
          },
          "metadata": {},
          "execution_count": 53
        }
      ]
    },
    {
      "cell_type": "code",
      "source": [
        "# Visualização das informações do dataset (quantidade de dados, types, null etc). \n",
        "\n",
        "df_s6.info()"
      ],
      "metadata": {
        "colab": {
          "base_uri": "https://localhost:8080/"
        },
        "id": "iNGwgbV1BqCA",
        "outputId": "bc950f57-abe3-45c3-b843-d2c44d6b5307"
      },
      "execution_count": null,
      "outputs": [
        {
          "output_type": "stream",
          "name": "stdout",
          "text": [
            "<class 'pandas.core.frame.DataFrame'>\n",
            "RangeIndex: 729 entries, 0 to 728\n",
            "Data columns (total 16 columns):\n",
            " #   Column    Non-Null Count  Dtype \n",
            "---  ------    --------------  ----- \n",
            " 0   ANO       729 non-null    int64 \n",
            " 1   SEGMENTO  729 non-null    object\n",
            " 2   ESTADO    729 non-null    object\n",
            " 3   Jan       717 non-null    object\n",
            " 4   Fev       717 non-null    object\n",
            " 5   Mar       717 non-null    object\n",
            " 6   Abr       717 non-null    object\n",
            " 7   Mai       717 non-null    object\n",
            " 8   Jun       717 non-null    object\n",
            " 9   Jul       717 non-null    object\n",
            " 10  Ago       716 non-null    object\n",
            " 11  Set       716 non-null    object\n",
            " 12  Out       716 non-null    object\n",
            " 13  Nov       716 non-null    object\n",
            " 14  Dez       716 non-null    object\n",
            " 15  TOTAL     716 non-null    object\n",
            "dtypes: int64(1), object(15)\n",
            "memory usage: 91.2+ KB\n"
          ]
        }
      ]
    },
    {
      "cell_type": "markdown",
      "source": [
        "# Análise"
      ],
      "metadata": {
        "id": "UAnAXL6BCVdo"
      }
    },
    {
      "cell_type": "markdown",
      "source": [
        "> - As abas s1, s2 e s3 possuem valores sobre combustíveis, ano e volume de venda em m3 (metro cúbico).\n",
        "- As abas s4, s5 e s6 possuem valores a respeito do segmento, ano e volume de venda em m3 (metro cúbico).\n",
        "- As colunas que representam os meses são todas de floats e somente elas possuem valores null.\n",
        "\n",
        "# To do:\n",
        "\n",
        "> - [X] Não precisaremos das abas s4, s5 e s6.\n",
        "- [X] Unir as abas s1, s2 e s3 em um único DF.\n",
        "- [X] Renomear os nomes das colunas.\n",
        "- [X] Renomear os valores de algumas colunas.\n",
        "- [X] Tratar valores null, substiuindo-os por zero. \n",
        "- [X] Alterar a ordem das colunas de acordo com o schema proposto.\n",
        "- [X] Dropar colunas desnecessárias para o projeto.\n",
        "- [X] Checar e alterar types, se necessário.\n",
        "\n"
      ],
      "metadata": {
        "id": "6p9vL9zK6GXV"
      }
    },
    {
      "cell_type": "markdown",
      "source": [
        "# Tratamento"
      ],
      "metadata": {
        "id": "jiM8Fn4BAKnS"
      }
    },
    {
      "cell_type": "markdown",
      "source": [
        "### Unir os dfs s1,s2 e s3"
      ],
      "metadata": {
        "id": "NkVeLgRuANb5"
      }
    },
    {
      "cell_type": "code",
      "source": [
        "# Para unir os dataframes s1, s2 e s3, vamos utilizar o concat.\n",
        "# A variável 'frames' recebe uma lista com todos os dataframes. A variável 'df' receberá nosso resultado. \n",
        "\n",
        "frames = [df_s1, df_s2, df_s3]\n",
        "df = pd.concat(frames)"
      ],
      "metadata": {
        "id": "lTAElzUi_qbD"
      },
      "execution_count": null,
      "outputs": []
    },
    {
      "cell_type": "code",
      "source": [
        "df.head()"
      ],
      "metadata": {
        "colab": {
          "base_uri": "https://localhost:8080/",
          "height": 357
        },
        "id": "Cj-FilAdDI-N",
        "outputId": "3d7c0b83-2196-441c-ac06-fc84348b74d7"
      },
      "execution_count": null,
      "outputs": [
        {
          "output_type": "execute_result",
          "data": {
            "text/plain": [
              "       COMBUSTÍVEL   ANO        REGIÃO    ESTADO         Jan        Fev  \\\n",
              "0  GASOLINA C (m3)  2000  REGIÃO NORTE  RONDÔNIA  136073.253   9563.263   \n",
              "1  GASOLINA C (m3)  2000  REGIÃO NORTE      ACRE    3358.346  40001.853   \n",
              "2  GASOLINA C (m3)  2000  REGIÃO NORTE  AMAZONAS   20766.918  21180.919   \n",
              "3  GASOLINA C (m3)  2000  REGIÃO NORTE   RORAIMA    3716.032   3200.400   \n",
              "4  GASOLINA C (m3)  2000  REGIÃO NORTE      PARÁ   29755.907  28661.951   \n",
              "\n",
              "          Mar        Abr         Mai        Jun        Jul        Ago  \\\n",
              "0   11341.229   9369.746   10719.983  11165.968  12312.451  11220.970   \n",
              "1    3065.758   3495.290    2946.930   3023.920   3206.930   3612.580   \n",
              "2  242742.352  17615.604   20258.200  18741.344  19604.023  20221.674   \n",
              "3    3339.332  43338.929    3259.300   3636.216   3631.569   3348.416   \n",
              "4   28145.784  29294.796  359575.398  28830.479  32297.047  27310.979   \n",
              "\n",
              "         Set        Out        Nov        Dez      TOTAL  \n",
              "0  12482.281  13591.122  11940.570  11547.576  10818.094  \n",
              "1   3264.460   3835.740   3676.571   3225.610   3289.718  \n",
              "2  20792.616  19912.898  21869.338  21145.643  20633.175  \n",
              "3   3394.016   4078.616   3346.616   4029.900   4358.516  \n",
              "4  29396.384  26511.009  36553.250  31807.840  31009.972  "
            ],
            "text/html": [
              "\n",
              "  <div id=\"df-4c7c1b3c-12a5-40a0-aadb-0867e25d2ab9\">\n",
              "    <div class=\"colab-df-container\">\n",
              "      <div>\n",
              "<style scoped>\n",
              "    .dataframe tbody tr th:only-of-type {\n",
              "        vertical-align: middle;\n",
              "    }\n",
              "\n",
              "    .dataframe tbody tr th {\n",
              "        vertical-align: top;\n",
              "    }\n",
              "\n",
              "    .dataframe thead th {\n",
              "        text-align: right;\n",
              "    }\n",
              "</style>\n",
              "<table border=\"1\" class=\"dataframe\">\n",
              "  <thead>\n",
              "    <tr style=\"text-align: right;\">\n",
              "      <th></th>\n",
              "      <th>COMBUSTÍVEL</th>\n",
              "      <th>ANO</th>\n",
              "      <th>REGIÃO</th>\n",
              "      <th>ESTADO</th>\n",
              "      <th>Jan</th>\n",
              "      <th>Fev</th>\n",
              "      <th>Mar</th>\n",
              "      <th>Abr</th>\n",
              "      <th>Mai</th>\n",
              "      <th>Jun</th>\n",
              "      <th>Jul</th>\n",
              "      <th>Ago</th>\n",
              "      <th>Set</th>\n",
              "      <th>Out</th>\n",
              "      <th>Nov</th>\n",
              "      <th>Dez</th>\n",
              "      <th>TOTAL</th>\n",
              "    </tr>\n",
              "  </thead>\n",
              "  <tbody>\n",
              "    <tr>\n",
              "      <th>0</th>\n",
              "      <td>GASOLINA C (m3)</td>\n",
              "      <td>2000</td>\n",
              "      <td>REGIÃO NORTE</td>\n",
              "      <td>RONDÔNIA</td>\n",
              "      <td>136073.253</td>\n",
              "      <td>9563.263</td>\n",
              "      <td>11341.229</td>\n",
              "      <td>9369.746</td>\n",
              "      <td>10719.983</td>\n",
              "      <td>11165.968</td>\n",
              "      <td>12312.451</td>\n",
              "      <td>11220.970</td>\n",
              "      <td>12482.281</td>\n",
              "      <td>13591.122</td>\n",
              "      <td>11940.570</td>\n",
              "      <td>11547.576</td>\n",
              "      <td>10818.094</td>\n",
              "    </tr>\n",
              "    <tr>\n",
              "      <th>1</th>\n",
              "      <td>GASOLINA C (m3)</td>\n",
              "      <td>2000</td>\n",
              "      <td>REGIÃO NORTE</td>\n",
              "      <td>ACRE</td>\n",
              "      <td>3358.346</td>\n",
              "      <td>40001.853</td>\n",
              "      <td>3065.758</td>\n",
              "      <td>3495.290</td>\n",
              "      <td>2946.930</td>\n",
              "      <td>3023.920</td>\n",
              "      <td>3206.930</td>\n",
              "      <td>3612.580</td>\n",
              "      <td>3264.460</td>\n",
              "      <td>3835.740</td>\n",
              "      <td>3676.571</td>\n",
              "      <td>3225.610</td>\n",
              "      <td>3289.718</td>\n",
              "    </tr>\n",
              "    <tr>\n",
              "      <th>2</th>\n",
              "      <td>GASOLINA C (m3)</td>\n",
              "      <td>2000</td>\n",
              "      <td>REGIÃO NORTE</td>\n",
              "      <td>AMAZONAS</td>\n",
              "      <td>20766.918</td>\n",
              "      <td>21180.919</td>\n",
              "      <td>242742.352</td>\n",
              "      <td>17615.604</td>\n",
              "      <td>20258.200</td>\n",
              "      <td>18741.344</td>\n",
              "      <td>19604.023</td>\n",
              "      <td>20221.674</td>\n",
              "      <td>20792.616</td>\n",
              "      <td>19912.898</td>\n",
              "      <td>21869.338</td>\n",
              "      <td>21145.643</td>\n",
              "      <td>20633.175</td>\n",
              "    </tr>\n",
              "    <tr>\n",
              "      <th>3</th>\n",
              "      <td>GASOLINA C (m3)</td>\n",
              "      <td>2000</td>\n",
              "      <td>REGIÃO NORTE</td>\n",
              "      <td>RORAIMA</td>\n",
              "      <td>3716.032</td>\n",
              "      <td>3200.400</td>\n",
              "      <td>3339.332</td>\n",
              "      <td>43338.929</td>\n",
              "      <td>3259.300</td>\n",
              "      <td>3636.216</td>\n",
              "      <td>3631.569</td>\n",
              "      <td>3348.416</td>\n",
              "      <td>3394.016</td>\n",
              "      <td>4078.616</td>\n",
              "      <td>3346.616</td>\n",
              "      <td>4029.900</td>\n",
              "      <td>4358.516</td>\n",
              "    </tr>\n",
              "    <tr>\n",
              "      <th>4</th>\n",
              "      <td>GASOLINA C (m3)</td>\n",
              "      <td>2000</td>\n",
              "      <td>REGIÃO NORTE</td>\n",
              "      <td>PARÁ</td>\n",
              "      <td>29755.907</td>\n",
              "      <td>28661.951</td>\n",
              "      <td>28145.784</td>\n",
              "      <td>29294.796</td>\n",
              "      <td>359575.398</td>\n",
              "      <td>28830.479</td>\n",
              "      <td>32297.047</td>\n",
              "      <td>27310.979</td>\n",
              "      <td>29396.384</td>\n",
              "      <td>26511.009</td>\n",
              "      <td>36553.250</td>\n",
              "      <td>31807.840</td>\n",
              "      <td>31009.972</td>\n",
              "    </tr>\n",
              "  </tbody>\n",
              "</table>\n",
              "</div>\n",
              "      <button class=\"colab-df-convert\" onclick=\"convertToInteractive('df-4c7c1b3c-12a5-40a0-aadb-0867e25d2ab9')\"\n",
              "              title=\"Convert this dataframe to an interactive table.\"\n",
              "              style=\"display:none;\">\n",
              "        \n",
              "  <svg xmlns=\"http://www.w3.org/2000/svg\" height=\"24px\"viewBox=\"0 0 24 24\"\n",
              "       width=\"24px\">\n",
              "    <path d=\"M0 0h24v24H0V0z\" fill=\"none\"/>\n",
              "    <path d=\"M18.56 5.44l.94 2.06.94-2.06 2.06-.94-2.06-.94-.94-2.06-.94 2.06-2.06.94zm-11 1L8.5 8.5l.94-2.06 2.06-.94-2.06-.94L8.5 2.5l-.94 2.06-2.06.94zm10 10l.94 2.06.94-2.06 2.06-.94-2.06-.94-.94-2.06-.94 2.06-2.06.94z\"/><path d=\"M17.41 7.96l-1.37-1.37c-.4-.4-.92-.59-1.43-.59-.52 0-1.04.2-1.43.59L10.3 9.45l-7.72 7.72c-.78.78-.78 2.05 0 2.83L4 21.41c.39.39.9.59 1.41.59.51 0 1.02-.2 1.41-.59l7.78-7.78 2.81-2.81c.8-.78.8-2.07 0-2.86zM5.41 20L4 18.59l7.72-7.72 1.47 1.35L5.41 20z\"/>\n",
              "  </svg>\n",
              "      </button>\n",
              "      \n",
              "  <style>\n",
              "    .colab-df-container {\n",
              "      display:flex;\n",
              "      flex-wrap:wrap;\n",
              "      gap: 12px;\n",
              "    }\n",
              "\n",
              "    .colab-df-convert {\n",
              "      background-color: #E8F0FE;\n",
              "      border: none;\n",
              "      border-radius: 50%;\n",
              "      cursor: pointer;\n",
              "      display: none;\n",
              "      fill: #1967D2;\n",
              "      height: 32px;\n",
              "      padding: 0 0 0 0;\n",
              "      width: 32px;\n",
              "    }\n",
              "\n",
              "    .colab-df-convert:hover {\n",
              "      background-color: #E2EBFA;\n",
              "      box-shadow: 0px 1px 2px rgba(60, 64, 67, 0.3), 0px 1px 3px 1px rgba(60, 64, 67, 0.15);\n",
              "      fill: #174EA6;\n",
              "    }\n",
              "\n",
              "    [theme=dark] .colab-df-convert {\n",
              "      background-color: #3B4455;\n",
              "      fill: #D2E3FC;\n",
              "    }\n",
              "\n",
              "    [theme=dark] .colab-df-convert:hover {\n",
              "      background-color: #434B5C;\n",
              "      box-shadow: 0px 1px 3px 1px rgba(0, 0, 0, 0.15);\n",
              "      filter: drop-shadow(0px 1px 2px rgba(0, 0, 0, 0.3));\n",
              "      fill: #FFFFFF;\n",
              "    }\n",
              "  </style>\n",
              "\n",
              "      <script>\n",
              "        const buttonEl =\n",
              "          document.querySelector('#df-4c7c1b3c-12a5-40a0-aadb-0867e25d2ab9 button.colab-df-convert');\n",
              "        buttonEl.style.display =\n",
              "          google.colab.kernel.accessAllowed ? 'block' : 'none';\n",
              "\n",
              "        async function convertToInteractive(key) {\n",
              "          const element = document.querySelector('#df-4c7c1b3c-12a5-40a0-aadb-0867e25d2ab9');\n",
              "          const dataTable =\n",
              "            await google.colab.kernel.invokeFunction('convertToInteractive',\n",
              "                                                     [key], {});\n",
              "          if (!dataTable) return;\n",
              "\n",
              "          const docLinkHtml = 'Like what you see? Visit the ' +\n",
              "            '<a target=\"_blank\" href=https://colab.research.google.com/notebooks/data_table.ipynb>data table notebook</a>'\n",
              "            + ' to learn more about interactive tables.';\n",
              "          element.innerHTML = '';\n",
              "          dataTable['output_type'] = 'display_data';\n",
              "          await google.colab.output.renderOutput(dataTable, element);\n",
              "          const docLink = document.createElement('div');\n",
              "          docLink.innerHTML = docLinkHtml;\n",
              "          element.appendChild(docLink);\n",
              "        }\n",
              "      </script>\n",
              "    </div>\n",
              "  </div>\n",
              "  "
            ]
          },
          "metadata": {},
          "execution_count": 56
        }
      ]
    },
    {
      "cell_type": "code",
      "source": [
        "# Visualizar número de linhas e colunas.\n",
        "\n",
        "df.shape"
      ],
      "metadata": {
        "colab": {
          "base_uri": "https://localhost:8080/"
        },
        "id": "9YElr9aQBfsM",
        "outputId": "d09ccf88-7d55-469c-aa8b-021d90928e55"
      },
      "execution_count": null,
      "outputs": [
        {
          "output_type": "execute_result",
          "data": {
            "text/plain": [
              "(6210, 17)"
            ]
          },
          "metadata": {},
          "execution_count": 57
        }
      ]
    },
    {
      "cell_type": "code",
      "source": [
        "# Checar os valores únicos da coluna.\n",
        "\n",
        "df.ANO.unique()"
      ],
      "metadata": {
        "colab": {
          "base_uri": "https://localhost:8080/"
        },
        "id": "djcLuMIqCJ1Y",
        "outputId": "6ac2b6cf-35e8-4a66-e573-13ab3861ecfd"
      },
      "execution_count": null,
      "outputs": [
        {
          "output_type": "execute_result",
          "data": {
            "text/plain": [
              "array([2000, 2001, 2002, 2003, 2004, 2005, 2006, 2007, 2008, 2009, 2010,\n",
              "       2011, 2012, 2013, 2014, 2015, 2016, 2017, 2018, 2019, 2020])"
            ]
          },
          "metadata": {},
          "execution_count": 58
        }
      ]
    },
    {
      "cell_type": "code",
      "source": [
        "# Checar os valores únicos da coluna.\n",
        "\n",
        "df.COMBUSTÍVEL.unique()"
      ],
      "metadata": {
        "colab": {
          "base_uri": "https://localhost:8080/"
        },
        "id": "LmMw-BEACg-V",
        "outputId": "db6ac693-d433-4d2a-ac4b-e8ce61a6737b"
      },
      "execution_count": null,
      "outputs": [
        {
          "output_type": "execute_result",
          "data": {
            "text/plain": [
              "array(['GASOLINA C (m3)', 'GASOLINA DE AVIAÇÃO (m3)',\n",
              "       'QUEROSENE ILUMINANTE (m3)', 'QUEROSENE DE AVIAÇÃO (m3)',\n",
              "       'ÓLEO DIESEL (m3)', 'ÓLEO COMBUSTÍVEL (m3)',\n",
              "       'ETANOL HIDRATADO (m3)', 'GLP (m3)', 'ÓLEO DIESEL S-10 (m3)',\n",
              "       'ÓLEO DIESEL S-500 (m3)', 'ÓLEO DIESEL S-1800 (m3)',\n",
              "       'ÓLEO DIESEL MARÍTIMO (m3)', 'ÓLEO DIESEL (OUTROS ) (m3)',\n",
              "       'GLP - Até P13 (m3)', 'GLP - Outros (m3)'], dtype=object)"
            ]
          },
          "metadata": {},
          "execution_count": 59
        }
      ]
    },
    {
      "cell_type": "markdown",
      "source": [
        "### Substituir valores nulos"
      ],
      "metadata": {
        "id": "WVh2icuWIPOn"
      }
    },
    {
      "cell_type": "code",
      "source": [
        "df.count()"
      ],
      "metadata": {
        "colab": {
          "base_uri": "https://localhost:8080/"
        },
        "id": "gaLvLMhNBJ7C",
        "outputId": "4d541aa2-77a5-4220-ee8e-dc88c6d4154e"
      },
      "execution_count": null,
      "outputs": [
        {
          "output_type": "execute_result",
          "data": {
            "text/plain": [
              "COMBUSTÍVEL    6210\n",
              "ANO            6210\n",
              "REGIÃO         6210\n",
              "ESTADO         6210\n",
              "Jan            6118\n",
              "Fev            6118\n",
              "Mar            6118\n",
              "Abr            6119\n",
              "Mai            6117\n",
              "Jun            6116\n",
              "Jul            6115\n",
              "Ago            6115\n",
              "Set            6115\n",
              "Out            6115\n",
              "Nov            6115\n",
              "Dez            6117\n",
              "TOTAL          6117\n",
              "dtype: int64"
            ]
          },
          "metadata": {},
          "execution_count": 60
        }
      ]
    },
    {
      "cell_type": "code",
      "source": [
        "df = df.fillna(0)"
      ],
      "metadata": {
        "id": "gEkZHTl8IZFE"
      },
      "execution_count": null,
      "outputs": []
    },
    {
      "cell_type": "code",
      "source": [
        "# Verificar valores NULL em cada uma das coluna\n",
        "\n",
        "df.isna().sum()"
      ],
      "metadata": {
        "colab": {
          "base_uri": "https://localhost:8080/"
        },
        "id": "HdJ2j85HCeai",
        "outputId": "c9e76c9f-d5ff-4910-d398-aa1d771ba3dc"
      },
      "execution_count": null,
      "outputs": [
        {
          "output_type": "execute_result",
          "data": {
            "text/plain": [
              "COMBUSTÍVEL    0\n",
              "ANO            0\n",
              "REGIÃO         0\n",
              "ESTADO         0\n",
              "Jan            0\n",
              "Fev            0\n",
              "Mar            0\n",
              "Abr            0\n",
              "Mai            0\n",
              "Jun            0\n",
              "Jul            0\n",
              "Ago            0\n",
              "Set            0\n",
              "Out            0\n",
              "Nov            0\n",
              "Dez            0\n",
              "TOTAL          0\n",
              "dtype: int64"
            ]
          },
          "metadata": {},
          "execution_count": 62
        }
      ]
    },
    {
      "cell_type": "markdown",
      "source": [
        "### Renomear colunas"
      ],
      "metadata": {
        "id": "rbpifUvHDfkk"
      }
    },
    {
      "cell_type": "code",
      "source": [
        "# Renomear e traduzir as colunas utilizando o .columns, na ordem.\n",
        "\n",
        "df.columns = ['combustivel', 'ano', 'regiao', 'estado', 'jan', 'fev', 'mar', 'abr', 'mai', 'jun',\n",
        "              'jul', 'ago', 'set', 'out', 'nov', 'dez', 'total']"
      ],
      "metadata": {
        "id": "blxYv071DiZI"
      },
      "execution_count": null,
      "outputs": []
    },
    {
      "cell_type": "code",
      "source": [
        "df.head()"
      ],
      "metadata": {
        "colab": {
          "base_uri": "https://localhost:8080/",
          "height": 357
        },
        "id": "obEBvylGDiV4",
        "outputId": "52aefddb-df06-4c7b-f501-6461a6102fac"
      },
      "execution_count": null,
      "outputs": [
        {
          "output_type": "execute_result",
          "data": {
            "text/plain": [
              "       combustivel   ano        regiao    estado         jan        fev  \\\n",
              "0  GASOLINA C (m3)  2000  REGIÃO NORTE  RONDÔNIA  136073.253   9563.263   \n",
              "1  GASOLINA C (m3)  2000  REGIÃO NORTE      ACRE    3358.346  40001.853   \n",
              "2  GASOLINA C (m3)  2000  REGIÃO NORTE  AMAZONAS   20766.918  21180.919   \n",
              "3  GASOLINA C (m3)  2000  REGIÃO NORTE   RORAIMA    3716.032   3200.400   \n",
              "4  GASOLINA C (m3)  2000  REGIÃO NORTE      PARÁ   29755.907  28661.951   \n",
              "\n",
              "          mar        abr         mai        jun        jul        ago  \\\n",
              "0   11341.229   9369.746   10719.983  11165.968  12312.451  11220.970   \n",
              "1    3065.758   3495.290    2946.930   3023.920   3206.930   3612.580   \n",
              "2  242742.352  17615.604   20258.200  18741.344  19604.023  20221.674   \n",
              "3    3339.332  43338.929    3259.300   3636.216   3631.569   3348.416   \n",
              "4   28145.784  29294.796  359575.398  28830.479  32297.047  27310.979   \n",
              "\n",
              "         set        out        nov        dez      total  \n",
              "0  12482.281  13591.122  11940.570  11547.576  10818.094  \n",
              "1   3264.460   3835.740   3676.571   3225.610   3289.718  \n",
              "2  20792.616  19912.898  21869.338  21145.643  20633.175  \n",
              "3   3394.016   4078.616   3346.616   4029.900   4358.516  \n",
              "4  29396.384  26511.009  36553.250  31807.840  31009.972  "
            ],
            "text/html": [
              "\n",
              "  <div id=\"df-bbf053dc-ced4-42e1-8f69-f577777aeae6\">\n",
              "    <div class=\"colab-df-container\">\n",
              "      <div>\n",
              "<style scoped>\n",
              "    .dataframe tbody tr th:only-of-type {\n",
              "        vertical-align: middle;\n",
              "    }\n",
              "\n",
              "    .dataframe tbody tr th {\n",
              "        vertical-align: top;\n",
              "    }\n",
              "\n",
              "    .dataframe thead th {\n",
              "        text-align: right;\n",
              "    }\n",
              "</style>\n",
              "<table border=\"1\" class=\"dataframe\">\n",
              "  <thead>\n",
              "    <tr style=\"text-align: right;\">\n",
              "      <th></th>\n",
              "      <th>combustivel</th>\n",
              "      <th>ano</th>\n",
              "      <th>regiao</th>\n",
              "      <th>estado</th>\n",
              "      <th>jan</th>\n",
              "      <th>fev</th>\n",
              "      <th>mar</th>\n",
              "      <th>abr</th>\n",
              "      <th>mai</th>\n",
              "      <th>jun</th>\n",
              "      <th>jul</th>\n",
              "      <th>ago</th>\n",
              "      <th>set</th>\n",
              "      <th>out</th>\n",
              "      <th>nov</th>\n",
              "      <th>dez</th>\n",
              "      <th>total</th>\n",
              "    </tr>\n",
              "  </thead>\n",
              "  <tbody>\n",
              "    <tr>\n",
              "      <th>0</th>\n",
              "      <td>GASOLINA C (m3)</td>\n",
              "      <td>2000</td>\n",
              "      <td>REGIÃO NORTE</td>\n",
              "      <td>RONDÔNIA</td>\n",
              "      <td>136073.253</td>\n",
              "      <td>9563.263</td>\n",
              "      <td>11341.229</td>\n",
              "      <td>9369.746</td>\n",
              "      <td>10719.983</td>\n",
              "      <td>11165.968</td>\n",
              "      <td>12312.451</td>\n",
              "      <td>11220.970</td>\n",
              "      <td>12482.281</td>\n",
              "      <td>13591.122</td>\n",
              "      <td>11940.570</td>\n",
              "      <td>11547.576</td>\n",
              "      <td>10818.094</td>\n",
              "    </tr>\n",
              "    <tr>\n",
              "      <th>1</th>\n",
              "      <td>GASOLINA C (m3)</td>\n",
              "      <td>2000</td>\n",
              "      <td>REGIÃO NORTE</td>\n",
              "      <td>ACRE</td>\n",
              "      <td>3358.346</td>\n",
              "      <td>40001.853</td>\n",
              "      <td>3065.758</td>\n",
              "      <td>3495.290</td>\n",
              "      <td>2946.930</td>\n",
              "      <td>3023.920</td>\n",
              "      <td>3206.930</td>\n",
              "      <td>3612.580</td>\n",
              "      <td>3264.460</td>\n",
              "      <td>3835.740</td>\n",
              "      <td>3676.571</td>\n",
              "      <td>3225.610</td>\n",
              "      <td>3289.718</td>\n",
              "    </tr>\n",
              "    <tr>\n",
              "      <th>2</th>\n",
              "      <td>GASOLINA C (m3)</td>\n",
              "      <td>2000</td>\n",
              "      <td>REGIÃO NORTE</td>\n",
              "      <td>AMAZONAS</td>\n",
              "      <td>20766.918</td>\n",
              "      <td>21180.919</td>\n",
              "      <td>242742.352</td>\n",
              "      <td>17615.604</td>\n",
              "      <td>20258.200</td>\n",
              "      <td>18741.344</td>\n",
              "      <td>19604.023</td>\n",
              "      <td>20221.674</td>\n",
              "      <td>20792.616</td>\n",
              "      <td>19912.898</td>\n",
              "      <td>21869.338</td>\n",
              "      <td>21145.643</td>\n",
              "      <td>20633.175</td>\n",
              "    </tr>\n",
              "    <tr>\n",
              "      <th>3</th>\n",
              "      <td>GASOLINA C (m3)</td>\n",
              "      <td>2000</td>\n",
              "      <td>REGIÃO NORTE</td>\n",
              "      <td>RORAIMA</td>\n",
              "      <td>3716.032</td>\n",
              "      <td>3200.400</td>\n",
              "      <td>3339.332</td>\n",
              "      <td>43338.929</td>\n",
              "      <td>3259.300</td>\n",
              "      <td>3636.216</td>\n",
              "      <td>3631.569</td>\n",
              "      <td>3348.416</td>\n",
              "      <td>3394.016</td>\n",
              "      <td>4078.616</td>\n",
              "      <td>3346.616</td>\n",
              "      <td>4029.900</td>\n",
              "      <td>4358.516</td>\n",
              "    </tr>\n",
              "    <tr>\n",
              "      <th>4</th>\n",
              "      <td>GASOLINA C (m3)</td>\n",
              "      <td>2000</td>\n",
              "      <td>REGIÃO NORTE</td>\n",
              "      <td>PARÁ</td>\n",
              "      <td>29755.907</td>\n",
              "      <td>28661.951</td>\n",
              "      <td>28145.784</td>\n",
              "      <td>29294.796</td>\n",
              "      <td>359575.398</td>\n",
              "      <td>28830.479</td>\n",
              "      <td>32297.047</td>\n",
              "      <td>27310.979</td>\n",
              "      <td>29396.384</td>\n",
              "      <td>26511.009</td>\n",
              "      <td>36553.250</td>\n",
              "      <td>31807.840</td>\n",
              "      <td>31009.972</td>\n",
              "    </tr>\n",
              "  </tbody>\n",
              "</table>\n",
              "</div>\n",
              "      <button class=\"colab-df-convert\" onclick=\"convertToInteractive('df-bbf053dc-ced4-42e1-8f69-f577777aeae6')\"\n",
              "              title=\"Convert this dataframe to an interactive table.\"\n",
              "              style=\"display:none;\">\n",
              "        \n",
              "  <svg xmlns=\"http://www.w3.org/2000/svg\" height=\"24px\"viewBox=\"0 0 24 24\"\n",
              "       width=\"24px\">\n",
              "    <path d=\"M0 0h24v24H0V0z\" fill=\"none\"/>\n",
              "    <path d=\"M18.56 5.44l.94 2.06.94-2.06 2.06-.94-2.06-.94-.94-2.06-.94 2.06-2.06.94zm-11 1L8.5 8.5l.94-2.06 2.06-.94-2.06-.94L8.5 2.5l-.94 2.06-2.06.94zm10 10l.94 2.06.94-2.06 2.06-.94-2.06-.94-.94-2.06-.94 2.06-2.06.94z\"/><path d=\"M17.41 7.96l-1.37-1.37c-.4-.4-.92-.59-1.43-.59-.52 0-1.04.2-1.43.59L10.3 9.45l-7.72 7.72c-.78.78-.78 2.05 0 2.83L4 21.41c.39.39.9.59 1.41.59.51 0 1.02-.2 1.41-.59l7.78-7.78 2.81-2.81c.8-.78.8-2.07 0-2.86zM5.41 20L4 18.59l7.72-7.72 1.47 1.35L5.41 20z\"/>\n",
              "  </svg>\n",
              "      </button>\n",
              "      \n",
              "  <style>\n",
              "    .colab-df-container {\n",
              "      display:flex;\n",
              "      flex-wrap:wrap;\n",
              "      gap: 12px;\n",
              "    }\n",
              "\n",
              "    .colab-df-convert {\n",
              "      background-color: #E8F0FE;\n",
              "      border: none;\n",
              "      border-radius: 50%;\n",
              "      cursor: pointer;\n",
              "      display: none;\n",
              "      fill: #1967D2;\n",
              "      height: 32px;\n",
              "      padding: 0 0 0 0;\n",
              "      width: 32px;\n",
              "    }\n",
              "\n",
              "    .colab-df-convert:hover {\n",
              "      background-color: #E2EBFA;\n",
              "      box-shadow: 0px 1px 2px rgba(60, 64, 67, 0.3), 0px 1px 3px 1px rgba(60, 64, 67, 0.15);\n",
              "      fill: #174EA6;\n",
              "    }\n",
              "\n",
              "    [theme=dark] .colab-df-convert {\n",
              "      background-color: #3B4455;\n",
              "      fill: #D2E3FC;\n",
              "    }\n",
              "\n",
              "    [theme=dark] .colab-df-convert:hover {\n",
              "      background-color: #434B5C;\n",
              "      box-shadow: 0px 1px 3px 1px rgba(0, 0, 0, 0.15);\n",
              "      filter: drop-shadow(0px 1px 2px rgba(0, 0, 0, 0.3));\n",
              "      fill: #FFFFFF;\n",
              "    }\n",
              "  </style>\n",
              "\n",
              "      <script>\n",
              "        const buttonEl =\n",
              "          document.querySelector('#df-bbf053dc-ced4-42e1-8f69-f577777aeae6 button.colab-df-convert');\n",
              "        buttonEl.style.display =\n",
              "          google.colab.kernel.accessAllowed ? 'block' : 'none';\n",
              "\n",
              "        async function convertToInteractive(key) {\n",
              "          const element = document.querySelector('#df-bbf053dc-ced4-42e1-8f69-f577777aeae6');\n",
              "          const dataTable =\n",
              "            await google.colab.kernel.invokeFunction('convertToInteractive',\n",
              "                                                     [key], {});\n",
              "          if (!dataTable) return;\n",
              "\n",
              "          const docLinkHtml = 'Like what you see? Visit the ' +\n",
              "            '<a target=\"_blank\" href=https://colab.research.google.com/notebooks/data_table.ipynb>data table notebook</a>'\n",
              "            + ' to learn more about interactive tables.';\n",
              "          element.innerHTML = '';\n",
              "          dataTable['output_type'] = 'display_data';\n",
              "          await google.colab.output.renderOutput(dataTable, element);\n",
              "          const docLink = document.createElement('div');\n",
              "          docLink.innerHTML = docLinkHtml;\n",
              "          element.appendChild(docLink);\n",
              "        }\n",
              "      </script>\n",
              "    </div>\n",
              "  </div>\n",
              "  "
            ]
          },
          "metadata": {},
          "execution_count": 64
        }
      ]
    },
    {
      "cell_type": "code",
      "source": [
        "df.combustivel.unique()"
      ],
      "metadata": {
        "colab": {
          "base_uri": "https://localhost:8080/"
        },
        "id": "A5qBjLGjdRXw",
        "outputId": "de0b35c9-9fb8-40bb-bbf7-d813244d9d84"
      },
      "execution_count": null,
      "outputs": [
        {
          "output_type": "execute_result",
          "data": {
            "text/plain": [
              "array(['GASOLINA C (m3)', 'GASOLINA DE AVIAÇÃO (m3)',\n",
              "       'QUEROSENE ILUMINANTE (m3)', 'QUEROSENE DE AVIAÇÃO (m3)',\n",
              "       'ÓLEO DIESEL (m3)', 'ÓLEO COMBUSTÍVEL (m3)',\n",
              "       'ETANOL HIDRATADO (m3)', 'GLP (m3)', 'ÓLEO DIESEL S-10 (m3)',\n",
              "       'ÓLEO DIESEL S-500 (m3)', 'ÓLEO DIESEL S-1800 (m3)',\n",
              "       'ÓLEO DIESEL MARÍTIMO (m3)', 'ÓLEO DIESEL (OUTROS ) (m3)',\n",
              "       'GLP - Até P13 (m3)', 'GLP - Outros (m3)'], dtype=object)"
            ]
          },
          "metadata": {},
          "execution_count": 65
        }
      ]
    },
    {
      "cell_type": "code",
      "source": [],
      "metadata": {
        "id": "0kLcyiVkdURH"
      },
      "execution_count": null,
      "outputs": []
    },
    {
      "cell_type": "markdown",
      "source": [
        "### Backup"
      ],
      "metadata": {
        "id": "1jHi8fE_I2NI"
      }
    },
    {
      "cell_type": "code",
      "source": [
        "bk_df = df.copy()"
      ],
      "metadata": {
        "id": "GDOHNqcHI40V"
      },
      "execution_count": null,
      "outputs": []
    },
    {
      "cell_type": "markdown",
      "source": [
        "### Criar nova colunas 'product' e 'unit'"
      ],
      "metadata": {
        "id": "jSTV-6L4ymsB"
      }
    },
    {
      "cell_type": "code",
      "source": [
        "# Criar a coluna 'product', que receberá os valores da coluna 'combustível'.\n",
        "# Utilizar o rstrip para \"arrancar o valor '(m3)' da coluna combustível\".\n",
        "\n",
        "df['product'] = df['combustivel'].map(lambda x: x.rstrip('(m3)'))"
      ],
      "metadata": {
        "id": "riuD0USvbufu"
      },
      "execution_count": null,
      "outputs": []
    },
    {
      "cell_type": "code",
      "source": [
        "# Criar a coluna 'unit' e fazer com que ela receba os valores m3.\n",
        "\n",
        "df['unit'] = 'm3'"
      ],
      "metadata": {
        "id": "EIiQmzdEeHXN"
      },
      "execution_count": null,
      "outputs": []
    },
    {
      "cell_type": "markdown",
      "source": [
        "### Renomear valores das colunas 'estado' e 'product'"
      ],
      "metadata": {
        "id": "kX2FzzcE15hS"
      }
    },
    {
      "cell_type": "code",
      "source": [
        "df.estado.unique()"
      ],
      "metadata": {
        "colab": {
          "base_uri": "https://localhost:8080/"
        },
        "id": "IgGmVoFlmnZc",
        "outputId": "fb550caf-2ecb-4af1-c494-7593ae60a1d2"
      },
      "execution_count": null,
      "outputs": [
        {
          "output_type": "execute_result",
          "data": {
            "text/plain": [
              "array(['RONDÔNIA', 'ACRE', 'AMAZONAS', 'RORAIMA', 'PARÁ', 'AMAPÁ',\n",
              "       'TOCANTINS', 'MARANHÃO', 'PIAUÍ', 'CEARÁ', 'RIO GRANDE DO NORTE',\n",
              "       'PARAÍBA', 'PERNAMBUCO', 'ALAGOAS', 'SERGIPE', 'BAHIA',\n",
              "       'MINAS GERAIS', 'ESPÍRITO SANTO', 'RIO DE JANEIRO', 'SÃO PAULO',\n",
              "       'PARANÁ', 'SANTA CATARINA', 'RIO GRANDE DO SUL',\n",
              "       'MATO GROSSO DO SUL', 'MATO GROSSO', 'GOIÁS', 'DISTRITO FEDERAL'],\n",
              "      dtype=object)"
            ]
          },
          "metadata": {},
          "execution_count": 69
        }
      ]
    },
    {
      "cell_type": "code",
      "source": [
        "lista_estados = ['RONDÔNIA', 'ACRE', 'AMAZONAS', 'RORAIMA', 'PARÁ', 'AMAPÁ', 'TOCANTINS', 'MARANHÃO', 'PIAUÍ', 'CEARÁ', 'RIO GRANDE DO NORTE',\n",
        "                 'PARAÍBA', 'PERNAMBUCO', 'ALAGOAS', 'SERGIPE', 'BAHIA', 'MINAS GERAIS', 'ESPÍRITO SANTO', 'RIO DE JANEIRO', 'SÃO PAULO',\n",
        "                 'PARANÁ', 'SANTA CATARINA', 'RIO GRANDE DO SUL', 'MATO GROSSO DO SUL', 'MATO GROSSO', 'GOIÁS', 'DISTRITO FEDERAL']\n",
        "\n",
        "lista_uf = ['RO', 'AC', 'AM', 'RR', 'PA', 'AP', 'TO', 'MA', 'PI', 'CE', 'RN', 'PB', 'PE', 'AL', 'SE', 'BA', 'MG', 'ES', 'RJ', 'SP',\n",
        "            'PR', 'SC', 'RS', 'MS', 'MT', 'GO', 'DF']        \n",
        "\n",
        "df.estado.replace(lista_estados, lista_uf, inplace=True)       "
      ],
      "metadata": {
        "id": "loTDzAkEmnTf"
      },
      "execution_count": null,
      "outputs": []
    },
    {
      "cell_type": "code",
      "source": [
        "df['product'].unique()"
      ],
      "metadata": {
        "colab": {
          "base_uri": "https://localhost:8080/"
        },
        "id": "cDkOleBUsnX3",
        "outputId": "72be05da-8fdb-4cee-8387-b7df2ca39fc4"
      },
      "execution_count": null,
      "outputs": [
        {
          "output_type": "execute_result",
          "data": {
            "text/plain": [
              "array(['GASOLINA C ', 'GASOLINA DE AVIAÇÃO ', 'QUEROSENE ILUMINANTE ',\n",
              "       'QUEROSENE DE AVIAÇÃO ', 'ÓLEO DIESEL ', 'ÓLEO COMBUSTÍVEL ',\n",
              "       'ETANOL HIDRATADO ', 'GLP ', 'ÓLEO DIESEL S-10 ',\n",
              "       'ÓLEO DIESEL S-500 ', 'ÓLEO DIESEL S-1800 ',\n",
              "       'ÓLEO DIESEL MARÍTIMO ', 'ÓLEO DIESEL (OUTROS ) ',\n",
              "       'GLP - Até P13 ', 'GLP - Outros '], dtype=object)"
            ]
          },
          "metadata": {},
          "execution_count": 71
        }
      ]
    },
    {
      "cell_type": "code",
      "source": [
        "lista_combustiveis = ['GASOLINA C ', 'GASOLINA DE AVIAÇÃO ', 'QUEROSENE ILUMINANTE ', 'QUEROSENE DE AVIAÇÃO ', 'ÓLEO DIESEL ', 'ÓLEO COMBUSTÍVEL ',\n",
        "                      'ETANOL HIDRATADO ', 'GLP ', 'ÓLEO DIESEL S-10 ', 'ÓLEO DIESEL S-500 ', 'ÓLEO DIESEL S-1800 ', 'ÓLEO DIESEL MARÍTIMO ', \n",
        "                      'ÓLEO DIESEL (OUTROS ) ', 'GLP - Até P13 ', 'GLP - Outros ']\n",
        "\n",
        "lista_combustiveis_f = ['GASOLINA C', 'GASOLINA DE AVIACAO', 'QUEROSENE ILUMINANTE', 'QUEROSENE DE AVIACAO', 'OLEO DIESEL', 'OLEO COMBUSTÍVEL',\n",
        "                        'ETANOL HIDRATADO', 'GLP', 'OLEO DIESEL S-10', 'OLEO DIESEL S-500', 'OLEO DIESEL S-1800', 'OLEO DIESEL MARITIMO', \n",
        "                        'OLEO DIESEL - OUTROS', 'GLP - ATE P13', 'GLP - OUTROS']\n",
        "\n",
        "df['product'].replace(lista_combustiveis, lista_combustiveis_f, inplace=True)          "
      ],
      "metadata": {
        "id": "_O8asCehsn7c"
      },
      "execution_count": null,
      "outputs": []
    },
    {
      "cell_type": "markdown",
      "source": [
        "### Dropar colunas 'combustivel', 'regiao' e 'total'"
      ],
      "metadata": {
        "id": "a731Dbr4y622"
      }
    },
    {
      "cell_type": "code",
      "source": [
        "df.drop(['combustivel','regiao','total'],axis=1 ,inplace=True)"
      ],
      "metadata": {
        "id": "q2io4Pr1fLSf"
      },
      "execution_count": null,
      "outputs": []
    },
    {
      "cell_type": "code",
      "source": [
        "df.head()"
      ],
      "metadata": {
        "colab": {
          "base_uri": "https://localhost:8080/",
          "height": 206
        },
        "id": "rn7wnbAZPNJT",
        "outputId": "c2346671-0d9d-43af-b3fe-c3564a6bcffc"
      },
      "execution_count": null,
      "outputs": [
        {
          "output_type": "execute_result",
          "data": {
            "text/plain": [
              "    ano estado         jan        fev         mar        abr         mai  \\\n",
              "0  2000     RO  136073.253   9563.263   11341.229   9369.746   10719.983   \n",
              "1  2000     AC    3358.346  40001.853    3065.758   3495.290    2946.930   \n",
              "2  2000     AM   20766.918  21180.919  242742.352  17615.604   20258.200   \n",
              "3  2000     RR    3716.032   3200.400    3339.332  43338.929    3259.300   \n",
              "4  2000     PA   29755.907  28661.951   28145.784  29294.796  359575.398   \n",
              "\n",
              "         jun        jul        ago        set        out        nov  \\\n",
              "0  11165.968  12312.451  11220.970  12482.281  13591.122  11940.570   \n",
              "1   3023.920   3206.930   3612.580   3264.460   3835.740   3676.571   \n",
              "2  18741.344  19604.023  20221.674  20792.616  19912.898  21869.338   \n",
              "3   3636.216   3631.569   3348.416   3394.016   4078.616   3346.616   \n",
              "4  28830.479  32297.047  27310.979  29396.384  26511.009  36553.250   \n",
              "\n",
              "         dez     product unit  \n",
              "0  11547.576  GASOLINA C   m3  \n",
              "1   3225.610  GASOLINA C   m3  \n",
              "2  21145.643  GASOLINA C   m3  \n",
              "3   4029.900  GASOLINA C   m3  \n",
              "4  31807.840  GASOLINA C   m3  "
            ],
            "text/html": [
              "\n",
              "  <div id=\"df-cb72b13b-851c-4f16-8d41-a6ca08c381fb\">\n",
              "    <div class=\"colab-df-container\">\n",
              "      <div>\n",
              "<style scoped>\n",
              "    .dataframe tbody tr th:only-of-type {\n",
              "        vertical-align: middle;\n",
              "    }\n",
              "\n",
              "    .dataframe tbody tr th {\n",
              "        vertical-align: top;\n",
              "    }\n",
              "\n",
              "    .dataframe thead th {\n",
              "        text-align: right;\n",
              "    }\n",
              "</style>\n",
              "<table border=\"1\" class=\"dataframe\">\n",
              "  <thead>\n",
              "    <tr style=\"text-align: right;\">\n",
              "      <th></th>\n",
              "      <th>ano</th>\n",
              "      <th>estado</th>\n",
              "      <th>jan</th>\n",
              "      <th>fev</th>\n",
              "      <th>mar</th>\n",
              "      <th>abr</th>\n",
              "      <th>mai</th>\n",
              "      <th>jun</th>\n",
              "      <th>jul</th>\n",
              "      <th>ago</th>\n",
              "      <th>set</th>\n",
              "      <th>out</th>\n",
              "      <th>nov</th>\n",
              "      <th>dez</th>\n",
              "      <th>product</th>\n",
              "      <th>unit</th>\n",
              "    </tr>\n",
              "  </thead>\n",
              "  <tbody>\n",
              "    <tr>\n",
              "      <th>0</th>\n",
              "      <td>2000</td>\n",
              "      <td>RO</td>\n",
              "      <td>136073.253</td>\n",
              "      <td>9563.263</td>\n",
              "      <td>11341.229</td>\n",
              "      <td>9369.746</td>\n",
              "      <td>10719.983</td>\n",
              "      <td>11165.968</td>\n",
              "      <td>12312.451</td>\n",
              "      <td>11220.970</td>\n",
              "      <td>12482.281</td>\n",
              "      <td>13591.122</td>\n",
              "      <td>11940.570</td>\n",
              "      <td>11547.576</td>\n",
              "      <td>GASOLINA C</td>\n",
              "      <td>m3</td>\n",
              "    </tr>\n",
              "    <tr>\n",
              "      <th>1</th>\n",
              "      <td>2000</td>\n",
              "      <td>AC</td>\n",
              "      <td>3358.346</td>\n",
              "      <td>40001.853</td>\n",
              "      <td>3065.758</td>\n",
              "      <td>3495.290</td>\n",
              "      <td>2946.930</td>\n",
              "      <td>3023.920</td>\n",
              "      <td>3206.930</td>\n",
              "      <td>3612.580</td>\n",
              "      <td>3264.460</td>\n",
              "      <td>3835.740</td>\n",
              "      <td>3676.571</td>\n",
              "      <td>3225.610</td>\n",
              "      <td>GASOLINA C</td>\n",
              "      <td>m3</td>\n",
              "    </tr>\n",
              "    <tr>\n",
              "      <th>2</th>\n",
              "      <td>2000</td>\n",
              "      <td>AM</td>\n",
              "      <td>20766.918</td>\n",
              "      <td>21180.919</td>\n",
              "      <td>242742.352</td>\n",
              "      <td>17615.604</td>\n",
              "      <td>20258.200</td>\n",
              "      <td>18741.344</td>\n",
              "      <td>19604.023</td>\n",
              "      <td>20221.674</td>\n",
              "      <td>20792.616</td>\n",
              "      <td>19912.898</td>\n",
              "      <td>21869.338</td>\n",
              "      <td>21145.643</td>\n",
              "      <td>GASOLINA C</td>\n",
              "      <td>m3</td>\n",
              "    </tr>\n",
              "    <tr>\n",
              "      <th>3</th>\n",
              "      <td>2000</td>\n",
              "      <td>RR</td>\n",
              "      <td>3716.032</td>\n",
              "      <td>3200.400</td>\n",
              "      <td>3339.332</td>\n",
              "      <td>43338.929</td>\n",
              "      <td>3259.300</td>\n",
              "      <td>3636.216</td>\n",
              "      <td>3631.569</td>\n",
              "      <td>3348.416</td>\n",
              "      <td>3394.016</td>\n",
              "      <td>4078.616</td>\n",
              "      <td>3346.616</td>\n",
              "      <td>4029.900</td>\n",
              "      <td>GASOLINA C</td>\n",
              "      <td>m3</td>\n",
              "    </tr>\n",
              "    <tr>\n",
              "      <th>4</th>\n",
              "      <td>2000</td>\n",
              "      <td>PA</td>\n",
              "      <td>29755.907</td>\n",
              "      <td>28661.951</td>\n",
              "      <td>28145.784</td>\n",
              "      <td>29294.796</td>\n",
              "      <td>359575.398</td>\n",
              "      <td>28830.479</td>\n",
              "      <td>32297.047</td>\n",
              "      <td>27310.979</td>\n",
              "      <td>29396.384</td>\n",
              "      <td>26511.009</td>\n",
              "      <td>36553.250</td>\n",
              "      <td>31807.840</td>\n",
              "      <td>GASOLINA C</td>\n",
              "      <td>m3</td>\n",
              "    </tr>\n",
              "  </tbody>\n",
              "</table>\n",
              "</div>\n",
              "      <button class=\"colab-df-convert\" onclick=\"convertToInteractive('df-cb72b13b-851c-4f16-8d41-a6ca08c381fb')\"\n",
              "              title=\"Convert this dataframe to an interactive table.\"\n",
              "              style=\"display:none;\">\n",
              "        \n",
              "  <svg xmlns=\"http://www.w3.org/2000/svg\" height=\"24px\"viewBox=\"0 0 24 24\"\n",
              "       width=\"24px\">\n",
              "    <path d=\"M0 0h24v24H0V0z\" fill=\"none\"/>\n",
              "    <path d=\"M18.56 5.44l.94 2.06.94-2.06 2.06-.94-2.06-.94-.94-2.06-.94 2.06-2.06.94zm-11 1L8.5 8.5l.94-2.06 2.06-.94-2.06-.94L8.5 2.5l-.94 2.06-2.06.94zm10 10l.94 2.06.94-2.06 2.06-.94-2.06-.94-.94-2.06-.94 2.06-2.06.94z\"/><path d=\"M17.41 7.96l-1.37-1.37c-.4-.4-.92-.59-1.43-.59-.52 0-1.04.2-1.43.59L10.3 9.45l-7.72 7.72c-.78.78-.78 2.05 0 2.83L4 21.41c.39.39.9.59 1.41.59.51 0 1.02-.2 1.41-.59l7.78-7.78 2.81-2.81c.8-.78.8-2.07 0-2.86zM5.41 20L4 18.59l7.72-7.72 1.47 1.35L5.41 20z\"/>\n",
              "  </svg>\n",
              "      </button>\n",
              "      \n",
              "  <style>\n",
              "    .colab-df-container {\n",
              "      display:flex;\n",
              "      flex-wrap:wrap;\n",
              "      gap: 12px;\n",
              "    }\n",
              "\n",
              "    .colab-df-convert {\n",
              "      background-color: #E8F0FE;\n",
              "      border: none;\n",
              "      border-radius: 50%;\n",
              "      cursor: pointer;\n",
              "      display: none;\n",
              "      fill: #1967D2;\n",
              "      height: 32px;\n",
              "      padding: 0 0 0 0;\n",
              "      width: 32px;\n",
              "    }\n",
              "\n",
              "    .colab-df-convert:hover {\n",
              "      background-color: #E2EBFA;\n",
              "      box-shadow: 0px 1px 2px rgba(60, 64, 67, 0.3), 0px 1px 3px 1px rgba(60, 64, 67, 0.15);\n",
              "      fill: #174EA6;\n",
              "    }\n",
              "\n",
              "    [theme=dark] .colab-df-convert {\n",
              "      background-color: #3B4455;\n",
              "      fill: #D2E3FC;\n",
              "    }\n",
              "\n",
              "    [theme=dark] .colab-df-convert:hover {\n",
              "      background-color: #434B5C;\n",
              "      box-shadow: 0px 1px 3px 1px rgba(0, 0, 0, 0.15);\n",
              "      filter: drop-shadow(0px 1px 2px rgba(0, 0, 0, 0.3));\n",
              "      fill: #FFFFFF;\n",
              "    }\n",
              "  </style>\n",
              "\n",
              "      <script>\n",
              "        const buttonEl =\n",
              "          document.querySelector('#df-cb72b13b-851c-4f16-8d41-a6ca08c381fb button.colab-df-convert');\n",
              "        buttonEl.style.display =\n",
              "          google.colab.kernel.accessAllowed ? 'block' : 'none';\n",
              "\n",
              "        async function convertToInteractive(key) {\n",
              "          const element = document.querySelector('#df-cb72b13b-851c-4f16-8d41-a6ca08c381fb');\n",
              "          const dataTable =\n",
              "            await google.colab.kernel.invokeFunction('convertToInteractive',\n",
              "                                                     [key], {});\n",
              "          if (!dataTable) return;\n",
              "\n",
              "          const docLinkHtml = 'Like what you see? Visit the ' +\n",
              "            '<a target=\"_blank\" href=https://colab.research.google.com/notebooks/data_table.ipynb>data table notebook</a>'\n",
              "            + ' to learn more about interactive tables.';\n",
              "          element.innerHTML = '';\n",
              "          dataTable['output_type'] = 'display_data';\n",
              "          await google.colab.output.renderOutput(dataTable, element);\n",
              "          const docLink = document.createElement('div');\n",
              "          docLink.innerHTML = docLinkHtml;\n",
              "          element.appendChild(docLink);\n",
              "        }\n",
              "      </script>\n",
              "    </div>\n",
              "  </div>\n",
              "  "
            ]
          },
          "metadata": {},
          "execution_count": 74
        }
      ]
    },
    {
      "cell_type": "markdown",
      "source": [
        "### Alterar a ordem das colunas"
      ],
      "metadata": {
        "id": "eaOiNSrazKCM"
      }
    },
    {
      "cell_type": "code",
      "source": [
        "# Realização de backup do df.\n",
        "\n",
        "df_bkp = df.copy()"
      ],
      "metadata": {
        "id": "QVbwJBYRgqE0"
      },
      "execution_count": null,
      "outputs": []
    },
    {
      "cell_type": "code",
      "source": [
        "# Utilização da função melt para alterar a orientação da tabela.\n",
        "# id_vars é um parâmetro opcional (pode ser tupla, lista ou array N-dimensional). É a coluna utilizada para as variáveis identificadoras.\n",
        "\n",
        "df = df.melt(id_vars=['product', 'ano', 'estado', 'unit'])"
      ],
      "metadata": {
        "id": "D3p1qCkqgkB4"
      },
      "execution_count": null,
      "outputs": []
    },
    {
      "cell_type": "code",
      "source": [
        "# Visualização com sample para diversificar a exibição dos resultados.\n",
        "\n",
        "df.sample(10)"
      ],
      "metadata": {
        "colab": {
          "base_uri": "https://localhost:8080/",
          "height": 363
        },
        "id": "u_9A-mRNgy2B",
        "outputId": "753787f1-9385-4015-9351-154918e81730"
      },
      "execution_count": null,
      "outputs": [
        {
          "output_type": "execute_result",
          "data": {
            "text/plain": [
              "                    product   ano estado unit variable         value\n",
              "5646           GLP - OUTROS  2010     RR   m3      jan     78.088768\n",
              "45410  QUEROSENE DE AVIACAO  2008     MS   m3      ago   2064.449000\n",
              "62675   GASOLINA DE AVIACAO  2000     PI   m3      nov     86.295000\n",
              "9969       ETANOL HIDRATADO  2013     TO   m3      fev   3510.500000\n",
              "22077      ETANOL HIDRATADO  2001     RJ   m3      abr  15148.552000\n",
              "49288          GLP - OUTROS  2013     AL   m3      ago  11358.780015\n",
              "66801     OLEO DIESEL S-500  2014     RR   m3      nov   8571.600000\n",
              "7291    GASOLINA DE AVIACAO  2019     AC   m3      fev     39.694000\n",
              "63588  QUEROSENE ILUMINANTE  2013     RR   m3      nov      0.000000\n",
              "55866          GLP - OUTROS  2020     RR   m3      set      0.000000"
            ],
            "text/html": [
              "\n",
              "  <div id=\"df-20a35dc4-2a40-4716-9974-0de6ff422428\">\n",
              "    <div class=\"colab-df-container\">\n",
              "      <div>\n",
              "<style scoped>\n",
              "    .dataframe tbody tr th:only-of-type {\n",
              "        vertical-align: middle;\n",
              "    }\n",
              "\n",
              "    .dataframe tbody tr th {\n",
              "        vertical-align: top;\n",
              "    }\n",
              "\n",
              "    .dataframe thead th {\n",
              "        text-align: right;\n",
              "    }\n",
              "</style>\n",
              "<table border=\"1\" class=\"dataframe\">\n",
              "  <thead>\n",
              "    <tr style=\"text-align: right;\">\n",
              "      <th></th>\n",
              "      <th>product</th>\n",
              "      <th>ano</th>\n",
              "      <th>estado</th>\n",
              "      <th>unit</th>\n",
              "      <th>variable</th>\n",
              "      <th>value</th>\n",
              "    </tr>\n",
              "  </thead>\n",
              "  <tbody>\n",
              "    <tr>\n",
              "      <th>5646</th>\n",
              "      <td>GLP - OUTROS</td>\n",
              "      <td>2010</td>\n",
              "      <td>RR</td>\n",
              "      <td>m3</td>\n",
              "      <td>jan</td>\n",
              "      <td>78.088768</td>\n",
              "    </tr>\n",
              "    <tr>\n",
              "      <th>45410</th>\n",
              "      <td>QUEROSENE DE AVIACAO</td>\n",
              "      <td>2008</td>\n",
              "      <td>MS</td>\n",
              "      <td>m3</td>\n",
              "      <td>ago</td>\n",
              "      <td>2064.449000</td>\n",
              "    </tr>\n",
              "    <tr>\n",
              "      <th>62675</th>\n",
              "      <td>GASOLINA DE AVIACAO</td>\n",
              "      <td>2000</td>\n",
              "      <td>PI</td>\n",
              "      <td>m3</td>\n",
              "      <td>nov</td>\n",
              "      <td>86.295000</td>\n",
              "    </tr>\n",
              "    <tr>\n",
              "      <th>9969</th>\n",
              "      <td>ETANOL HIDRATADO</td>\n",
              "      <td>2013</td>\n",
              "      <td>TO</td>\n",
              "      <td>m3</td>\n",
              "      <td>fev</td>\n",
              "      <td>3510.500000</td>\n",
              "    </tr>\n",
              "    <tr>\n",
              "      <th>22077</th>\n",
              "      <td>ETANOL HIDRATADO</td>\n",
              "      <td>2001</td>\n",
              "      <td>RJ</td>\n",
              "      <td>m3</td>\n",
              "      <td>abr</td>\n",
              "      <td>15148.552000</td>\n",
              "    </tr>\n",
              "    <tr>\n",
              "      <th>49288</th>\n",
              "      <td>GLP - OUTROS</td>\n",
              "      <td>2013</td>\n",
              "      <td>AL</td>\n",
              "      <td>m3</td>\n",
              "      <td>ago</td>\n",
              "      <td>11358.780015</td>\n",
              "    </tr>\n",
              "    <tr>\n",
              "      <th>66801</th>\n",
              "      <td>OLEO DIESEL S-500</td>\n",
              "      <td>2014</td>\n",
              "      <td>RR</td>\n",
              "      <td>m3</td>\n",
              "      <td>nov</td>\n",
              "      <td>8571.600000</td>\n",
              "    </tr>\n",
              "    <tr>\n",
              "      <th>7291</th>\n",
              "      <td>GASOLINA DE AVIACAO</td>\n",
              "      <td>2019</td>\n",
              "      <td>AC</td>\n",
              "      <td>m3</td>\n",
              "      <td>fev</td>\n",
              "      <td>39.694000</td>\n",
              "    </tr>\n",
              "    <tr>\n",
              "      <th>63588</th>\n",
              "      <td>QUEROSENE ILUMINANTE</td>\n",
              "      <td>2013</td>\n",
              "      <td>RR</td>\n",
              "      <td>m3</td>\n",
              "      <td>nov</td>\n",
              "      <td>0.000000</td>\n",
              "    </tr>\n",
              "    <tr>\n",
              "      <th>55866</th>\n",
              "      <td>GLP - OUTROS</td>\n",
              "      <td>2020</td>\n",
              "      <td>RR</td>\n",
              "      <td>m3</td>\n",
              "      <td>set</td>\n",
              "      <td>0.000000</td>\n",
              "    </tr>\n",
              "  </tbody>\n",
              "</table>\n",
              "</div>\n",
              "      <button class=\"colab-df-convert\" onclick=\"convertToInteractive('df-20a35dc4-2a40-4716-9974-0de6ff422428')\"\n",
              "              title=\"Convert this dataframe to an interactive table.\"\n",
              "              style=\"display:none;\">\n",
              "        \n",
              "  <svg xmlns=\"http://www.w3.org/2000/svg\" height=\"24px\"viewBox=\"0 0 24 24\"\n",
              "       width=\"24px\">\n",
              "    <path d=\"M0 0h24v24H0V0z\" fill=\"none\"/>\n",
              "    <path d=\"M18.56 5.44l.94 2.06.94-2.06 2.06-.94-2.06-.94-.94-2.06-.94 2.06-2.06.94zm-11 1L8.5 8.5l.94-2.06 2.06-.94-2.06-.94L8.5 2.5l-.94 2.06-2.06.94zm10 10l.94 2.06.94-2.06 2.06-.94-2.06-.94-.94-2.06-.94 2.06-2.06.94z\"/><path d=\"M17.41 7.96l-1.37-1.37c-.4-.4-.92-.59-1.43-.59-.52 0-1.04.2-1.43.59L10.3 9.45l-7.72 7.72c-.78.78-.78 2.05 0 2.83L4 21.41c.39.39.9.59 1.41.59.51 0 1.02-.2 1.41-.59l7.78-7.78 2.81-2.81c.8-.78.8-2.07 0-2.86zM5.41 20L4 18.59l7.72-7.72 1.47 1.35L5.41 20z\"/>\n",
              "  </svg>\n",
              "      </button>\n",
              "      \n",
              "  <style>\n",
              "    .colab-df-container {\n",
              "      display:flex;\n",
              "      flex-wrap:wrap;\n",
              "      gap: 12px;\n",
              "    }\n",
              "\n",
              "    .colab-df-convert {\n",
              "      background-color: #E8F0FE;\n",
              "      border: none;\n",
              "      border-radius: 50%;\n",
              "      cursor: pointer;\n",
              "      display: none;\n",
              "      fill: #1967D2;\n",
              "      height: 32px;\n",
              "      padding: 0 0 0 0;\n",
              "      width: 32px;\n",
              "    }\n",
              "\n",
              "    .colab-df-convert:hover {\n",
              "      background-color: #E2EBFA;\n",
              "      box-shadow: 0px 1px 2px rgba(60, 64, 67, 0.3), 0px 1px 3px 1px rgba(60, 64, 67, 0.15);\n",
              "      fill: #174EA6;\n",
              "    }\n",
              "\n",
              "    [theme=dark] .colab-df-convert {\n",
              "      background-color: #3B4455;\n",
              "      fill: #D2E3FC;\n",
              "    }\n",
              "\n",
              "    [theme=dark] .colab-df-convert:hover {\n",
              "      background-color: #434B5C;\n",
              "      box-shadow: 0px 1px 3px 1px rgba(0, 0, 0, 0.15);\n",
              "      filter: drop-shadow(0px 1px 2px rgba(0, 0, 0, 0.3));\n",
              "      fill: #FFFFFF;\n",
              "    }\n",
              "  </style>\n",
              "\n",
              "      <script>\n",
              "        const buttonEl =\n",
              "          document.querySelector('#df-20a35dc4-2a40-4716-9974-0de6ff422428 button.colab-df-convert');\n",
              "        buttonEl.style.display =\n",
              "          google.colab.kernel.accessAllowed ? 'block' : 'none';\n",
              "\n",
              "        async function convertToInteractive(key) {\n",
              "          const element = document.querySelector('#df-20a35dc4-2a40-4716-9974-0de6ff422428');\n",
              "          const dataTable =\n",
              "            await google.colab.kernel.invokeFunction('convertToInteractive',\n",
              "                                                     [key], {});\n",
              "          if (!dataTable) return;\n",
              "\n",
              "          const docLinkHtml = 'Like what you see? Visit the ' +\n",
              "            '<a target=\"_blank\" href=https://colab.research.google.com/notebooks/data_table.ipynb>data table notebook</a>'\n",
              "            + ' to learn more about interactive tables.';\n",
              "          element.innerHTML = '';\n",
              "          dataTable['output_type'] = 'display_data';\n",
              "          await google.colab.output.renderOutput(dataTable, element);\n",
              "          const docLink = document.createElement('div');\n",
              "          docLink.innerHTML = docLinkHtml;\n",
              "          element.appendChild(docLink);\n",
              "        }\n",
              "      </script>\n",
              "    </div>\n",
              "  </div>\n",
              "  "
            ]
          },
          "metadata": {},
          "execution_count": 77
        }
      ]
    },
    {
      "cell_type": "markdown",
      "source": [
        "### Unificar as colunas 'ano' e 'meses' (variable)"
      ],
      "metadata": {
        "id": "ufYEgt1-0V_b"
      }
    },
    {
      "cell_type": "code",
      "source": [
        "# Traduzir os demais valores utilizando listas e replace:\n",
        "# Os meses serão transformados em Integer para que seja possível concatená-los com o ano.\n",
        "\n",
        "lista_meses = ['jan', 'fev', 'mar', 'abr', 'mai', 'jun', 'jul', 'ago', 'set', 'out', 'nov', 'dez']\n",
        "lista_meses_num = [1, 2, 3, 4, 5, 6, 7, 8, 9, 10, 11, 12]  \n",
        "\n",
        "df.variable.replace(lista_meses, lista_meses_num, inplace=True)"
      ],
      "metadata": {
        "id": "Lc-7wEG6jPet"
      },
      "execution_count": null,
      "outputs": []
    },
    {
      "cell_type": "code",
      "source": [
        "# Criação da coluna 'year_month' e insersão dos valores das colunas 'ano' e 'meses' (variable).\n",
        "# A função lambda é utilizada para forçar o datetime a exibir somente ano e mês.\n",
        "\n",
        "df['year_month'] = df['ano'].astype(str) + '-' + df['variable'].astype(str)\n",
        "df['year_month'] = pd.to_datetime(df['year_month']).apply(lambda x: x.strftime('%Y-%B')) "
      ],
      "metadata": {
        "id": "UtrM1d6Lhoz5"
      },
      "execution_count": null,
      "outputs": []
    },
    {
      "cell_type": "code",
      "source": [
        "# Visualização com sample para diversificar a exibição dos resultados.\n",
        "\n",
        "df.sample(10)"
      ],
      "metadata": {
        "colab": {
          "base_uri": "https://localhost:8080/",
          "height": 363
        },
        "id": "GMzzqPRsHPwu",
        "outputId": "b05470eb-c06f-4da0-814d-afaff3f48265"
      },
      "execution_count": null,
      "outputs": [
        {
          "output_type": "execute_result",
          "data": {
            "text/plain": [
              "                    product   ano estado unit  variable         value  \\\n",
              "74501          GLP - OUTROS  2020     PI   m3        12    865.918478   \n",
              "42238     OLEO DIESEL S-500  2016     RN   m3         7  29365.050000   \n",
              "43361          GLP - OUTROS  2018     DF   m3         7   4686.242754   \n",
              "24079  OLEO DIESEL MARITIMO  2019     RS   m3         4  27488.000000   \n",
              "58334           OLEO DIESEL  2006     SE   m3        10  21274.281000   \n",
              "37955   GASOLINA DE AVIACAO  2004     PR   m3         7   5113.253000   \n",
              "47334      ETANOL HIDRATADO  2017     RR   m3         8     71.000000   \n",
              "41942      OLEO DIESEL S-10  2014     PB   m3         7   8172.480000   \n",
              "69947  QUEROSENE ILUMINANTE  2018     ES   m3        12      0.000000   \n",
              "58077  QUEROSENE DE AVIACAO  2018     RO   m3        10   2239.216000   \n",
              "\n",
              "          year_month  \n",
              "74501  2020-December  \n",
              "42238      2016-July  \n",
              "43361      2018-July  \n",
              "24079     2019-April  \n",
              "58334   2006-October  \n",
              "37955      2004-July  \n",
              "47334    2017-August  \n",
              "41942      2014-July  \n",
              "69947  2018-December  \n",
              "58077   2018-October  "
            ],
            "text/html": [
              "\n",
              "  <div id=\"df-456d6bb7-61f2-4885-b01d-1f3bb7bb37a4\">\n",
              "    <div class=\"colab-df-container\">\n",
              "      <div>\n",
              "<style scoped>\n",
              "    .dataframe tbody tr th:only-of-type {\n",
              "        vertical-align: middle;\n",
              "    }\n",
              "\n",
              "    .dataframe tbody tr th {\n",
              "        vertical-align: top;\n",
              "    }\n",
              "\n",
              "    .dataframe thead th {\n",
              "        text-align: right;\n",
              "    }\n",
              "</style>\n",
              "<table border=\"1\" class=\"dataframe\">\n",
              "  <thead>\n",
              "    <tr style=\"text-align: right;\">\n",
              "      <th></th>\n",
              "      <th>product</th>\n",
              "      <th>ano</th>\n",
              "      <th>estado</th>\n",
              "      <th>unit</th>\n",
              "      <th>variable</th>\n",
              "      <th>value</th>\n",
              "      <th>year_month</th>\n",
              "    </tr>\n",
              "  </thead>\n",
              "  <tbody>\n",
              "    <tr>\n",
              "      <th>74501</th>\n",
              "      <td>GLP - OUTROS</td>\n",
              "      <td>2020</td>\n",
              "      <td>PI</td>\n",
              "      <td>m3</td>\n",
              "      <td>12</td>\n",
              "      <td>865.918478</td>\n",
              "      <td>2020-December</td>\n",
              "    </tr>\n",
              "    <tr>\n",
              "      <th>42238</th>\n",
              "      <td>OLEO DIESEL S-500</td>\n",
              "      <td>2016</td>\n",
              "      <td>RN</td>\n",
              "      <td>m3</td>\n",
              "      <td>7</td>\n",
              "      <td>29365.050000</td>\n",
              "      <td>2016-July</td>\n",
              "    </tr>\n",
              "    <tr>\n",
              "      <th>43361</th>\n",
              "      <td>GLP - OUTROS</td>\n",
              "      <td>2018</td>\n",
              "      <td>DF</td>\n",
              "      <td>m3</td>\n",
              "      <td>7</td>\n",
              "      <td>4686.242754</td>\n",
              "      <td>2018-July</td>\n",
              "    </tr>\n",
              "    <tr>\n",
              "      <th>24079</th>\n",
              "      <td>OLEO DIESEL MARITIMO</td>\n",
              "      <td>2019</td>\n",
              "      <td>RS</td>\n",
              "      <td>m3</td>\n",
              "      <td>4</td>\n",
              "      <td>27488.000000</td>\n",
              "      <td>2019-April</td>\n",
              "    </tr>\n",
              "    <tr>\n",
              "      <th>58334</th>\n",
              "      <td>OLEO DIESEL</td>\n",
              "      <td>2006</td>\n",
              "      <td>SE</td>\n",
              "      <td>m3</td>\n",
              "      <td>10</td>\n",
              "      <td>21274.281000</td>\n",
              "      <td>2006-October</td>\n",
              "    </tr>\n",
              "    <tr>\n",
              "      <th>37955</th>\n",
              "      <td>GASOLINA DE AVIACAO</td>\n",
              "      <td>2004</td>\n",
              "      <td>PR</td>\n",
              "      <td>m3</td>\n",
              "      <td>7</td>\n",
              "      <td>5113.253000</td>\n",
              "      <td>2004-July</td>\n",
              "    </tr>\n",
              "    <tr>\n",
              "      <th>47334</th>\n",
              "      <td>ETANOL HIDRATADO</td>\n",
              "      <td>2017</td>\n",
              "      <td>RR</td>\n",
              "      <td>m3</td>\n",
              "      <td>8</td>\n",
              "      <td>71.000000</td>\n",
              "      <td>2017-August</td>\n",
              "    </tr>\n",
              "    <tr>\n",
              "      <th>41942</th>\n",
              "      <td>OLEO DIESEL S-10</td>\n",
              "      <td>2014</td>\n",
              "      <td>PB</td>\n",
              "      <td>m3</td>\n",
              "      <td>7</td>\n",
              "      <td>8172.480000</td>\n",
              "      <td>2014-July</td>\n",
              "    </tr>\n",
              "    <tr>\n",
              "      <th>69947</th>\n",
              "      <td>QUEROSENE ILUMINANTE</td>\n",
              "      <td>2018</td>\n",
              "      <td>ES</td>\n",
              "      <td>m3</td>\n",
              "      <td>12</td>\n",
              "      <td>0.000000</td>\n",
              "      <td>2018-December</td>\n",
              "    </tr>\n",
              "    <tr>\n",
              "      <th>58077</th>\n",
              "      <td>QUEROSENE DE AVIACAO</td>\n",
              "      <td>2018</td>\n",
              "      <td>RO</td>\n",
              "      <td>m3</td>\n",
              "      <td>10</td>\n",
              "      <td>2239.216000</td>\n",
              "      <td>2018-October</td>\n",
              "    </tr>\n",
              "  </tbody>\n",
              "</table>\n",
              "</div>\n",
              "      <button class=\"colab-df-convert\" onclick=\"convertToInteractive('df-456d6bb7-61f2-4885-b01d-1f3bb7bb37a4')\"\n",
              "              title=\"Convert this dataframe to an interactive table.\"\n",
              "              style=\"display:none;\">\n",
              "        \n",
              "  <svg xmlns=\"http://www.w3.org/2000/svg\" height=\"24px\"viewBox=\"0 0 24 24\"\n",
              "       width=\"24px\">\n",
              "    <path d=\"M0 0h24v24H0V0z\" fill=\"none\"/>\n",
              "    <path d=\"M18.56 5.44l.94 2.06.94-2.06 2.06-.94-2.06-.94-.94-2.06-.94 2.06-2.06.94zm-11 1L8.5 8.5l.94-2.06 2.06-.94-2.06-.94L8.5 2.5l-.94 2.06-2.06.94zm10 10l.94 2.06.94-2.06 2.06-.94-2.06-.94-.94-2.06-.94 2.06-2.06.94z\"/><path d=\"M17.41 7.96l-1.37-1.37c-.4-.4-.92-.59-1.43-.59-.52 0-1.04.2-1.43.59L10.3 9.45l-7.72 7.72c-.78.78-.78 2.05 0 2.83L4 21.41c.39.39.9.59 1.41.59.51 0 1.02-.2 1.41-.59l7.78-7.78 2.81-2.81c.8-.78.8-2.07 0-2.86zM5.41 20L4 18.59l7.72-7.72 1.47 1.35L5.41 20z\"/>\n",
              "  </svg>\n",
              "      </button>\n",
              "      \n",
              "  <style>\n",
              "    .colab-df-container {\n",
              "      display:flex;\n",
              "      flex-wrap:wrap;\n",
              "      gap: 12px;\n",
              "    }\n",
              "\n",
              "    .colab-df-convert {\n",
              "      background-color: #E8F0FE;\n",
              "      border: none;\n",
              "      border-radius: 50%;\n",
              "      cursor: pointer;\n",
              "      display: none;\n",
              "      fill: #1967D2;\n",
              "      height: 32px;\n",
              "      padding: 0 0 0 0;\n",
              "      width: 32px;\n",
              "    }\n",
              "\n",
              "    .colab-df-convert:hover {\n",
              "      background-color: #E2EBFA;\n",
              "      box-shadow: 0px 1px 2px rgba(60, 64, 67, 0.3), 0px 1px 3px 1px rgba(60, 64, 67, 0.15);\n",
              "      fill: #174EA6;\n",
              "    }\n",
              "\n",
              "    [theme=dark] .colab-df-convert {\n",
              "      background-color: #3B4455;\n",
              "      fill: #D2E3FC;\n",
              "    }\n",
              "\n",
              "    [theme=dark] .colab-df-convert:hover {\n",
              "      background-color: #434B5C;\n",
              "      box-shadow: 0px 1px 3px 1px rgba(0, 0, 0, 0.15);\n",
              "      filter: drop-shadow(0px 1px 2px rgba(0, 0, 0, 0.3));\n",
              "      fill: #FFFFFF;\n",
              "    }\n",
              "  </style>\n",
              "\n",
              "      <script>\n",
              "        const buttonEl =\n",
              "          document.querySelector('#df-456d6bb7-61f2-4885-b01d-1f3bb7bb37a4 button.colab-df-convert');\n",
              "        buttonEl.style.display =\n",
              "          google.colab.kernel.accessAllowed ? 'block' : 'none';\n",
              "\n",
              "        async function convertToInteractive(key) {\n",
              "          const element = document.querySelector('#df-456d6bb7-61f2-4885-b01d-1f3bb7bb37a4');\n",
              "          const dataTable =\n",
              "            await google.colab.kernel.invokeFunction('convertToInteractive',\n",
              "                                                     [key], {});\n",
              "          if (!dataTable) return;\n",
              "\n",
              "          const docLinkHtml = 'Like what you see? Visit the ' +\n",
              "            '<a target=\"_blank\" href=https://colab.research.google.com/notebooks/data_table.ipynb>data table notebook</a>'\n",
              "            + ' to learn more about interactive tables.';\n",
              "          element.innerHTML = '';\n",
              "          dataTable['output_type'] = 'display_data';\n",
              "          await google.colab.output.renderOutput(dataTable, element);\n",
              "          const docLink = document.createElement('div');\n",
              "          docLink.innerHTML = docLinkHtml;\n",
              "          element.appendChild(docLink);\n",
              "        }\n",
              "      </script>\n",
              "    </div>\n",
              "  </div>\n",
              "  "
            ]
          },
          "metadata": {},
          "execution_count": 80
        }
      ]
    },
    {
      "cell_type": "code",
      "source": [
        "# Por fim, podemos dropar as colunas 'ano' e 'variable', que não serão mais utilizadas.\n",
        "\n",
        "df.drop(['ano','variable'],axis=1 ,inplace=True)"
      ],
      "metadata": {
        "id": "RqRSKfgxlOza"
      },
      "execution_count": null,
      "outputs": []
    },
    {
      "cell_type": "markdown",
      "source": [
        "### Reordenar tabela e últimos ajustes para estar de acordo com o Schema proposto"
      ],
      "metadata": {
        "id": "7MIPGMkw1pXX"
      }
    },
    {
      "cell_type": "code",
      "source": [
        "# Verificar types.\n",
        "\n",
        "df.dtypes"
      ],
      "metadata": {
        "colab": {
          "base_uri": "https://localhost:8080/"
        },
        "id": "H1LEuvAIloZB",
        "outputId": "7970b976-c761-4a1c-cbc2-297f3f230fcf"
      },
      "execution_count": null,
      "outputs": [
        {
          "output_type": "execute_result",
          "data": {
            "text/plain": [
              "product        object\n",
              "estado         object\n",
              "unit           object\n",
              "value         float64\n",
              "year_month     object\n",
              "dtype: object"
            ]
          },
          "metadata": {},
          "execution_count": 82
        }
      ]
    },
    {
      "cell_type": "code",
      "source": [
        "# Fazer com que o df receba a ordem correta das colunas.\n",
        "\n",
        "df = df[['year_month', 'uf', 'product', 'unit', 'volume']]"
      ],
      "metadata": {
        "id": "v-HbDGZfmNlO",
        "colab": {
          "base_uri": "https://localhost:8080/",
          "height": 346
        },
        "outputId": "65b38b80-602a-4a44-9b18-2ecca49b4641"
      },
      "execution_count": null,
      "outputs": [
        {
          "output_type": "error",
          "ename": "KeyError",
          "evalue": "ignored",
          "traceback": [
            "\u001b[0;31m---------------------------------------------------------------------------\u001b[0m",
            "\u001b[0;31mKeyError\u001b[0m                                  Traceback (most recent call last)",
            "\u001b[0;32m<ipython-input-83-59942bc648a9>\u001b[0m in \u001b[0;36m<module>\u001b[0;34m\u001b[0m\n\u001b[1;32m      1\u001b[0m \u001b[0;31m# Fazer com que o df receba a ordem correta das colunas.\u001b[0m\u001b[0;34m\u001b[0m\u001b[0;34m\u001b[0m\u001b[0;34m\u001b[0m\u001b[0m\n\u001b[1;32m      2\u001b[0m \u001b[0;34m\u001b[0m\u001b[0m\n\u001b[0;32m----> 3\u001b[0;31m \u001b[0mdf\u001b[0m \u001b[0;34m=\u001b[0m \u001b[0mdf\u001b[0m\u001b[0;34m[\u001b[0m\u001b[0;34m[\u001b[0m\u001b[0;34m'year_month'\u001b[0m\u001b[0;34m,\u001b[0m \u001b[0;34m'uf'\u001b[0m\u001b[0;34m,\u001b[0m \u001b[0;34m'product'\u001b[0m\u001b[0;34m,\u001b[0m \u001b[0;34m'unit'\u001b[0m\u001b[0;34m,\u001b[0m \u001b[0;34m'volume'\u001b[0m\u001b[0;34m]\u001b[0m\u001b[0;34m]\u001b[0m\u001b[0;34m\u001b[0m\u001b[0;34m\u001b[0m\u001b[0m\n\u001b[0m",
            "\u001b[0;32m/usr/local/lib/python3.7/dist-packages/pandas/core/frame.py\u001b[0m in \u001b[0;36m__getitem__\u001b[0;34m(self, key)\u001b[0m\n\u001b[1;32m   3462\u001b[0m             \u001b[0;32mif\u001b[0m \u001b[0mis_iterator\u001b[0m\u001b[0;34m(\u001b[0m\u001b[0mkey\u001b[0m\u001b[0;34m)\u001b[0m\u001b[0;34m:\u001b[0m\u001b[0;34m\u001b[0m\u001b[0;34m\u001b[0m\u001b[0m\n\u001b[1;32m   3463\u001b[0m                 \u001b[0mkey\u001b[0m \u001b[0;34m=\u001b[0m \u001b[0mlist\u001b[0m\u001b[0;34m(\u001b[0m\u001b[0mkey\u001b[0m\u001b[0;34m)\u001b[0m\u001b[0;34m\u001b[0m\u001b[0;34m\u001b[0m\u001b[0m\n\u001b[0;32m-> 3464\u001b[0;31m             \u001b[0mindexer\u001b[0m \u001b[0;34m=\u001b[0m \u001b[0mself\u001b[0m\u001b[0;34m.\u001b[0m\u001b[0mloc\u001b[0m\u001b[0;34m.\u001b[0m\u001b[0m_get_listlike_indexer\u001b[0m\u001b[0;34m(\u001b[0m\u001b[0mkey\u001b[0m\u001b[0;34m,\u001b[0m \u001b[0maxis\u001b[0m\u001b[0;34m=\u001b[0m\u001b[0;36m1\u001b[0m\u001b[0;34m)\u001b[0m\u001b[0;34m[\u001b[0m\u001b[0;36m1\u001b[0m\u001b[0;34m]\u001b[0m\u001b[0;34m\u001b[0m\u001b[0;34m\u001b[0m\u001b[0m\n\u001b[0m\u001b[1;32m   3465\u001b[0m \u001b[0;34m\u001b[0m\u001b[0m\n\u001b[1;32m   3466\u001b[0m         \u001b[0;31m# take() does not accept boolean indexers\u001b[0m\u001b[0;34m\u001b[0m\u001b[0;34m\u001b[0m\u001b[0;34m\u001b[0m\u001b[0m\n",
            "\u001b[0;32m/usr/local/lib/python3.7/dist-packages/pandas/core/indexing.py\u001b[0m in \u001b[0;36m_get_listlike_indexer\u001b[0;34m(self, key, axis)\u001b[0m\n\u001b[1;32m   1312\u001b[0m             \u001b[0mkeyarr\u001b[0m\u001b[0;34m,\u001b[0m \u001b[0mindexer\u001b[0m\u001b[0;34m,\u001b[0m \u001b[0mnew_indexer\u001b[0m \u001b[0;34m=\u001b[0m \u001b[0max\u001b[0m\u001b[0;34m.\u001b[0m\u001b[0m_reindex_non_unique\u001b[0m\u001b[0;34m(\u001b[0m\u001b[0mkeyarr\u001b[0m\u001b[0;34m)\u001b[0m\u001b[0;34m\u001b[0m\u001b[0;34m\u001b[0m\u001b[0m\n\u001b[1;32m   1313\u001b[0m \u001b[0;34m\u001b[0m\u001b[0m\n\u001b[0;32m-> 1314\u001b[0;31m         \u001b[0mself\u001b[0m\u001b[0;34m.\u001b[0m\u001b[0m_validate_read_indexer\u001b[0m\u001b[0;34m(\u001b[0m\u001b[0mkeyarr\u001b[0m\u001b[0;34m,\u001b[0m \u001b[0mindexer\u001b[0m\u001b[0;34m,\u001b[0m \u001b[0maxis\u001b[0m\u001b[0;34m)\u001b[0m\u001b[0;34m\u001b[0m\u001b[0;34m\u001b[0m\u001b[0m\n\u001b[0m\u001b[1;32m   1315\u001b[0m \u001b[0;34m\u001b[0m\u001b[0m\n\u001b[1;32m   1316\u001b[0m         if needs_i8_conversion(ax.dtype) or isinstance(\n",
            "\u001b[0;32m/usr/local/lib/python3.7/dist-packages/pandas/core/indexing.py\u001b[0m in \u001b[0;36m_validate_read_indexer\u001b[0;34m(self, key, indexer, axis)\u001b[0m\n\u001b[1;32m   1375\u001b[0m \u001b[0;34m\u001b[0m\u001b[0m\n\u001b[1;32m   1376\u001b[0m             \u001b[0mnot_found\u001b[0m \u001b[0;34m=\u001b[0m \u001b[0mlist\u001b[0m\u001b[0;34m(\u001b[0m\u001b[0mensure_index\u001b[0m\u001b[0;34m(\u001b[0m\u001b[0mkey\u001b[0m\u001b[0;34m)\u001b[0m\u001b[0;34m[\u001b[0m\u001b[0mmissing_mask\u001b[0m\u001b[0;34m.\u001b[0m\u001b[0mnonzero\u001b[0m\u001b[0;34m(\u001b[0m\u001b[0;34m)\u001b[0m\u001b[0;34m[\u001b[0m\u001b[0;36m0\u001b[0m\u001b[0;34m]\u001b[0m\u001b[0;34m]\u001b[0m\u001b[0;34m.\u001b[0m\u001b[0munique\u001b[0m\u001b[0;34m(\u001b[0m\u001b[0;34m)\u001b[0m\u001b[0;34m)\u001b[0m\u001b[0;34m\u001b[0m\u001b[0;34m\u001b[0m\u001b[0m\n\u001b[0;32m-> 1377\u001b[0;31m             \u001b[0;32mraise\u001b[0m \u001b[0mKeyError\u001b[0m\u001b[0;34m(\u001b[0m\u001b[0;34mf\"{not_found} not in index\"\u001b[0m\u001b[0;34m)\u001b[0m\u001b[0;34m\u001b[0m\u001b[0;34m\u001b[0m\u001b[0m\n\u001b[0m\u001b[1;32m   1378\u001b[0m \u001b[0;34m\u001b[0m\u001b[0m\n\u001b[1;32m   1379\u001b[0m \u001b[0;34m\u001b[0m\u001b[0m\n",
            "\u001b[0;31mKeyError\u001b[0m: \"['uf', 'volume'] not in index\""
          ]
        }
      ]
    },
    {
      "cell_type": "code",
      "source": [
        "# Renomear colunas remanescentes, de acordo com o schema proposto.\n",
        "\n",
        "df.rename(columns = {'estado':'uf', 'value':'volume'}, inplace = True)"
      ],
      "metadata": {
        "id": "9Qhhx69GqmHi"
      },
      "execution_count": null,
      "outputs": []
    },
    {
      "cell_type": "code",
      "source": [
        "# Alterar o type da coluna 'volume' para double.\n",
        "\n",
        "df['volume'] = pd.to_numeric(df['volume'])"
      ],
      "metadata": {
        "id": "Z8lzLcFk4eLG"
      },
      "execution_count": null,
      "outputs": []
    },
    {
      "cell_type": "markdown",
      "source": [
        "### Criação da coluna 'created_at'"
      ],
      "metadata": {
        "id": "dY8HhJ-l5Ocm"
      }
    },
    {
      "cell_type": "code",
      "source": [
        "# Criar a tabela 'created_at' para receber o timestamp.\n",
        "\n",
        "dt = datetime.now()\n",
        "df['created_at'] = datetime.timestamp(dt)"
      ],
      "metadata": {
        "id": "h8Bnqc_e5Swo"
      },
      "execution_count": null,
      "outputs": []
    },
    {
      "cell_type": "code",
      "source": [
        "# Visualização com sample para diversificar a exibição dos resultados.\n",
        "\n",
        "df.sample(10)"
      ],
      "metadata": {
        "colab": {
          "base_uri": "https://localhost:8080/",
          "height": 363
        },
        "id": "Wr28SF3p5SoT",
        "outputId": "debfe554-1946-4748-894c-a3ca5cf56644"
      },
      "execution_count": null,
      "outputs": [
        {
          "output_type": "execute_result",
          "data": {
            "text/plain": [
              "                    product  uf unit        volume     year_month  \\\n",
              "9046       OLEO COMBUSTÍVEL  AC   m3  0.000000e+00  2000-February   \n",
              "67663  OLEO DIESEL MARITIMO  AC   m3  0.000000e+00  2020-November   \n",
              "73781  OLEO DIESEL - OUTROS  ES   m3  5.500000e+01  2019-December   \n",
              "13628  QUEROSENE ILUMINANTE  PR   m3  5.214450e+02     2002-March   \n",
              "33742           OLEO DIESEL  SP   m3  1.031306e+06      2015-June   \n",
              "13364   GASOLINA DE AVIACAO  DF   m3  5.861083e+01     2013-March   \n",
              "39040  QUEROSENE DE AVIACAO  GO   m3  2.958898e+03      2002-July   \n",
              "25777   GASOLINA DE AVIACAO  SP   m3  1.382437e+03       2013-May   \n",
              "65141      OLEO COMBUSTÍVEL  ES   m3  3.276199e+04  2007-November   \n",
              "64499           OLEO DIESEL  MS   m3  9.410449e+04  2004-November   \n",
              "\n",
              "         created_at  \n",
              "9046   1.663079e+09  \n",
              "67663  1.663079e+09  \n",
              "73781  1.663079e+09  \n",
              "13628  1.663079e+09  \n",
              "33742  1.663079e+09  \n",
              "13364  1.663079e+09  \n",
              "39040  1.663079e+09  \n",
              "25777  1.663079e+09  \n",
              "65141  1.663079e+09  \n",
              "64499  1.663079e+09  "
            ],
            "text/html": [
              "\n",
              "  <div id=\"df-939de0af-7e9c-4894-8c97-033a3f5bbcd2\">\n",
              "    <div class=\"colab-df-container\">\n",
              "      <div>\n",
              "<style scoped>\n",
              "    .dataframe tbody tr th:only-of-type {\n",
              "        vertical-align: middle;\n",
              "    }\n",
              "\n",
              "    .dataframe tbody tr th {\n",
              "        vertical-align: top;\n",
              "    }\n",
              "\n",
              "    .dataframe thead th {\n",
              "        text-align: right;\n",
              "    }\n",
              "</style>\n",
              "<table border=\"1\" class=\"dataframe\">\n",
              "  <thead>\n",
              "    <tr style=\"text-align: right;\">\n",
              "      <th></th>\n",
              "      <th>product</th>\n",
              "      <th>uf</th>\n",
              "      <th>unit</th>\n",
              "      <th>volume</th>\n",
              "      <th>year_month</th>\n",
              "      <th>created_at</th>\n",
              "    </tr>\n",
              "  </thead>\n",
              "  <tbody>\n",
              "    <tr>\n",
              "      <th>9046</th>\n",
              "      <td>OLEO COMBUSTÍVEL</td>\n",
              "      <td>AC</td>\n",
              "      <td>m3</td>\n",
              "      <td>0.000000e+00</td>\n",
              "      <td>2000-February</td>\n",
              "      <td>1.663079e+09</td>\n",
              "    </tr>\n",
              "    <tr>\n",
              "      <th>67663</th>\n",
              "      <td>OLEO DIESEL MARITIMO</td>\n",
              "      <td>AC</td>\n",
              "      <td>m3</td>\n",
              "      <td>0.000000e+00</td>\n",
              "      <td>2020-November</td>\n",
              "      <td>1.663079e+09</td>\n",
              "    </tr>\n",
              "    <tr>\n",
              "      <th>73781</th>\n",
              "      <td>OLEO DIESEL - OUTROS</td>\n",
              "      <td>ES</td>\n",
              "      <td>m3</td>\n",
              "      <td>5.500000e+01</td>\n",
              "      <td>2019-December</td>\n",
              "      <td>1.663079e+09</td>\n",
              "    </tr>\n",
              "    <tr>\n",
              "      <th>13628</th>\n",
              "      <td>QUEROSENE ILUMINANTE</td>\n",
              "      <td>PR</td>\n",
              "      <td>m3</td>\n",
              "      <td>5.214450e+02</td>\n",
              "      <td>2002-March</td>\n",
              "      <td>1.663079e+09</td>\n",
              "    </tr>\n",
              "    <tr>\n",
              "      <th>33742</th>\n",
              "      <td>OLEO DIESEL</td>\n",
              "      <td>SP</td>\n",
              "      <td>m3</td>\n",
              "      <td>1.031306e+06</td>\n",
              "      <td>2015-June</td>\n",
              "      <td>1.663079e+09</td>\n",
              "    </tr>\n",
              "    <tr>\n",
              "      <th>13364</th>\n",
              "      <td>GASOLINA DE AVIACAO</td>\n",
              "      <td>DF</td>\n",
              "      <td>m3</td>\n",
              "      <td>5.861083e+01</td>\n",
              "      <td>2013-March</td>\n",
              "      <td>1.663079e+09</td>\n",
              "    </tr>\n",
              "    <tr>\n",
              "      <th>39040</th>\n",
              "      <td>QUEROSENE DE AVIACAO</td>\n",
              "      <td>GO</td>\n",
              "      <td>m3</td>\n",
              "      <td>2.958898e+03</td>\n",
              "      <td>2002-July</td>\n",
              "      <td>1.663079e+09</td>\n",
              "    </tr>\n",
              "    <tr>\n",
              "      <th>25777</th>\n",
              "      <td>GASOLINA DE AVIACAO</td>\n",
              "      <td>SP</td>\n",
              "      <td>m3</td>\n",
              "      <td>1.382437e+03</td>\n",
              "      <td>2013-May</td>\n",
              "      <td>1.663079e+09</td>\n",
              "    </tr>\n",
              "    <tr>\n",
              "      <th>65141</th>\n",
              "      <td>OLEO COMBUSTÍVEL</td>\n",
              "      <td>ES</td>\n",
              "      <td>m3</td>\n",
              "      <td>3.276199e+04</td>\n",
              "      <td>2007-November</td>\n",
              "      <td>1.663079e+09</td>\n",
              "    </tr>\n",
              "    <tr>\n",
              "      <th>64499</th>\n",
              "      <td>OLEO DIESEL</td>\n",
              "      <td>MS</td>\n",
              "      <td>m3</td>\n",
              "      <td>9.410449e+04</td>\n",
              "      <td>2004-November</td>\n",
              "      <td>1.663079e+09</td>\n",
              "    </tr>\n",
              "  </tbody>\n",
              "</table>\n",
              "</div>\n",
              "      <button class=\"colab-df-convert\" onclick=\"convertToInteractive('df-939de0af-7e9c-4894-8c97-033a3f5bbcd2')\"\n",
              "              title=\"Convert this dataframe to an interactive table.\"\n",
              "              style=\"display:none;\">\n",
              "        \n",
              "  <svg xmlns=\"http://www.w3.org/2000/svg\" height=\"24px\"viewBox=\"0 0 24 24\"\n",
              "       width=\"24px\">\n",
              "    <path d=\"M0 0h24v24H0V0z\" fill=\"none\"/>\n",
              "    <path d=\"M18.56 5.44l.94 2.06.94-2.06 2.06-.94-2.06-.94-.94-2.06-.94 2.06-2.06.94zm-11 1L8.5 8.5l.94-2.06 2.06-.94-2.06-.94L8.5 2.5l-.94 2.06-2.06.94zm10 10l.94 2.06.94-2.06 2.06-.94-2.06-.94-.94-2.06-.94 2.06-2.06.94z\"/><path d=\"M17.41 7.96l-1.37-1.37c-.4-.4-.92-.59-1.43-.59-.52 0-1.04.2-1.43.59L10.3 9.45l-7.72 7.72c-.78.78-.78 2.05 0 2.83L4 21.41c.39.39.9.59 1.41.59.51 0 1.02-.2 1.41-.59l7.78-7.78 2.81-2.81c.8-.78.8-2.07 0-2.86zM5.41 20L4 18.59l7.72-7.72 1.47 1.35L5.41 20z\"/>\n",
              "  </svg>\n",
              "      </button>\n",
              "      \n",
              "  <style>\n",
              "    .colab-df-container {\n",
              "      display:flex;\n",
              "      flex-wrap:wrap;\n",
              "      gap: 12px;\n",
              "    }\n",
              "\n",
              "    .colab-df-convert {\n",
              "      background-color: #E8F0FE;\n",
              "      border: none;\n",
              "      border-radius: 50%;\n",
              "      cursor: pointer;\n",
              "      display: none;\n",
              "      fill: #1967D2;\n",
              "      height: 32px;\n",
              "      padding: 0 0 0 0;\n",
              "      width: 32px;\n",
              "    }\n",
              "\n",
              "    .colab-df-convert:hover {\n",
              "      background-color: #E2EBFA;\n",
              "      box-shadow: 0px 1px 2px rgba(60, 64, 67, 0.3), 0px 1px 3px 1px rgba(60, 64, 67, 0.15);\n",
              "      fill: #174EA6;\n",
              "    }\n",
              "\n",
              "    [theme=dark] .colab-df-convert {\n",
              "      background-color: #3B4455;\n",
              "      fill: #D2E3FC;\n",
              "    }\n",
              "\n",
              "    [theme=dark] .colab-df-convert:hover {\n",
              "      background-color: #434B5C;\n",
              "      box-shadow: 0px 1px 3px 1px rgba(0, 0, 0, 0.15);\n",
              "      filter: drop-shadow(0px 1px 2px rgba(0, 0, 0, 0.3));\n",
              "      fill: #FFFFFF;\n",
              "    }\n",
              "  </style>\n",
              "\n",
              "      <script>\n",
              "        const buttonEl =\n",
              "          document.querySelector('#df-939de0af-7e9c-4894-8c97-033a3f5bbcd2 button.colab-df-convert');\n",
              "        buttonEl.style.display =\n",
              "          google.colab.kernel.accessAllowed ? 'block' : 'none';\n",
              "\n",
              "        async function convertToInteractive(key) {\n",
              "          const element = document.querySelector('#df-939de0af-7e9c-4894-8c97-033a3f5bbcd2');\n",
              "          const dataTable =\n",
              "            await google.colab.kernel.invokeFunction('convertToInteractive',\n",
              "                                                     [key], {});\n",
              "          if (!dataTable) return;\n",
              "\n",
              "          const docLinkHtml = 'Like what you see? Visit the ' +\n",
              "            '<a target=\"_blank\" href=https://colab.research.google.com/notebooks/data_table.ipynb>data table notebook</a>'\n",
              "            + ' to learn more about interactive tables.';\n",
              "          element.innerHTML = '';\n",
              "          dataTable['output_type'] = 'display_data';\n",
              "          await google.colab.output.renderOutput(dataTable, element);\n",
              "          const docLink = document.createElement('div');\n",
              "          docLink.innerHTML = docLinkHtml;\n",
              "          element.appendChild(docLink);\n",
              "        }\n",
              "      </script>\n",
              "    </div>\n",
              "  </div>\n",
              "  "
            ]
          },
          "metadata": {},
          "execution_count": 87
        }
      ]
    },
    {
      "cell_type": "markdown",
      "source": [
        "# Validação do Schema"
      ],
      "metadata": {
        "id": "KkgtFIImsoa9"
      }
    },
    {
      "cell_type": "code",
      "source": [
        "# Criar o Schema de dados (validação).\n",
        "\n",
        "schema = pa.DataFrameSchema(\n",
        "      columns = {\n",
        "          'year_month':pa.Column(pa.Object),\n",
        "          'uf':pa.Column(pa.String),\n",
        "          'product':pa.Column(pa.String),\n",
        "          'unit':pa.Column(pa.String),\n",
        "          'volume':pa.Column(pa.Float)\n",
        "          }     \n",
        ")"
      ],
      "metadata": {
        "id": "nk7eZxrVsnas"
      },
      "execution_count": null,
      "outputs": []
    },
    {
      "cell_type": "code",
      "source": [
        "# Verificar validação\n",
        "\n",
        "schema.validate(df)"
      ],
      "metadata": {
        "colab": {
          "base_uri": "https://localhost:8080/",
          "height": 424
        },
        "id": "9fdctqOfsi_F",
        "outputId": "6dc73a84-6f1e-458b-ee9e-cc7c20210d05"
      },
      "execution_count": null,
      "outputs": [
        {
          "output_type": "execute_result",
          "data": {
            "text/plain": [
              "            product  uf unit         volume     year_month    created_at\n",
              "0        GASOLINA C  RO   m3  136073.253000   2000-January  1.663079e+09\n",
              "1        GASOLINA C  AC   m3    3358.346000   2000-January  1.663079e+09\n",
              "2        GASOLINA C  AM   m3   20766.918000   2000-January  1.663079e+09\n",
              "3        GASOLINA C  RR   m3    3716.032000   2000-January  1.663079e+09\n",
              "4        GASOLINA C  PA   m3   29755.907000   2000-January  1.663079e+09\n",
              "...             ...  ..  ...            ...            ...           ...\n",
              "74515  GLP - OUTROS  RS   m3   30176.443841  2020-December  1.663079e+09\n",
              "74516  GLP - OUTROS  MS   m3    2519.914855  2020-December  1.663079e+09\n",
              "74517  GLP - OUTROS  MT   m3    3263.902174  2020-December  1.663079e+09\n",
              "74518  GLP - OUTROS  GO   m3   14036.737319  2020-December  1.663079e+09\n",
              "74519  GLP - OUTROS  DF   m3    5350.067029  2020-December  1.663079e+09\n",
              "\n",
              "[74520 rows x 6 columns]"
            ],
            "text/html": [
              "\n",
              "  <div id=\"df-7be4c6dd-be70-4fac-a86c-785807aded02\">\n",
              "    <div class=\"colab-df-container\">\n",
              "      <div>\n",
              "<style scoped>\n",
              "    .dataframe tbody tr th:only-of-type {\n",
              "        vertical-align: middle;\n",
              "    }\n",
              "\n",
              "    .dataframe tbody tr th {\n",
              "        vertical-align: top;\n",
              "    }\n",
              "\n",
              "    .dataframe thead th {\n",
              "        text-align: right;\n",
              "    }\n",
              "</style>\n",
              "<table border=\"1\" class=\"dataframe\">\n",
              "  <thead>\n",
              "    <tr style=\"text-align: right;\">\n",
              "      <th></th>\n",
              "      <th>product</th>\n",
              "      <th>uf</th>\n",
              "      <th>unit</th>\n",
              "      <th>volume</th>\n",
              "      <th>year_month</th>\n",
              "      <th>created_at</th>\n",
              "    </tr>\n",
              "  </thead>\n",
              "  <tbody>\n",
              "    <tr>\n",
              "      <th>0</th>\n",
              "      <td>GASOLINA C</td>\n",
              "      <td>RO</td>\n",
              "      <td>m3</td>\n",
              "      <td>136073.253000</td>\n",
              "      <td>2000-January</td>\n",
              "      <td>1.663079e+09</td>\n",
              "    </tr>\n",
              "    <tr>\n",
              "      <th>1</th>\n",
              "      <td>GASOLINA C</td>\n",
              "      <td>AC</td>\n",
              "      <td>m3</td>\n",
              "      <td>3358.346000</td>\n",
              "      <td>2000-January</td>\n",
              "      <td>1.663079e+09</td>\n",
              "    </tr>\n",
              "    <tr>\n",
              "      <th>2</th>\n",
              "      <td>GASOLINA C</td>\n",
              "      <td>AM</td>\n",
              "      <td>m3</td>\n",
              "      <td>20766.918000</td>\n",
              "      <td>2000-January</td>\n",
              "      <td>1.663079e+09</td>\n",
              "    </tr>\n",
              "    <tr>\n",
              "      <th>3</th>\n",
              "      <td>GASOLINA C</td>\n",
              "      <td>RR</td>\n",
              "      <td>m3</td>\n",
              "      <td>3716.032000</td>\n",
              "      <td>2000-January</td>\n",
              "      <td>1.663079e+09</td>\n",
              "    </tr>\n",
              "    <tr>\n",
              "      <th>4</th>\n",
              "      <td>GASOLINA C</td>\n",
              "      <td>PA</td>\n",
              "      <td>m3</td>\n",
              "      <td>29755.907000</td>\n",
              "      <td>2000-January</td>\n",
              "      <td>1.663079e+09</td>\n",
              "    </tr>\n",
              "    <tr>\n",
              "      <th>...</th>\n",
              "      <td>...</td>\n",
              "      <td>...</td>\n",
              "      <td>...</td>\n",
              "      <td>...</td>\n",
              "      <td>...</td>\n",
              "      <td>...</td>\n",
              "    </tr>\n",
              "    <tr>\n",
              "      <th>74515</th>\n",
              "      <td>GLP - OUTROS</td>\n",
              "      <td>RS</td>\n",
              "      <td>m3</td>\n",
              "      <td>30176.443841</td>\n",
              "      <td>2020-December</td>\n",
              "      <td>1.663079e+09</td>\n",
              "    </tr>\n",
              "    <tr>\n",
              "      <th>74516</th>\n",
              "      <td>GLP - OUTROS</td>\n",
              "      <td>MS</td>\n",
              "      <td>m3</td>\n",
              "      <td>2519.914855</td>\n",
              "      <td>2020-December</td>\n",
              "      <td>1.663079e+09</td>\n",
              "    </tr>\n",
              "    <tr>\n",
              "      <th>74517</th>\n",
              "      <td>GLP - OUTROS</td>\n",
              "      <td>MT</td>\n",
              "      <td>m3</td>\n",
              "      <td>3263.902174</td>\n",
              "      <td>2020-December</td>\n",
              "      <td>1.663079e+09</td>\n",
              "    </tr>\n",
              "    <tr>\n",
              "      <th>74518</th>\n",
              "      <td>GLP - OUTROS</td>\n",
              "      <td>GO</td>\n",
              "      <td>m3</td>\n",
              "      <td>14036.737319</td>\n",
              "      <td>2020-December</td>\n",
              "      <td>1.663079e+09</td>\n",
              "    </tr>\n",
              "    <tr>\n",
              "      <th>74519</th>\n",
              "      <td>GLP - OUTROS</td>\n",
              "      <td>DF</td>\n",
              "      <td>m3</td>\n",
              "      <td>5350.067029</td>\n",
              "      <td>2020-December</td>\n",
              "      <td>1.663079e+09</td>\n",
              "    </tr>\n",
              "  </tbody>\n",
              "</table>\n",
              "<p>74520 rows × 6 columns</p>\n",
              "</div>\n",
              "      <button class=\"colab-df-convert\" onclick=\"convertToInteractive('df-7be4c6dd-be70-4fac-a86c-785807aded02')\"\n",
              "              title=\"Convert this dataframe to an interactive table.\"\n",
              "              style=\"display:none;\">\n",
              "        \n",
              "  <svg xmlns=\"http://www.w3.org/2000/svg\" height=\"24px\"viewBox=\"0 0 24 24\"\n",
              "       width=\"24px\">\n",
              "    <path d=\"M0 0h24v24H0V0z\" fill=\"none\"/>\n",
              "    <path d=\"M18.56 5.44l.94 2.06.94-2.06 2.06-.94-2.06-.94-.94-2.06-.94 2.06-2.06.94zm-11 1L8.5 8.5l.94-2.06 2.06-.94-2.06-.94L8.5 2.5l-.94 2.06-2.06.94zm10 10l.94 2.06.94-2.06 2.06-.94-2.06-.94-.94-2.06-.94 2.06-2.06.94z\"/><path d=\"M17.41 7.96l-1.37-1.37c-.4-.4-.92-.59-1.43-.59-.52 0-1.04.2-1.43.59L10.3 9.45l-7.72 7.72c-.78.78-.78 2.05 0 2.83L4 21.41c.39.39.9.59 1.41.59.51 0 1.02-.2 1.41-.59l7.78-7.78 2.81-2.81c.8-.78.8-2.07 0-2.86zM5.41 20L4 18.59l7.72-7.72 1.47 1.35L5.41 20z\"/>\n",
              "  </svg>\n",
              "      </button>\n",
              "      \n",
              "  <style>\n",
              "    .colab-df-container {\n",
              "      display:flex;\n",
              "      flex-wrap:wrap;\n",
              "      gap: 12px;\n",
              "    }\n",
              "\n",
              "    .colab-df-convert {\n",
              "      background-color: #E8F0FE;\n",
              "      border: none;\n",
              "      border-radius: 50%;\n",
              "      cursor: pointer;\n",
              "      display: none;\n",
              "      fill: #1967D2;\n",
              "      height: 32px;\n",
              "      padding: 0 0 0 0;\n",
              "      width: 32px;\n",
              "    }\n",
              "\n",
              "    .colab-df-convert:hover {\n",
              "      background-color: #E2EBFA;\n",
              "      box-shadow: 0px 1px 2px rgba(60, 64, 67, 0.3), 0px 1px 3px 1px rgba(60, 64, 67, 0.15);\n",
              "      fill: #174EA6;\n",
              "    }\n",
              "\n",
              "    [theme=dark] .colab-df-convert {\n",
              "      background-color: #3B4455;\n",
              "      fill: #D2E3FC;\n",
              "    }\n",
              "\n",
              "    [theme=dark] .colab-df-convert:hover {\n",
              "      background-color: #434B5C;\n",
              "      box-shadow: 0px 1px 3px 1px rgba(0, 0, 0, 0.15);\n",
              "      filter: drop-shadow(0px 1px 2px rgba(0, 0, 0, 0.3));\n",
              "      fill: #FFFFFF;\n",
              "    }\n",
              "  </style>\n",
              "\n",
              "      <script>\n",
              "        const buttonEl =\n",
              "          document.querySelector('#df-7be4c6dd-be70-4fac-a86c-785807aded02 button.colab-df-convert');\n",
              "        buttonEl.style.display =\n",
              "          google.colab.kernel.accessAllowed ? 'block' : 'none';\n",
              "\n",
              "        async function convertToInteractive(key) {\n",
              "          const element = document.querySelector('#df-7be4c6dd-be70-4fac-a86c-785807aded02');\n",
              "          const dataTable =\n",
              "            await google.colab.kernel.invokeFunction('convertToInteractive',\n",
              "                                                     [key], {});\n",
              "          if (!dataTable) return;\n",
              "\n",
              "          const docLinkHtml = 'Like what you see? Visit the ' +\n",
              "            '<a target=\"_blank\" href=https://colab.research.google.com/notebooks/data_table.ipynb>data table notebook</a>'\n",
              "            + ' to learn more about interactive tables.';\n",
              "          element.innerHTML = '';\n",
              "          dataTable['output_type'] = 'display_data';\n",
              "          await google.colab.output.renderOutput(dataTable, element);\n",
              "          const docLink = document.createElement('div');\n",
              "          docLink.innerHTML = docLinkHtml;\n",
              "          element.appendChild(docLink);\n",
              "        }\n",
              "      </script>\n",
              "    </div>\n",
              "  </div>\n",
              "  "
            ]
          },
          "metadata": {},
          "execution_count": 89
        }
      ]
    },
    {
      "cell_type": "code",
      "source": [],
      "metadata": {
        "id": "THIJOLquP65I"
      },
      "execution_count": null,
      "outputs": []
    }
  ]
}